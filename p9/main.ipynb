{
 "cells": [
  {
   "cell_type": "code",
   "execution_count": 1,
   "metadata": {},
   "outputs": [],
   "source": [
    "# project: p9\n",
    "# submitter: wchen394\n",
    "# partner: zyu293\n",
    "# hours: 2"
   ]
  },
  {
   "cell_type": "code",
   "execution_count": 2,
   "metadata": {},
   "outputs": [],
   "source": [
    "import csv\n",
    "import copy \n",
    "import matplotlib\n",
    "import pandas\n",
    "\n",
    "# Allows you to render matplotlib graphs in the same notebook\n",
    "%matplotlib inline \n",
    "\n",
    "def plot_dict(d, label=\"Please Label Me!!!\"):\n",
    "    ax = pandas.Series(d).sort_index().plot.bar(color=\"black\", fontsize=16)\n",
    "    ax.set_ylabel(label, fontsize=16)"
   ]
  },
  {
   "cell_type": "code",
   "execution_count": 3,
   "metadata": {},
   "outputs": [],
   "source": [
    "def get_mapping(path):\n",
    "    map_file = open(path, encoding='utf-8')\n",
    "    file_reader = csv.reader(map_file)\n",
    "    map_data = dict(file_reader)\n",
    "    map_file.close()\n",
    "    return map_data\n",
    "def get_raw_movies(path):\n",
    "    movie_file = open(path, encoding='utf-8')\n",
    "    movie_reader = csv.reader(movie_file)\n",
    "    movie_data = list(movie_reader)\n",
    "    header = movie_data[0]\n",
    "    movie_data = movie_data[1:]\n",
    "    ret = list()\n",
    "    for element in movie_data:\n",
    "        res = list()\n",
    "        ind = 0\n",
    "        while ind != 7:\n",
    "            if header[ind] == 'directors' or header[ind] == 'actors' or header[ind] == 'genres':\n",
    "                temp = list()\n",
    "                temp.append(header[ind])\n",
    "                temp.append((element[ind]).split(', '))\n",
    "                res.append(temp)\n",
    "            elif header[ind] == 'rating':\n",
    "                temp = list()\n",
    "                temp.append(header[ind])\n",
    "                temp.append(float(element[ind]))\n",
    "                res.append(temp)\n",
    "            elif header[ind] == 'year' or header[ind] == 'duration':\n",
    "                temp = list()\n",
    "                temp.append(header[ind])\n",
    "                temp.append(int(element[ind]))\n",
    "                res.append(temp)\n",
    "            elif header[ind] == 'rating':\n",
    "                temp = list()\n",
    "                temp.append(header[ind])\n",
    "                temp.append(float(element[ind]))\n",
    "                res.append(temp)\n",
    "            else:\n",
    "                temp = list()\n",
    "                temp.append(header[ind])\n",
    "                temp.append(element[ind])\n",
    "                res.append(temp)\n",
    "            ind += 1\n",
    "        ret.append(dict(res))\n",
    "    \n",
    "    return ret\n",
    "def get_movies(movies_path, mapping_path):\n",
    "    raw_movies_8 = get_raw_movies(movies_path)\n",
    "    raw_map = get_mapping(mapping_path)\n",
    "    for ele in raw_movies_8:\n",
    "            ele['title'] = raw_map[ele['title']]\n",
    "            for j in range(len(ele['directors'])):\n",
    "                ele['directors'][j] = raw_map[ele['directors'][j]]\n",
    "            for z in range(len(ele['actors'])):\n",
    "                ele['actors'][z] = raw_map[ele['actors'][z]]\n",
    "    return raw_movies_8\n"
   ]
  },
  {
   "cell_type": "code",
   "execution_count": 4,
   "metadata": {},
   "outputs": [],
   "source": [
    "movies = get_movies(\"movies.csv\", \"mapping.csv\")"
   ]
  },
  {
   "cell_type": "code",
   "execution_count": 5,
   "metadata": {},
   "outputs": [],
   "source": [
    "def avg_rating_less():\n",
    "    cnt = 0\n",
    "    sum_1 = 0\n",
    "    for movie in movies:\n",
    "        if len(movie['actors']) < 5:\n",
    "            sum_1 += movie['rating']\n",
    "            cnt += 1\n",
    "    return sum_1 / cnt"
   ]
  },
  {
   "cell_type": "code",
   "execution_count": 6,
   "metadata": {},
   "outputs": [
    {
     "data": {
      "text/plain": [
       "5.610010813644878"
      ]
     },
     "execution_count": 6,
     "metadata": {},
     "output_type": "execute_result"
    }
   ],
   "source": [
    "#q1 Find the average rating for movies with less than 5 actors/actresses?\n",
    "avg_rating_less()"
   ]
  },
  {
   "cell_type": "code",
   "execution_count": 7,
   "metadata": {},
   "outputs": [],
   "source": [
    "def avg_rating_more():\n",
    "    cnt = 0\n",
    "    sum_2 = 0\n",
    "    for movie in movies:\n",
    "        if len(movie['actors']) >= 5:\n",
    "            sum_2 += movie['rating']\n",
    "            cnt += 1\n",
    "    return sum_2 / cnt"
   ]
  },
  {
   "cell_type": "code",
   "execution_count": 8,
   "metadata": {},
   "outputs": [
    {
     "data": {
      "text/plain": [
       "5.64560928433269"
      ]
     },
     "execution_count": 8,
     "metadata": {},
     "output_type": "execute_result"
    }
   ],
   "source": [
    "#q2 Find the average rating for movies with at least 5 actors/actresses?\n",
    "avg_rating_more()"
   ]
  },
  {
   "cell_type": "code",
   "execution_count": 9,
   "metadata": {},
   "outputs": [],
   "source": [
    "def avg_rating_start():\n",
    "    cnt = 0\n",
    "    sum_3 = 0\n",
    "    for movie in movies:\n",
    "        if movie['title'][0].lower() == 'a':\n",
    "            sum_3 += movie['rating']\n",
    "            cnt += 1\n",
    "    return sum_3 / cnt"
   ]
  },
  {
   "cell_type": "code",
   "execution_count": 10,
   "metadata": {},
   "outputs": [
    {
     "data": {
      "text/plain": [
       "5.511147540983598"
      ]
     },
     "execution_count": 10,
     "metadata": {},
     "output_type": "execute_result"
    }
   ],
   "source": [
    "#q3 What is the average rating of movies which start with the letter 'a' (case insensitive)?\n",
    "avg_rating_start()"
   ]
  },
  {
   "cell_type": "code",
   "execution_count": 11,
   "metadata": {},
   "outputs": [],
   "source": [
    "def get_rating_4(name):\n",
    "    res = []\n",
    "    ind = 0\n",
    "    for i in range(len(movies)):\n",
    "        if name in movies[i]['actors']:\n",
    "            tmp = list()\n",
    "            tmp.append(movies[i]['title'])\n",
    "            tmp.append(movies[i]['rating'])\n",
    "            res.append(tmp)\n",
    "    return dict(res)"
   ]
  },
  {
   "cell_type": "code",
   "execution_count": 12,
   "metadata": {},
   "outputs": [
    {
     "data": {
      "image/png": "[encoded data removed]",
      "text/plain": [
       "<Figure size 432x288 with 1 Axes>"
      ]
     },
     "metadata": {
      "needs_background": "light"
     },
     "output_type": "display_data"
    }
   ],
   "source": [
    "#q4 Plot the title vs rating of movies featuring \"Emma Stone\".\n",
    "q4_data = get_rating_4('Emma Stone')\n",
    "plot_dict(q4_data)"
   ]
  },
  {
   "cell_type": "code",
   "execution_count": 13,
   "metadata": {},
   "outputs": [],
   "source": [
    "def get_rating_5(name):\n",
    "    res = []\n",
    "    ind = 0\n",
    "    for i in range(len(movies)):\n",
    "        if name in movies[i]['directors']:\n",
    "            tmp = list()\n",
    "            tmp.append(movies[i]['title'])\n",
    "            tmp.append(movies[i]['rating'])\n",
    "            res.append(tmp)\n",
    "    return dict(res)"
   ]
  },
  {
   "cell_type": "code",
   "execution_count": 14,
   "metadata": {},
   "outputs": [
    {
     "data": {
      "image/png": "[encoded data removed]",
      "text/plain": [
       "<Figure size 432x288 with 1 Axes>"
      ]
     },
     "metadata": {
      "needs_background": "light"
     },
     "output_type": "display_data"
    }
   ],
   "source": [
    "#q5 Plot the title vs rating of movies directed by \"Quentin Tarantino\".\n",
    "q5_data = get_rating_5('Quentin Tarantino')\n",
    "plot_dict(q5_data)"
   ]
  },
  {
   "cell_type": "code",
   "execution_count": 15,
   "metadata": {},
   "outputs": [],
   "source": [
    "def get_num_movie(name):\n",
    "    ret = 0\n",
    "    for i in range(len(movies)):\n",
    "        if name in movies[i]['actors']:\n",
    "            ret += 1\n",
    "    return ret\n",
    "\n",
    "def get_res_6(data):\n",
    "    res = []\n",
    "    for i in range(3):\n",
    "        tmp = list()\n",
    "        tmp.append(data[i])\n",
    "        tmp.append(get_num_movie(data[i]))\n",
    "        res.append(tmp)\n",
    "    return dict(res)"
   ]
  },
  {
   "cell_type": "code",
   "execution_count": 16,
   "metadata": {},
   "outputs": [
    {
     "data": {
      "image/png": "[encoded data removed]",
      "text/plain": [
       "<Figure size 432x288 with 1 Axes>"
      ]
     },
     "metadata": {
      "needs_background": "light"
     },
     "output_type": "display_data"
    }
   ],
   "source": [
    "#q6 Plot the number of movies played by [\"John Wayne\", \"Edward Norton\", \"Danny Glover\"].\n",
    "data = []\n",
    "data.append('John Wayne')\n",
    "data.append('Edward Norton')\n",
    "data.append('Danny Glover')\n",
    "data_6 = get_res_6(data)\n",
    "plot_dict(data_6)"
   ]
  },
  {
   "cell_type": "code",
   "execution_count": 17,
   "metadata": {},
   "outputs": [],
   "source": [
    "def get_res_7():\n",
    "    res = []\n",
    "    dic = {}\n",
    "    for movie in movies:\n",
    "        if ord(str(movie['title'][0].lower())) >= 97 and  ord(str(movie['title'][0].lower())) <= 122:\n",
    "            dic[movie['title'][0].lower()] = 0\n",
    "    for movie in movies:\n",
    "        if ord(str(movie['title'][0].lower())) >= 97 and  ord(str(movie['title'][0].lower())) <= 122:\n",
    "            num = dic[movie['title'][0].lower()] + 1\n",
    "            dic[movie['title'][0].lower()] = num \n",
    "    for key in dic:\n",
    "        tmp = (key, dic[key])\n",
    "        res.append(tmp)\n",
    "    return res"
   ]
  },
  {
   "cell_type": "code",
   "execution_count": 18,
   "metadata": {},
   "outputs": [
    {
     "data": {
      "image/png": "[encoded data removed]",
      "text/plain": [
       "<Figure size 432x288 with 1 Axes>"
      ]
     },
     "metadata": {
      "needs_background": "light"
     },
     "output_type": "display_data"
    }
   ],
   "source": [
    "#q7 Plot the number of movies that start with each letter of the alphabet.\n",
    "data_7 = get_res_7()\n",
    "data_7.sort( key = lambda x : x[0])\n",
    "tmp = []\n",
    "for i in range(len(data_7)):\n",
    "    data_7[i] = list(data_7[i])\n",
    "data_7 = (dict(data_7))\n",
    "plot_dict(data_7)"
   ]
  },
  {
   "cell_type": "code",
   "execution_count": 19,
   "metadata": {},
   "outputs": [],
   "source": [
    "def get_res_8():\n",
    "    res = []\n",
    "    genre_buckets = {}\n",
    "    \n",
    "    for movie in movies:\n",
    "        for genre in movie['genres']:\n",
    "            genre_buckets[genre] = 0\n",
    "    for movie in movies:\n",
    "        for genre in movie['genres']:\n",
    "            num = genre_buckets[genre] + 1\n",
    "            genre_buckets[genre] = num \n",
    "    for key in genre_buckets:\n",
    "        tmp = []\n",
    "        tmp.append(key)\n",
    "        tmp.append(genre_buckets[key])\n",
    "        res.append(tmp)\n",
    "    return dict(res)"
   ]
  },
  {
   "cell_type": "code",
   "execution_count": 20,
   "metadata": {},
   "outputs": [
    {
     "data": {
      "image/png": "[encoded data removed]",
      "text/plain": [
       "<Figure size 432x288 with 1 Axes>"
      ]
     },
     "metadata": {
      "needs_background": "light"
     },
     "output_type": "display_data"
    }
   ],
   "source": [
    "#q8: Plot the number of movies there are for each genre.\n",
    "data_8 = get_res_8()\n",
    "plot_dict(data_8)"
   ]
  },
  {
   "cell_type": "code",
   "execution_count": 21,
   "metadata": {},
   "outputs": [],
   "source": [
    "def get_res_9():\n",
    "    res = []\n",
    "    dic = {}\n",
    "    for movie in movies:\n",
    "        if ord(str(movie['title'][0].lower())) >= 97 and ord(str(movie['title'][0].lower())) <= 122:\n",
    "            dic[movie['title'][0].lower()] = 0\n",
    "    for movie in movies:\n",
    "        if ord(str(movie['title'][0].lower())) >= 97 and ord(str(movie['title'][0].lower())) <= 122:\n",
    "            rating = dic[movie['title'][0].lower()] + movie['rating']\n",
    "            dic[movie['title'][0].lower()] = rating\n",
    "    for key in dic:\n",
    "        tmp = [key, dic[key]]\n",
    "        res.append(tmp)\n",
    "    for ele in res:\n",
    "        ele[1] /= data_7[ele[0]]\n",
    "    ret = []\n",
    "    for i in range(len(res)):\n",
    "        res[i] = tuple(res[i])\n",
    "    return res"
   ]
  },
  {
   "cell_type": "code",
   "execution_count": 22,
   "metadata": {},
   "outputs": [
    {
     "data": {
      "text/plain": [
       "{'a': 5.511147540983598,\n",
       " 'b': 5.534792734047502,\n",
       " 'c': 5.533487297921478,\n",
       " 'd': 5.306042296072506,\n",
       " 'e': 5.527586206896553,\n",
       " 'f': 5.550164473684206,\n",
       " 'g': 5.591002277904327,\n",
       " 'h': 5.565530022238699,\n",
       " 'i': 5.661092150170649,\n",
       " 'j': 5.7286561264822105,\n",
       " 'k': 5.453761061946899,\n",
       " 'l': 5.681399176954736,\n",
       " 'm': 5.740911713791118,\n",
       " 'n': 5.538386648122391,\n",
       " 'o': 5.72813067150635,\n",
       " 'p': 5.537211367673185,\n",
       " 'q': 5.615254237288137,\n",
       " 'r': 5.562799263351744,\n",
       " 's': 5.5558245614035195,\n",
       " 't': 5.768541456016157,\n",
       " 'u': 5.635842293906811,\n",
       " 'v': 5.301162790697679,\n",
       " 'w': 5.738674579624128,\n",
       " 'x': 5.690909090909093,\n",
       " 'y': 5.845142857142855,\n",
       " 'z': 5.050943396226414}"
      ]
     },
     "execution_count": 22,
     "metadata": {},
     "output_type": "execute_result"
    }
   ],
   "source": [
    "#q9 For each letter of the alphabet, what is the average rating of movies that start with that letter (case insensitive)?\n",
    "data_9 = get_res_9()\n",
    "data_9.sort( key = lambda x : x[0])\n",
    "for i in range(len(data_9)):\n",
    "    data_9[i] = list(data_9[i])\n",
    "data_9 = (dict(data_9))\n",
    "data_9"
   ]
  },
  {
   "cell_type": "code",
   "execution_count": 23,
   "metadata": {},
   "outputs": [],
   "source": [
    "def cnt_10():\n",
    "    res = []\n",
    "    dic = {}\n",
    "    for movie in movies:\n",
    "        for genre in movie['genres']:\n",
    "            dic[genre] = 0\n",
    "    for movie in movies:\n",
    "        for genre in movie['genres']:\n",
    "            num = dic[genre] + 1\n",
    "            dic[genre] = num \n",
    "    for key in dic:\n",
    "        tmp = [key, dic[key]]\n",
    "        res.append(tmp)\n",
    "    return dict(res)\n",
    "def get_res_10():\n",
    "    res = []\n",
    "    dic = {}\n",
    "    cnt = cnt_10()\n",
    "    for movie in movies:\n",
    "        for genre in movie['genres']:\n",
    "            dic[genre] = 0\n",
    "    for movie in movies:\n",
    "        for genre in movie['genres']:\n",
    "            rating = dic[genre] + movie['rating']\n",
    "            dic[genre] = rating\n",
    "    for key in dic:\n",
    "        tmp = [key, dic[key]]\n",
    "        res.append(tmp)\n",
    "    for ele in res:\n",
    "        ele[1] /= cnt[ele[0]]\n",
    "    \n",
    "    return dict(res)"
   ]
  },
  {
   "cell_type": "code",
   "execution_count": 24,
   "metadata": {},
   "outputs": [
    {
     "data": {
      "text/plain": [
       "{'Action': 5.338050258420967,\n",
       " 'Adventure': 5.746479605092239,\n",
       " 'Drama': 5.982285191956112,\n",
       " 'Biography': 6.608622398414282,\n",
       " 'Sport': 5.914867256637162,\n",
       " 'Horror': 4.582376811594196,\n",
       " 'Mystery': 5.640863251311018,\n",
       " 'Thriller': 5.1262921348314645,\n",
       " 'Comedy': 5.721581311769968,\n",
       " 'Family': 5.684858044164039,\n",
       " 'Romance': 6.0585086042065,\n",
       " 'Crime': 5.847321780228442,\n",
       " 'Western': 5.996176720475778,\n",
       " 'Fantasy': 5.464606376057261,\n",
       " 'Animation': 6.1353550295857975,\n",
       " 'Sci-Fi': 4.901396648044689,\n",
       " 'Film-Noir': 6.638948995363209,\n",
       " 'History': 6.45741626794258,\n",
       " 'War': 6.190500641848522,\n",
       " 'Musical': 6.151965993623801,\n",
       " 'Music': 6.07092511013216,\n",
       " 'News': 6.4,\n",
       " 'Documentary': 7.5,\n",
       " 'Reality-TV': 2.1}"
      ]
     },
     "execution_count": 24,
     "metadata": {},
     "output_type": "execute_result"
    }
   ],
   "source": [
    "#q10 What is the average movie rating for each genre?\n",
    "get_res_10()"
   ]
  },
  {
   "cell_type": "code",
   "execution_count": 25,
   "metadata": {},
   "outputs": [],
   "source": [
    "def get_res_11():\n",
    "    res = []\n",
    "    genre_buckets = {}\n",
    "    \n",
    "    for movie in movies:\n",
    "        for genre in movie['genres']:\n",
    "            if movie['rating'] > 8:\n",
    "                genre_buckets[genre] = 0\n",
    "    for movie in movies:\n",
    "        for genre in movie['genres']:\n",
    "            if movie['rating'] > 8:\n",
    "                num = genre_buckets[genre] + 1\n",
    "                genre_buckets[genre] = num \n",
    "    for key in genre_buckets:\n",
    "        tmp = []\n",
    "        tmp.append(key)\n",
    "        tmp.append(genre_buckets[key])\n",
    "        res.append(tmp)\n",
    "    return dict(res)"
   ]
  },
  {
   "cell_type": "code",
   "execution_count": 26,
   "metadata": {},
   "outputs": [
    {
     "data": {
      "text/plain": [
       "{'Action': 40,\n",
       " 'Adventure': 45,\n",
       " 'Drama': 155,\n",
       " 'Biography': 20,\n",
       " 'Crime': 50,\n",
       " 'Mystery': 24,\n",
       " 'Thriller': 32,\n",
       " 'Comedy': 50,\n",
       " 'Animation': 12,\n",
       " 'Family': 10,\n",
       " 'Sport': 6,\n",
       " 'History': 12,\n",
       " 'Musical': 9,\n",
       " 'Western': 8,\n",
       " 'Music': 8,\n",
       " 'Romance': 24,\n",
       " 'Sci-Fi': 19,\n",
       " 'Fantasy': 10,\n",
       " 'Film-Noir': 4,\n",
       " 'War': 14,\n",
       " 'Horror': 6}"
      ]
     },
     "execution_count": 26,
     "metadata": {},
     "output_type": "execute_result"
    }
   ],
   "source": [
    "#q11 How many movies in each genre have a rating of above 8? (rating > 8)\n",
    "get_res_11()"
   ]
  },
  {
   "cell_type": "code",
   "execution_count": 27,
   "metadata": {},
   "outputs": [],
   "source": [
    "def get_res_12():\n",
    "    res = []\n",
    "    dic = {}\n",
    "    for movie in movies:\n",
    "        if movie['year']>=2010 and movie['year']<=2020:\n",
    "            dic[movie['year']] = 0\n",
    "    for movie in movies:\n",
    "        if movie['year']>=2010 and movie['year']<=2020:\n",
    "            dic[movie['year']] += 1\n",
    "    for key in dic:\n",
    "        tmp = []\n",
    "        tmp.append(key)\n",
    "        tmp.append(dic[key])\n",
    "        res.append(tmp)\n",
    "    return dict(res)"
   ]
  },
  {
   "cell_type": "code",
   "execution_count": 28,
   "metadata": {},
   "outputs": [
    {
     "data": {
      "image/png": "[encoded data removed]",
      "text/plain": [
       "<Figure size 432x288 with 1 Axes>"
      ]
     },
     "metadata": {
      "needs_background": "light"
     },
     "output_type": "display_data"
    }
   ],
   "source": [
    "#q12 Plot the number of movies that were released each year in the last decade (2010<= year <=2020)\n",
    "data_12 = get_res_12()\n",
    "plot_dict(data_12)"
   ]
  },
  {
   "cell_type": "code",
   "execution_count": 29,
   "metadata": {},
   "outputs": [],
   "source": [
    "def get_res_13():\n",
    "    res = []\n",
    "    dic = {}\n",
    "    for movie in movies:\n",
    "            dic[movie['year']] = 0\n",
    "    for movie in movies:\n",
    "            dic[movie['year']] += 1\n",
    "    for key in dic:\n",
    "        tmp = []\n",
    "        tmp.append(key)\n",
    "        tmp.append(dic[key])\n",
    "        res.append(tmp)\n",
    "    max_value = 0\n",
    "    ret = []\n",
    "    for ele in res:\n",
    "        if max_value < ele[1]:\n",
    "            max_value = ele[1]\n",
    "    for ele in res:\n",
    "        if ele[1] == max_value:\n",
    "            ret.append(ele[0])\n",
    "    return ret"
   ]
  },
  {
   "cell_type": "code",
   "execution_count": 30,
   "metadata": {},
   "outputs": [
    {
     "data": {
      "text/plain": [
       "[2016]"
      ]
     },
     "execution_count": 30,
     "metadata": {},
     "output_type": "execute_result"
    }
   ],
   "source": [
    "#q13 Which year (or years) had the highest number of movie releases?\n",
    "data_13 = get_res_13()\n",
    "\n",
    "data_13"
   ]
  },
  {
   "cell_type": "code",
   "execution_count": 31,
   "metadata": {},
   "outputs": [],
   "source": [
    "\"\"\"\n",
    "This function returns the number of movies in this genre\n",
    "\"\"\"\n",
    "def genre_sort(genre_name):\n",
    "  \treturn data_8[genre_name]"
   ]
  },
  {
   "cell_type": "code",
   "execution_count": 32,
   "metadata": {},
   "outputs": [
    {
     "data": {
      "text/plain": [
       "['News', 'Documentary', 'Reality-TV']"
      ]
     },
     "execution_count": 32,
     "metadata": {},
     "output_type": "execute_result"
    }
   ],
   "source": [
    "#q14 Which 3 genres have the least number of movies? (the lowest first)\n",
    "sorted(data_8, key = genre_sort)[0:3]"
   ]
  },
  {
   "cell_type": "code",
   "execution_count": 33,
   "metadata": {},
   "outputs": [
    {
     "data": {
      "text/plain": [
       "['Drama', 'Comedy', 'Romance']"
      ]
     },
     "execution_count": 33,
     "metadata": {},
     "output_type": "execute_result"
    }
   ],
   "source": [
    "#q15 Which 3 genres have the most number of movies?\n",
    "ret = sorted(data_8, key = genre_sort)[-3:]\n",
    "ret.reverse()\n",
    "ret"
   ]
  },
  {
   "cell_type": "code",
   "execution_count": 34,
   "metadata": {},
   "outputs": [],
   "source": [
    "def get_res_16():\n",
    "    res = []\n",
    "    dic = {}   \n",
    "    for movie in movies:\n",
    "        for actor in movie['actors']:\n",
    "            dic[actor] = 0\n",
    "    for movie in movies:\n",
    "        for actor in movie['actors']:\n",
    "            num = dic[actor] + 1\n",
    "            dic[actor] = num \n",
    "    for key in dic:\n",
    "        tmp = []\n",
    "        tmp.append(key)\n",
    "        tmp.append(dic[key])\n",
    "        res.append(tmp)\n",
    "    return dict(res)\n",
    "data_16 = get_res_16()\n",
    "def actor_sort(actor_name):\n",
    "  \treturn data_16[actor_name]"
   ]
  },
  {
   "cell_type": "code",
   "execution_count": 35,
   "metadata": {},
   "outputs": [
    {
     "data": {
      "text/plain": [
       "'John Wayne'"
      ]
     },
     "execution_count": 35,
     "metadata": {},
     "output_type": "execute_result"
    }
   ],
   "source": [
    "#q16 Which actor/actress has been featured in the most number of movies?\n",
    "sorted(data_16, key = actor_sort)[-1]"
   ]
  },
  {
   "cell_type": "code",
   "execution_count": 36,
   "metadata": {},
   "outputs": [
    {
     "data": {
      "text/plain": [
       "['John Wayne',\n",
       " 'Eric Roberts',\n",
       " 'Barbara Stanwyck',\n",
       " 'William Boyd',\n",
       " 'Randolph Scott',\n",
       " 'Robert De Niro',\n",
       " 'Nicolas Cage',\n",
       " 'Glenn Ford',\n",
       " 'Robert Mitchum',\n",
       " 'Michael Madsen']"
      ]
     },
     "execution_count": 36,
     "metadata": {},
     "output_type": "execute_result"
    }
   ],
   "source": [
    "#q17 Which 10 actors/actresses are featured in the most number of movies? (The actor/actress featured in the most movies should be outputted first)\n",
    "ret = sorted(data_16, key = actor_sort)[-10:]\n",
    "ret.reverse()\n",
    "ret"
   ]
  },
  {
   "cell_type": "code",
   "execution_count": 37,
   "metadata": {},
   "outputs": [],
   "source": [
    "def get_res_18():\n",
    "    res = []\n",
    "    for ele in data_16:\n",
    "        if data_16[ele] == 1:\n",
    "            res.append(ele)\n",
    "    return res"
   ]
  },
  {
   "cell_type": "code",
   "execution_count": 38,
   "metadata": {},
   "outputs": [
    {
     "data": {
      "text/plain": [
       "25546"
      ]
     },
     "execution_count": 38,
     "metadata": {},
     "output_type": "execute_result"
    }
   ],
   "source": [
    "#q18 How many actors/actresses have only acted in only 1 movie?\n",
    "len(get_res_18())"
   ]
  },
  {
   "cell_type": "code",
   "execution_count": 39,
   "metadata": {},
   "outputs": [],
   "source": [
    "def movie_rating_rank():\n",
    "    res = []\n",
    "    dic = {}\n",
    "    for movie in movies:\n",
    "        dic[movie['title']] = movie['rating']\n",
    "    return dic\n",
    "def rating_sort(name):\n",
    "  \treturn data_19[name]"
   ]
  },
  {
   "cell_type": "code",
   "execution_count": 40,
   "metadata": {},
   "outputs": [
    {
     "data": {
      "text/plain": [
       "['Hopeful Notes',\n",
       " 'The Moving on Phase',\n",
       " 'As I Am',\n",
       " 'The Shawshank Redemption',\n",
       " 'Love in Kilnerry']"
      ]
     },
     "execution_count": 40,
     "metadata": {},
     "output_type": "execute_result"
    }
   ],
   "source": [
    "#q19 What are the titles of the top 5 rated movies in the dataset?\n",
    "data_19 = movie_rating_rank()\n",
    "ret = sorted(data_19, key = rating_sort)[-5:]\n",
    "ret.reverse()\n",
    "ret"
   ]
  },
  {
   "cell_type": "code",
   "execution_count": 41,
   "metadata": {},
   "outputs": [
    {
     "data": {
      "text/plain": [
       "['A Moment of Youth',\n",
       " 'Proud American',\n",
       " 'The Time Machine (I Found at a Yardsale)',\n",
       " 'Troy: The Resurrection of Aeneas',\n",
       " 'Browncoats: Independence War',\n",
       " 'C Me Dance',\n",
       " 'Cries of the Unborn',\n",
       " 'Captain Battle: Legacy War',\n",
       " 'Greyhound Attack',\n",
       " 'The Maize 2: Forever Yours',\n",
       " 'The Round and Round',\n",
       " 'Fun in Balloon Land',\n",
       " 'Rollergator']"
      ]
     },
     "execution_count": 41,
     "metadata": {},
     "output_type": "execute_result"
    }
   ],
   "source": [
    "#q20 What are the titles of the bottom 13 rated movies in the dataset?\n",
    "sorted(data_19, key = rating_sort)[:13]"
   ]
  },
  {
   "cell_type": "code",
   "execution_count": null,
   "metadata": {},
   "outputs": [],
   "source": []
  }
 ],
 "metadata": {
  "kernelspec": {
   "display_name": "Python 3",
   "language": "python",
   "name": "python3"
  },
  "language_info": {
   "codemirror_mode": {
    "name": "ipython",
    "version": 3
   },
   "file_extension": ".py",
   "mimetype": "text/x-python",
   "name": "python",
   "nbconvert_exporter": "python",
   "pygments_lexer": "ipython3",
   "version": "3.8.5"
  }
 },
 "nbformat": 4,
 "nbformat_minor": 4
}

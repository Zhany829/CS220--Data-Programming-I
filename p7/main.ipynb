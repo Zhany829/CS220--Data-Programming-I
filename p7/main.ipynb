{
 "cells": [
  {
   "cell_type": "code",
   "execution_count": 1,
   "metadata": {},
   "outputs": [],
   "source": [
    "# project: p7\n",
    "# submitter: wchen394\n",
    "# partner: zyu293\n",
    "# hours: 2"
   ]
  },
  {
   "cell_type": "code",
   "execution_count": 2,
   "metadata": {},
   "outputs": [],
   "source": [
    "import csv"
   ]
  },
  {
   "cell_type": "code",
   "execution_count": 3,
   "metadata": {},
   "outputs": [],
   "source": [
    "covid_file = open('covid19.csv', encoding='utf-8')\n",
    "file_reader = csv.reader(covid_file)\n",
    "covid_data = list(file_reader)\n",
    "covid_file.close()\n",
    "header = covid_data[0]\n",
    "covid_data = covid_data[1:]\n",
    "\n",
    "# convert str to float/int types in columns having numerical values.\n",
    "for row in covid_data:\n",
    "    for idx in [3, 4, 5, 7, 8, 9, 10]:\n",
    "        # Fill empty cell with 0 values.\n",
    "        if row[idx] == '':\n",
    "            row[idx] = 0\n",
    "        if idx in [3, 4, 5, 7]:\n",
    "            row[idx] = int(row[idx])\n",
    "        elif idx in [8, 9, 10]:\n",
    "            row[idx] = float(row[idx])"
   ]
  },
  {
   "cell_type": "code",
   "execution_count": 4,
   "metadata": {},
   "outputs": [
    {
     "name": "stdout",
     "output_type": "stream",
     "text": [
      "['country', 'continent', 'date', 'new_vaccinations', 'total_vaccinations', 'people_fully_vaccinated', 'vaccine_used', 'population', 'population_density', 'gdp_per_capita', 'human_development_index']\n",
      "['Afghanistan', 'Asia', '2021-02-10', 0, 0, 0, '', 38928341, 54.422, 1803.987, 0.511]\n",
      "['Afghanistan', 'Asia', '2021-02-11', 0, 0, 0, '', 38928341, 54.422, 1803.987, 0.511]\n",
      "['Afghanistan', 'Asia', '2021-02-12', 0, 0, 0, '', 38928341, 54.422, 1803.987, 0.511]\n",
      "['Afghanistan', 'Asia', '2021-02-13', 0, 0, 0, '', 38928341, 54.422, 1803.987, 0.511]\n",
      "['Afghanistan', 'Asia', '2021-02-14', 0, 0, 0, '', 38928341, 54.422, 1803.987, 0.511]\n"
     ]
    }
   ],
   "source": [
    "print(header)\n",
    "\n",
    "for row in covid_data[:5]:\n",
    "    print(row)"
   ]
  },
  {
   "cell_type": "code",
   "execution_count": 5,
   "metadata": {},
   "outputs": [],
   "source": [
    "def cell(row_idx, col_name):\n",
    "    col_idx = csv_header.index(col_name)\n",
    "    val = csv_data[row_idx][col_idx]\n",
    "    if val == \"\":\n",
    "        return None\n",
    "    # optional: convert types based on column name, ensuring that the\n",
    "    # float and int values are appropriately converted\n",
    "    return val"
   ]
  },
  {
   "cell_type": "code",
   "execution_count": 6,
   "metadata": {},
   "outputs": [],
   "source": [
    "def get_highest(ipt):\n",
    "    ind = 0\n",
    "    col_idx = header.index(ipt)\n",
    "    res = \"\"\n",
    "    for row in (covid_data):\n",
    "        if(row[col_idx] > ind):\n",
    "            ind = row[col_idx]\n",
    "            res = row[header.index(\"country\")]\n",
    "    return res"
   ]
  },
  {
   "cell_type": "code",
   "execution_count": 7,
   "metadata": {},
   "outputs": [
    {
     "data": {
      "text/plain": [
       "'Norway'"
      ]
     },
     "execution_count": 7,
     "metadata": {},
     "output_type": "execute_result"
    }
   ],
   "source": [
    "#Q1: Which country has the highest human_development_index?\n",
    "get_highest(\"human_development_index\")"
   ]
  },
  {
   "cell_type": "code",
   "execution_count": 8,
   "metadata": {},
   "outputs": [
    {
     "data": {
      "text/plain": [
       "'Qatar'"
      ]
     },
     "execution_count": 8,
     "metadata": {},
     "output_type": "execute_result"
    }
   ],
   "source": [
    "#Q2: Which country has the highest gdp_per_capita?\n",
    "get_highest(\"gdp_per_capita\")"
   ]
  },
  {
   "cell_type": "code",
   "execution_count": 9,
   "metadata": {},
   "outputs": [
    {
     "data": {
      "text/plain": [
       "'Europe'"
      ]
     },
     "execution_count": 9,
     "metadata": {},
     "output_type": "execute_result"
    }
   ],
   "source": [
    "#Q3: Which continent contains the country with the highest population_density?\n",
    "ret = get_highest(\"population_density\")\n",
    "res = \"\"\n",
    "for row in covid_data:\n",
    "    if row[header.index(\"country\")] == ret:\n",
    "        res = row[header.index(\"continent\")]\n",
    "        break\n",
    "res"
   ]
  },
  {
   "cell_type": "code",
   "execution_count": 10,
   "metadata": {},
   "outputs": [],
   "source": [
    "def get_column(col_name):\n",
    "    idx = header.index(col_name)\n",
    "    ret = []\n",
    "    for row in covid_data:\n",
    "        ret.append(row[idx])\n",
    "    return list(ret)"
   ]
  },
  {
   "cell_type": "code",
   "execution_count": 11,
   "metadata": {},
   "outputs": [
    {
     "data": {
      "text/plain": [
       "196"
      ]
     },
     "execution_count": 11,
     "metadata": {},
     "output_type": "execute_result"
    }
   ],
   "source": [
    "#Q4: How many UNIQUE countries are listed in the dataset?\n",
    "ret = get_column(\"country\")\n",
    "ret = set(ret)\n",
    "len(ret)"
   ]
  },
  {
   "cell_type": "code",
   "execution_count": 12,
   "metadata": {},
   "outputs": [
    {
     "data": {
      "text/plain": [
       "['2021-02-16',\n",
       " '2021-02-15',\n",
       " '2021-02-13',\n",
       " '2021-02-14',\n",
       " '2021-02-10',\n",
       " '2021-02-11',\n",
       " '2021-02-12']"
      ]
     },
     "execution_count": 12,
     "metadata": {},
     "output_type": "execute_result"
    }
   ],
   "source": [
    "#Q5: What are the different dates for which we have data in the dataset? You should return a list (order of the values in the list doesn't matter).\n",
    "ret = get_column(\"date\")\n",
    "ret = set(ret)\n",
    "ret = list(ret)\n",
    "ret"
   ]
  },
  {
   "cell_type": "code",
   "execution_count": 13,
   "metadata": {},
   "outputs": [
    {
     "data": {
      "text/plain": [
       "27684220"
      ]
     },
     "execution_count": 13,
     "metadata": {},
     "output_type": "execute_result"
    }
   ],
   "source": [
    "#Q6: How many new vaccinations were done across the whole world on the dates included in the dataset (i.e. 2021-02-10 to 2021-02-16)?\n",
    "ret = get_column(\"new_vaccinations\")\n",
    "res = 0\n",
    "for element in ret:\n",
    "    res += element\n",
    "res"
   ]
  },
  {
   "cell_type": "code",
   "execution_count": 14,
   "metadata": {},
   "outputs": [
    {
     "data": {
      "text/plain": [
       "[1439323774, 1380004385, 331002647, 273523621, 220892331]"
      ]
     },
     "execution_count": 14,
     "metadata": {},
     "output_type": "execute_result"
    }
   ],
   "source": [
    "#Q7: What are the population counts of top 5 populous countries (Having the highest population)?\n",
    "ret = get_column(\"population\")\n",
    "ret = set(ret)\n",
    "ret = list(ret)\n",
    "ret = sorted(ret)\n",
    "ret = ret[-5:]\n",
    "ret.sort(reverse=True);\n",
    "ret"
   ]
  },
  {
   "cell_type": "code",
   "execution_count": 15,
   "metadata": {},
   "outputs": [
    {
     "data": {
      "text/plain": [
       "[116935.6, 94277.965, 85535.383, 71809.251, 67335.293]"
      ]
     },
     "execution_count": 15,
     "metadata": {},
     "output_type": "execute_result"
    }
   ],
   "source": [
    "#Q8: What the are gdp_per_capita values for top 5 gdp_per_capita countries?\n",
    "ret = get_column(\"gdp_per_capita\")\n",
    "ret = set(ret)\n",
    "ret = list(ret)\n",
    "ret = sorted(ret)\n",
    "ret = ret[-5:]\n",
    "ret.sort(reverse=True);\n",
    "ret"
   ]
  },
  {
   "cell_type": "code",
   "execution_count": 16,
   "metadata": {},
   "outputs": [
    {
     "data": {
      "text/plain": [
       "['Oxford/AstraZeneca',\n",
       " 'Sinopharm/Beijing',\n",
       " 'Moderna',\n",
       " 'Sputnik V',\n",
       " 'Sinovac',\n",
       " 'Covaxin',\n",
       " 'Pfizer/BioNTech']"
      ]
     },
     "execution_count": 16,
     "metadata": {},
     "output_type": "execute_result"
    }
   ],
   "source": [
    "#Q9: What are the different vaccines used? You should output a list (order of the values in the list doesn't matter).\n",
    "ret_9 = get_column(\"vaccine_used\")\n",
    "res_9 = []\n",
    "for ele in ret_9:\n",
    "    if ele != \"\":\n",
    "        res_9.append(ele)\n",
    "res_9 = list(set(res_9))\n",
    "res_9"
   ]
  },
  {
   "cell_type": "code",
   "execution_count": 17,
   "metadata": {},
   "outputs": [],
   "source": [
    "def total_dic():\n",
    "    date_idx = header.index(\"date\")\n",
    "    country_idx = header.index(\"country\")\n",
    "    vaccination_idx = header.index(\"total_vaccinations\")\n",
    "    data_10 = []\n",
    "    res = {}\n",
    "    for row in covid_data:\n",
    "        if row[date_idx] == '2021-02-16':\n",
    "            data_10.append(row)\n",
    "    for row in data_10:\n",
    "        res[row[country_idx]] = row[vaccination_idx]\n",
    "    return res"
   ]
  },
  {
   "cell_type": "code",
   "execution_count": 18,
   "metadata": {},
   "outputs": [
    {
     "data": {
      "text/plain": [
       "{'Afghanistan': 0,\n",
       " 'Albania': 0,\n",
       " 'Algeria': 0,\n",
       " 'Andorra': 0,\n",
       " 'Angola': 0,\n",
       " 'Anguilla': 0,\n",
       " 'Antigua and Barbuda': 0,\n",
       " 'Argentina': 611169,\n",
       " 'Armenia': 0,\n",
       " 'Australia': 0,\n",
       " 'Austria': 0,\n",
       " 'Azerbaijan': 0,\n",
       " 'Bahamas': 0,\n",
       " 'Bahrain': 252990,\n",
       " 'Bangladesh': 1359613,\n",
       " 'Barbados': 0,\n",
       " 'Belarus': 0,\n",
       " 'Belgium': 0,\n",
       " 'Belize': 0,\n",
       " 'Benin': 0,\n",
       " 'Bermuda': 0,\n",
       " 'Bhutan': 0,\n",
       " 'Bolivia': 0,\n",
       " 'Bosnia and Herzegovina': 0,\n",
       " 'Botswana': 0,\n",
       " 'Brazil': 5609937,\n",
       " 'Brunei': 0,\n",
       " 'Bulgaria': 81338,\n",
       " 'Burkina Faso': 0,\n",
       " 'Burundi': 0,\n",
       " 'Cambodia': 0,\n",
       " 'Cameroon': 0,\n",
       " 'Canada': 1306784,\n",
       " 'Cape Verde': 0,\n",
       " 'Cayman Islands': 0,\n",
       " 'Central African Republic': 0,\n",
       " 'Chad': 0,\n",
       " 'Chile': 2375725,\n",
       " 'China': 0,\n",
       " 'Colombia': 0,\n",
       " 'Comoros': 0,\n",
       " 'Congo': 0,\n",
       " 'Costa Rica': 0,\n",
       " \"Cote d'Ivoire\": 0,\n",
       " 'Croatia': 0,\n",
       " 'Cuba': 0,\n",
       " 'Cyprus': 0,\n",
       " 'Czechia': 0,\n",
       " 'Democratic Republic of Congo': 0,\n",
       " 'Denmark': 0,\n",
       " 'Djibouti': 0,\n",
       " 'Dominica': 0,\n",
       " 'Dominican Republic': 0,\n",
       " 'Ecuador': 0,\n",
       " 'Egypt': 0,\n",
       " 'El Salvador': 0,\n",
       " 'Equatorial Guinea': 0,\n",
       " 'Eritrea': 0,\n",
       " 'Estonia': 69313,\n",
       " 'Eswatini': 0,\n",
       " 'Ethiopia': 0,\n",
       " 'Faeroe Islands': 0,\n",
       " 'Fiji': 0,\n",
       " 'Finland': 283926,\n",
       " 'France': 0,\n",
       " 'Gabon': 0,\n",
       " 'Gambia': 0,\n",
       " 'Georgia': 0,\n",
       " 'Germany': 0,\n",
       " 'Ghana': 0,\n",
       " 'Gibraltar': 0,\n",
       " 'Greece': 575766,\n",
       " 'Grenada': 0,\n",
       " 'Guatemala': 0,\n",
       " 'Guinea': 0,\n",
       " 'Guinea-Bissau': 0,\n",
       " 'Guyana': 0,\n",
       " 'Haiti': 0,\n",
       " 'Honduras': 0,\n",
       " 'Hungary': 483751,\n",
       " 'Iceland': 20031,\n",
       " 'India': 8999230,\n",
       " 'Indonesia': 1658110,\n",
       " 'Iran': 0,\n",
       " 'Iraq': 0,\n",
       " 'Ireland': 0,\n",
       " 'Isle of Man': 14272,\n",
       " 'Israel': 6758861,\n",
       " 'Italy': 3122631,\n",
       " 'Jamaica': 0,\n",
       " 'Japan': 0,\n",
       " 'Jordan': 0,\n",
       " 'Kazakhstan': 0,\n",
       " 'Kenya': 0,\n",
       " 'Kosovo': 0,\n",
       " 'Kuwait': 0,\n",
       " 'Kyrgyzstan': 0,\n",
       " 'Laos': 0,\n",
       " 'Latvia': 39299,\n",
       " 'Lebanon': 0,\n",
       " 'Lesotho': 0,\n",
       " 'Liberia': 0,\n",
       " 'Libya': 0,\n",
       " 'Liechtenstein': 0,\n",
       " 'Lithuania': 0,\n",
       " 'Luxembourg': 0,\n",
       " 'Madagascar': 0,\n",
       " 'Malawi': 0,\n",
       " 'Malaysia': 0,\n",
       " 'Maldives': 50047,\n",
       " 'Mali': 0,\n",
       " 'Malta': 0,\n",
       " 'Marshall Islands': 0,\n",
       " 'Mauritania': 0,\n",
       " 'Mauritius': 0,\n",
       " 'Mexico': 915383,\n",
       " 'Micronesia (country)': 0,\n",
       " 'Moldova': 0,\n",
       " 'Monaco': 0,\n",
       " 'Mongolia': 0,\n",
       " 'Montenegro': 0,\n",
       " 'Morocco': 1904169,\n",
       " 'Mozambique': 0,\n",
       " 'Myanmar': 0,\n",
       " 'Namibia': 0,\n",
       " 'Nepal': 0,\n",
       " 'Netherlands': 623539,\n",
       " 'New Zealand': 0,\n",
       " 'Nicaragua': 0,\n",
       " 'Niger': 0,\n",
       " 'Nigeria': 0,\n",
       " 'North Macedonia': 0,\n",
       " 'Norway': 0,\n",
       " 'Oman': 109014,\n",
       " 'Pakistan': 0,\n",
       " 'Palestine': 0,\n",
       " 'Panama': 0,\n",
       " 'Papua New Guinea': 0,\n",
       " 'Paraguay': 0,\n",
       " 'Peru': 109498,\n",
       " 'Philippines': 0,\n",
       " 'Poland': 0,\n",
       " 'Portugal': 539786,\n",
       " 'Qatar': 0,\n",
       " 'Romania': 1197089,\n",
       " 'Russia': 0,\n",
       " 'Rwanda': 0,\n",
       " 'Saint Kitts and Nevis': 0,\n",
       " 'Saint Lucia': 0,\n",
       " 'Saint Vincent and the Grenadines': 0,\n",
       " 'Samoa': 0,\n",
       " 'San Marino': 0,\n",
       " 'Sao Tome and Principe': 0,\n",
       " 'Saudi Arabia': 462812,\n",
       " 'Senegal': 0,\n",
       " 'Serbia': 0,\n",
       " 'Seychelles': 0,\n",
       " 'Sierra Leone': 0,\n",
       " 'Singapore': 0,\n",
       " 'Slovakia': 0,\n",
       " 'Slovenia': 0,\n",
       " 'Solomon Islands': 0,\n",
       " 'Somalia': 0,\n",
       " 'South Africa': 0,\n",
       " 'South Korea': 0,\n",
       " 'South Sudan': 0,\n",
       " 'Spain': 0,\n",
       " 'Sri Lanka': 196163,\n",
       " 'Sudan': 0,\n",
       " 'Suriname': 0,\n",
       " 'Sweden': 505898,\n",
       " 'Switzerland': 0,\n",
       " 'Syria': 0,\n",
       " 'Taiwan': 0,\n",
       " 'Tajikistan': 0,\n",
       " 'Tanzania': 0,\n",
       " 'Thailand': 0,\n",
       " 'Timor': 0,\n",
       " 'Togo': 0,\n",
       " 'Trinidad and Tobago': 0,\n",
       " 'Tunisia': 0,\n",
       " 'Turkey': 4630784,\n",
       " 'Uganda': 0,\n",
       " 'Ukraine': 0,\n",
       " 'United Arab Emirates': 5198725,\n",
       " 'United Kingdom': 0,\n",
       " 'United States': 55220364,\n",
       " 'Uruguay': 0,\n",
       " 'Uzbekistan': 0,\n",
       " 'Vanuatu': 0,\n",
       " 'Vatican': 0,\n",
       " 'Venezuela': 0,\n",
       " 'Vietnam': 0,\n",
       " 'Yemen': 0,\n",
       " 'Zambia': 0,\n",
       " 'Zimbabwe': 0}"
      ]
     },
     "execution_count": 18,
     "metadata": {},
     "output_type": "execute_result"
    }
   ],
   "source": [
    "#Q10: How many total vaccination doses were administered by 2021-02-16 for each country? You should output a dictionary.\n",
    "question_10_data = total_dic()\n",
    "question_10_data"
   ]
  },
  {
   "cell_type": "code",
   "execution_count": 19,
   "metadata": {},
   "outputs": [],
   "source": [
    "def max_total_vacc():\n",
    "    vacc = 0\n",
    "    res = \"\"\n",
    "    for key in question_10_data:\n",
    "        if question_10_data[key] > vacc:\n",
    "            vacc = question_10_data[key]\n",
    "            res = key\n",
    "    return res"
   ]
  },
  {
   "cell_type": "code",
   "execution_count": 20,
   "metadata": {},
   "outputs": [
    {
     "data": {
      "text/plain": [
       "'United States'"
      ]
     },
     "execution_count": 20,
     "metadata": {},
     "output_type": "execute_result"
    }
   ],
   "source": [
    "#Q11: Which country has administered the maximum number of total_vaccinations by 2021-02-16?\n",
    "max_total_vacc()"
   ]
  },
  {
   "cell_type": "code",
   "execution_count": 21,
   "metadata": {},
   "outputs": [],
   "source": [
    "def not_vacc():\n",
    "    res = \"\"\n",
    "    no_vacc = list()\n",
    "    for key in question_10_data:\n",
    "        if question_10_data[key] == 0:\n",
    "            no_vacc.append(key)\n",
    "    return no_vacc"
   ]
  },
  {
   "cell_type": "code",
   "execution_count": 22,
   "metadata": {},
   "outputs": [
    {
     "data": {
      "text/plain": [
       "['Afghanistan',\n",
       " 'Albania',\n",
       " 'Algeria',\n",
       " 'Andorra',\n",
       " 'Angola',\n",
       " 'Anguilla',\n",
       " 'Antigua and Barbuda',\n",
       " 'Armenia',\n",
       " 'Australia',\n",
       " 'Austria',\n",
       " 'Azerbaijan',\n",
       " 'Bahamas',\n",
       " 'Barbados',\n",
       " 'Belarus',\n",
       " 'Belgium',\n",
       " 'Belize',\n",
       " 'Benin',\n",
       " 'Bermuda',\n",
       " 'Bhutan',\n",
       " 'Bolivia',\n",
       " 'Bosnia and Herzegovina',\n",
       " 'Botswana',\n",
       " 'Brunei',\n",
       " 'Burkina Faso',\n",
       " 'Burundi',\n",
       " 'Cambodia',\n",
       " 'Cameroon',\n",
       " 'Cape Verde',\n",
       " 'Cayman Islands',\n",
       " 'Central African Republic',\n",
       " 'Chad',\n",
       " 'China',\n",
       " 'Colombia',\n",
       " 'Comoros',\n",
       " 'Congo',\n",
       " 'Costa Rica',\n",
       " \"Cote d'Ivoire\",\n",
       " 'Croatia',\n",
       " 'Cuba',\n",
       " 'Cyprus',\n",
       " 'Czechia',\n",
       " 'Democratic Republic of Congo',\n",
       " 'Denmark',\n",
       " 'Djibouti',\n",
       " 'Dominica',\n",
       " 'Dominican Republic',\n",
       " 'Ecuador',\n",
       " 'Egypt',\n",
       " 'El Salvador',\n",
       " 'Equatorial Guinea',\n",
       " 'Eritrea',\n",
       " 'Eswatini',\n",
       " 'Ethiopia',\n",
       " 'Faeroe Islands',\n",
       " 'Fiji',\n",
       " 'France',\n",
       " 'Gabon',\n",
       " 'Gambia',\n",
       " 'Georgia',\n",
       " 'Germany',\n",
       " 'Ghana',\n",
       " 'Gibraltar',\n",
       " 'Grenada',\n",
       " 'Guatemala',\n",
       " 'Guinea',\n",
       " 'Guinea-Bissau',\n",
       " 'Guyana',\n",
       " 'Haiti',\n",
       " 'Honduras',\n",
       " 'Iran',\n",
       " 'Iraq',\n",
       " 'Ireland',\n",
       " 'Jamaica',\n",
       " 'Japan',\n",
       " 'Jordan',\n",
       " 'Kazakhstan',\n",
       " 'Kenya',\n",
       " 'Kosovo',\n",
       " 'Kuwait',\n",
       " 'Kyrgyzstan',\n",
       " 'Laos',\n",
       " 'Lebanon',\n",
       " 'Lesotho',\n",
       " 'Liberia',\n",
       " 'Libya',\n",
       " 'Liechtenstein',\n",
       " 'Lithuania',\n",
       " 'Luxembourg',\n",
       " 'Madagascar',\n",
       " 'Malawi',\n",
       " 'Malaysia',\n",
       " 'Mali',\n",
       " 'Malta',\n",
       " 'Marshall Islands',\n",
       " 'Mauritania',\n",
       " 'Mauritius',\n",
       " 'Micronesia (country)',\n",
       " 'Moldova',\n",
       " 'Monaco',\n",
       " 'Mongolia',\n",
       " 'Montenegro',\n",
       " 'Mozambique',\n",
       " 'Myanmar',\n",
       " 'Namibia',\n",
       " 'Nepal',\n",
       " 'New Zealand',\n",
       " 'Nicaragua',\n",
       " 'Niger',\n",
       " 'Nigeria',\n",
       " 'North Macedonia',\n",
       " 'Norway',\n",
       " 'Pakistan',\n",
       " 'Palestine',\n",
       " 'Panama',\n",
       " 'Papua New Guinea',\n",
       " 'Paraguay',\n",
       " 'Philippines',\n",
       " 'Poland',\n",
       " 'Qatar',\n",
       " 'Russia',\n",
       " 'Rwanda',\n",
       " 'Saint Kitts and Nevis',\n",
       " 'Saint Lucia',\n",
       " 'Saint Vincent and the Grenadines',\n",
       " 'Samoa',\n",
       " 'San Marino',\n",
       " 'Sao Tome and Principe',\n",
       " 'Senegal',\n",
       " 'Serbia',\n",
       " 'Seychelles',\n",
       " 'Sierra Leone',\n",
       " 'Singapore',\n",
       " 'Slovakia',\n",
       " 'Slovenia',\n",
       " 'Solomon Islands',\n",
       " 'Somalia',\n",
       " 'South Africa',\n",
       " 'South Korea',\n",
       " 'South Sudan',\n",
       " 'Spain',\n",
       " 'Sudan',\n",
       " 'Suriname',\n",
       " 'Switzerland',\n",
       " 'Syria',\n",
       " 'Taiwan',\n",
       " 'Tajikistan',\n",
       " 'Tanzania',\n",
       " 'Thailand',\n",
       " 'Timor',\n",
       " 'Togo',\n",
       " 'Trinidad and Tobago',\n",
       " 'Tunisia',\n",
       " 'Uganda',\n",
       " 'Ukraine',\n",
       " 'United Kingdom',\n",
       " 'Uruguay',\n",
       " 'Uzbekistan',\n",
       " 'Vanuatu',\n",
       " 'Vatican',\n",
       " 'Venezuela',\n",
       " 'Vietnam',\n",
       " 'Yemen',\n",
       " 'Zambia',\n",
       " 'Zimbabwe']"
      ]
     },
     "execution_count": 22,
     "metadata": {},
     "output_type": "execute_result"
    }
   ],
   "source": [
    "#Q12: Which countries hadn't started vaccination according to the dataset?\n",
    "not_vacc()"
   ]
  },
  {
   "cell_type": "code",
   "execution_count": 23,
   "metadata": {},
   "outputs": [],
   "source": [
    "def country_stats_to_dict(country, date):\n",
    "    date_idx = header.index(\"date\")\n",
    "    country_idx = header.index(\"country\")\n",
    "    vaccination_idx = header.index(\"total_vaccinations\")\n",
    "    data_13 = []\n",
    "    res = {}\n",
    "    for row in covid_data:\n",
    "        if row[date_idx] == date and row[country_idx] == country:\n",
    "            data_13.append(row)\n",
    "    data_13_1 = data_13[0]\n",
    "    for i in range(len(data_13_1)):\n",
    "        res[header[i]] = data_13_1[i]\n",
    "    return res"
   ]
  },
  {
   "cell_type": "code",
   "execution_count": 24,
   "metadata": {},
   "outputs": [
    {
     "data": {
      "text/plain": [
       "{'country': 'United States',\n",
       " 'continent': 'North America',\n",
       " 'date': '2021-02-16',\n",
       " 'new_vaccinations': 0,\n",
       " 'total_vaccinations': 55220364,\n",
       " 'people_fully_vaccinated': 15015434,\n",
       " 'vaccine_used': 'Moderna',\n",
       " 'population': 331002647,\n",
       " 'population_density': 35.608,\n",
       " 'gdp_per_capita': 54225.446,\n",
       " 'human_development_index': 0.926}"
      ]
     },
     "execution_count": 24,
     "metadata": {},
     "output_type": "execute_result"
    }
   ],
   "source": [
    "#Q13: What were the stats for the United States as on 2021-02-16?\n",
    "country_stats_to_dict(\"United States\",'2021-02-16')"
   ]
  },
  {
   "cell_type": "code",
   "execution_count": 25,
   "metadata": {},
   "outputs": [
    {
     "data": {
      "text/plain": [
       "{'country': 'India',\n",
       " 'continent': 'Asia',\n",
       " 'date': '2021-02-14',\n",
       " 'new_vaccinations': 21437,\n",
       " 'total_vaccinations': 8285295,\n",
       " 'people_fully_vaccinated': 0,\n",
       " 'vaccine_used': 'Covaxin',\n",
       " 'population': 1380004385,\n",
       " 'population_density': 450.419,\n",
       " 'gdp_per_capita': 6426.674,\n",
       " 'human_development_index': 0.645}"
      ]
     },
     "execution_count": 25,
     "metadata": {},
     "output_type": "execute_result"
    }
   ],
   "source": [
    "#Q14: What were the stats for India as on 2021-02-14?\n",
    "country_stats_to_dict(\"India\",'2021-02-14')"
   ]
  },
  {
   "cell_type": "code",
   "execution_count": 26,
   "metadata": {},
   "outputs": [
    {
     "data": {
      "text/plain": [
       "'Moderna'"
      ]
     },
     "execution_count": 26,
     "metadata": {},
     "output_type": "execute_result"
    }
   ],
   "source": [
    "#Q15: Which vaccine was used in the United States on 2021-02-16?\n",
    "dic_15 = country_stats_to_dict(\"United States\",'2021-02-16')\n",
    "dic_15['vaccine_used']"
   ]
  },
  {
   "cell_type": "code",
   "execution_count": 27,
   "metadata": {},
   "outputs": [],
   "source": [
    "def vacc_date():\n",
    "    dic = {}\n",
    "    new_vacc_idx = header.index(\"new_vaccinations\")\n",
    "    date_idx = header.index(\"date\")\n",
    "    for row in covid_data:\n",
    "        dic[row[date_idx]] = row[new_vacc_idx]\n",
    "    for row in covid_data:\n",
    "        dic[row[date_idx]] += row[new_vacc_idx]\n",
    "    return dic"
   ]
  },
  {
   "cell_type": "code",
   "execution_count": 28,
   "metadata": {},
   "outputs": [
    {
     "data": {
      "text/plain": [
       "{'2021-02-10': 4611211,\n",
       " '2021-02-11': 4638600,\n",
       " '2021-02-12': 5429665,\n",
       " '2021-02-13': 4715774,\n",
       " '2021-02-14': 3383538,\n",
       " '2021-02-15': 2465118,\n",
       " '2021-02-16': 2440314}"
      ]
     },
     "execution_count": 28,
     "metadata": {},
     "output_type": "execute_result"
    }
   ],
   "source": [
    "#Q16: How many new vaccination doses (refer new_vaccinations column) were administered from 2021-02-10 to 2021-02-16? You should output a dictionary with (key, value) pair as (date, sum of new_vaccinations on that particular date)\n",
    "vacc_date()"
   ]
  },
  {
   "cell_type": "code",
   "execution_count": 29,
   "metadata": {},
   "outputs": [],
   "source": [
    "def fully_vacc():\n",
    "    date_idx = header.index(\"date\")\n",
    "    country_idx = header.index(\"country\")\n",
    "    vaccination_idx = header.index(\"total_vaccinations\")\n",
    "    data_16 = []\n",
    "    res = {}\n",
    "    for row in covid_data:\n",
    "        if row[date_idx] == '2021-02-16':\n",
    "            data_16.append(row)\n",
    "    for row in data_16:\n",
    "        res[row[country_idx]] = row[header.index(\"people_fully_vaccinated\")]/row[header.index(\"population\")] * 100\n",
    "    return res"
   ]
  },
  {
   "cell_type": "code",
   "execution_count": 30,
   "metadata": {},
   "outputs": [
    {
     "data": {
      "text/plain": [
       "{'Afghanistan': 0.0,\n",
       " 'Albania': 0.0,\n",
       " 'Algeria': 0.0,\n",
       " 'Andorra': 0.0,\n",
       " 'Angola': 0.0,\n",
       " 'Anguilla': 0.0,\n",
       " 'Antigua and Barbuda': 0.0,\n",
       " 'Argentina': 0.5264120141136195,\n",
       " 'Armenia': 0.0,\n",
       " 'Australia': 0.0,\n",
       " 'Austria': 1.6818817729614497,\n",
       " 'Azerbaijan': 0.0,\n",
       " 'Bahamas': 0.0,\n",
       " 'Bahrain': 0.0,\n",
       " 'Bangladesh': 0.0,\n",
       " 'Barbados': 0.0,\n",
       " 'Belarus': 0.0,\n",
       " 'Belgium': 0.0,\n",
       " 'Belize': 0.0,\n",
       " 'Benin': 0.0,\n",
       " 'Bermuda': 0.0,\n",
       " 'Bhutan': 0.0,\n",
       " 'Bolivia': 0.0,\n",
       " 'Bosnia and Herzegovina': 0.0,\n",
       " 'Botswana': 0.0,\n",
       " 'Brazil': 0.1343718451908191,\n",
       " 'Brunei': 0.0,\n",
       " 'Bulgaria': 0.32778556928924385,\n",
       " 'Burkina Faso': 0.0,\n",
       " 'Burundi': 0.0,\n",
       " 'Cambodia': 0.0,\n",
       " 'Cameroon': 0.0,\n",
       " 'Canada': 0.0,\n",
       " 'Cape Verde': 0.0,\n",
       " 'Cayman Islands': 0.0,\n",
       " 'Central African Republic': 0.0,\n",
       " 'Chad': 0.0,\n",
       " 'Chile': 0.28786042253461447,\n",
       " 'China': 0.0,\n",
       " 'Colombia': 0.0,\n",
       " 'Comoros': 0.0,\n",
       " 'Congo': 0.0,\n",
       " 'Costa Rica': 0.0,\n",
       " \"Cote d'Ivoire\": 0.0,\n",
       " 'Croatia': 0.0,\n",
       " 'Cuba': 0.0,\n",
       " 'Cyprus': 0.0,\n",
       " 'Czechia': 0.0,\n",
       " 'Democratic Republic of Congo': 0.0,\n",
       " 'Denmark': 0.0,\n",
       " 'Djibouti': 0.0,\n",
       " 'Dominica': 0.0,\n",
       " 'Dominican Republic': 0.0,\n",
       " 'Ecuador': 0.0,\n",
       " 'Egypt': 0.0,\n",
       " 'El Salvador': 0.0,\n",
       " 'Equatorial Guinea': 0.0,\n",
       " 'Eritrea': 0.0,\n",
       " 'Estonia': 1.7016461634373359,\n",
       " 'Eswatini': 0.0,\n",
       " 'Ethiopia': 0.0,\n",
       " 'Faeroe Islands': 0.0,\n",
       " 'Fiji': 0.0,\n",
       " 'Finland': 1.2175858796639714,\n",
       " 'France': 0.0,\n",
       " 'Gabon': 0.0,\n",
       " 'Gambia': 0.0,\n",
       " 'Georgia': 0.0,\n",
       " 'Germany': 0.0,\n",
       " 'Ghana': 0.0,\n",
       " 'Gibraltar': 0.0,\n",
       " 'Greece': 1.707042541074326,\n",
       " 'Grenada': 0.0,\n",
       " 'Guatemala': 0.0,\n",
       " 'Guinea': 0.0,\n",
       " 'Guinea-Bissau': 0.0,\n",
       " 'Guyana': 0.0,\n",
       " 'Haiti': 0.0,\n",
       " 'Honduras': 0.0,\n",
       " 'Hungary': 1.3956430150046324,\n",
       " 'Iceland': 1.741831501831502,\n",
       " 'India': 0.0,\n",
       " 'Indonesia': 0.19638048006098896,\n",
       " 'Iran': 0.0,\n",
       " 'Iraq': 0.0,\n",
       " 'Ireland': 0.0,\n",
       " 'Isle of Man': 4.226644086931978,\n",
       " 'Israel': 31.047961069100126,\n",
       " 'Italy': 2.142697372629885,\n",
       " 'Jamaica': 0.0,\n",
       " 'Japan': 0.0,\n",
       " 'Jordan': 0.0,\n",
       " 'Kazakhstan': 0.0,\n",
       " 'Kenya': 0.0,\n",
       " 'Kosovo': 0.0,\n",
       " 'Kuwait': 0.0,\n",
       " 'Kyrgyzstan': 0.0,\n",
       " 'Laos': 0.0,\n",
       " 'Latvia': 0.8703203580528491,\n",
       " 'Lebanon': 0.0,\n",
       " 'Lesotho': 0.0,\n",
       " 'Liberia': 0.0,\n",
       " 'Libya': 0.0,\n",
       " 'Liechtenstein': 0.0,\n",
       " 'Lithuania': 0.0,\n",
       " 'Luxembourg': 0.0,\n",
       " 'Madagascar': 0.0,\n",
       " 'Malawi': 0.0,\n",
       " 'Malaysia': 0.0,\n",
       " 'Maldives': 0.0,\n",
       " 'Mali': 0.0,\n",
       " 'Malta': 0.0,\n",
       " 'Marshall Islands': 0.0,\n",
       " 'Mauritania': 0.0,\n",
       " 'Mauritius': 0.0,\n",
       " 'Mexico': 0.0668550061907078,\n",
       " 'Micronesia (country)': 0.0,\n",
       " 'Moldova': 0.0,\n",
       " 'Monaco': 0.0,\n",
       " 'Mongolia': 0.0,\n",
       " 'Montenegro': 0.0,\n",
       " 'Morocco': 0.0,\n",
       " 'Mozambique': 0.0,\n",
       " 'Myanmar': 0.0,\n",
       " 'Namibia': 0.0,\n",
       " 'Nepal': 0.0,\n",
       " 'Netherlands': 0.0,\n",
       " 'New Zealand': 0.0,\n",
       " 'Nicaragua': 0.0,\n",
       " 'Niger': 0.0,\n",
       " 'Nigeria': 0.0,\n",
       " 'North Macedonia': 0.0,\n",
       " 'Norway': 0.0,\n",
       " 'Oman': 0.37243798346539064,\n",
       " 'Pakistan': 0.0,\n",
       " 'Palestine': 0.0,\n",
       " 'Panama': 0.0,\n",
       " 'Papua New Guinea': 0.0,\n",
       " 'Paraguay': 0.0,\n",
       " 'Peru': 0.0,\n",
       " 'Philippines': 0.0,\n",
       " 'Poland': 0.0,\n",
       " 'Portugal': 1.993643634165422,\n",
       " 'Qatar': 0.0,\n",
       " 'Romania': 2.5020737945455176,\n",
       " 'Russia': 0.0,\n",
       " 'Rwanda': 0.0,\n",
       " 'Saint Kitts and Nevis': 0.0,\n",
       " 'Saint Lucia': 0.0,\n",
       " 'Saint Vincent and the Grenadines': 0.0,\n",
       " 'Samoa': 0.0,\n",
       " 'San Marino': 0.0,\n",
       " 'Sao Tome and Principe': 0.0,\n",
       " 'Saudi Arabia': 0.0,\n",
       " 'Senegal': 0.0,\n",
       " 'Serbia': 0.0,\n",
       " 'Seychelles': 0.0,\n",
       " 'Sierra Leone': 0.0,\n",
       " 'Singapore': 0.0,\n",
       " 'Slovakia': 0.0,\n",
       " 'Slovenia': 0.0,\n",
       " 'Solomon Islands': 0.0,\n",
       " 'Somalia': 0.0,\n",
       " 'South Africa': 0.0,\n",
       " 'South Korea': 0.0,\n",
       " 'South Sudan': 0.0,\n",
       " 'Spain': 0.0,\n",
       " 'Sri Lanka': 0.0,\n",
       " 'Sudan': 0.0,\n",
       " 'Suriname': 0.0,\n",
       " 'Sweden': 1.4038440402128074,\n",
       " 'Switzerland': 0.0,\n",
       " 'Syria': 0.0,\n",
       " 'Taiwan': 0.0,\n",
       " 'Tajikistan': 0.0,\n",
       " 'Tanzania': 0.0,\n",
       " 'Thailand': 0.0,\n",
       " 'Timor': 0.0,\n",
       " 'Togo': 0.0,\n",
       " 'Trinidad and Tobago': 0.0,\n",
       " 'Tunisia': 0.0,\n",
       " 'Turkey': 0.766147911026808,\n",
       " 'Uganda': 0.0,\n",
       " 'Ukraine': 0.0,\n",
       " 'United Arab Emirates': 0.0,\n",
       " 'United Kingdom': 0.0,\n",
       " 'United States': 4.536348617175863,\n",
       " 'Uruguay': 0.0,\n",
       " 'Uzbekistan': 0.0,\n",
       " 'Vanuatu': 0.0,\n",
       " 'Vatican': 0.0,\n",
       " 'Venezuela': 0.0,\n",
       " 'Vietnam': 0.0,\n",
       " 'Yemen': 0.0,\n",
       " 'Zambia': 0.0,\n",
       " 'Zimbabwe': 0.0}"
      ]
     },
     "execution_count": 30,
     "metadata": {},
     "output_type": "execute_result"
    }
   ],
   "source": [
    "#Q17: What percentage of people have been fully vaccinated in each country as per the latest (2021-02-16) details? You should return a dict with (country, percentage_fully_vaccinated) pair. For example, if US has fully vaccinated 1% people and Canada has vaccinated 0.5% people, your output dictionary should look like this (No % sign in the output)\n",
    "fully_vacc()"
   ]
  },
  {
   "cell_type": "code",
   "execution_count": 31,
   "metadata": {},
   "outputs": [],
   "source": [
    "def vacc_use(vaccine_name, date):\n",
    "    res = []\n",
    "    date_idx = header.index(\"date\")\n",
    "    country_idx = header.index(\"country\")\n",
    "    vaccination_idx = header.index(\"total_vaccinations\")\n",
    "    data_18 = []\n",
    "    for row in covid_data:\n",
    "        if row[date_idx] == date:\n",
    "            data_18.append(row)\n",
    "    for row in data_18:\n",
    "        if row[header.index(\"vaccine_used\")] == vaccine_name:\n",
    "            res.append(row[header.index(\"country\")])\n",
    "    return res"
   ]
  },
  {
   "cell_type": "code",
   "execution_count": 32,
   "metadata": {},
   "outputs": [
    {
     "data": {
      "text/plain": [
       "['Austria',\n",
       " 'Belgium',\n",
       " 'Bulgaria',\n",
       " 'Canada',\n",
       " 'Czechia',\n",
       " 'Denmark',\n",
       " 'Estonia',\n",
       " 'Finland',\n",
       " 'France',\n",
       " 'Germany',\n",
       " 'Greece',\n",
       " 'Iceland',\n",
       " 'Ireland',\n",
       " 'Israel',\n",
       " 'Italy',\n",
       " 'Latvia',\n",
       " 'Liechtenstein',\n",
       " 'Lithuania',\n",
       " 'Luxembourg',\n",
       " 'Netherlands',\n",
       " 'Norway',\n",
       " 'Poland',\n",
       " 'Portugal',\n",
       " 'Romania',\n",
       " 'Spain',\n",
       " 'Switzerland',\n",
       " 'United States']"
      ]
     },
     "execution_count": 32,
     "metadata": {},
     "output_type": "execute_result"
    }
   ],
   "source": [
    "#Q18: Which countries did use Moderna vaccine on 2021-02-16? You should return a list (order of the values in the list doesn't matter).\n",
    "vacc_use(\"Moderna\",\"2021-02-16\")"
   ]
  },
  {
   "cell_type": "code",
   "execution_count": 33,
   "metadata": {},
   "outputs": [
    {
     "data": {
      "text/plain": [
       "{'Oxford/AstraZeneca': ['Anguilla',\n",
       "  'Azerbaijan',\n",
       "  'Bangladesh',\n",
       "  'Brazil',\n",
       "  'Guyana',\n",
       "  'Isle of Man',\n",
       "  'Maldives',\n",
       "  'Mauritius',\n",
       "  'Morocco',\n",
       "  'Myanmar',\n",
       "  'Nepal',\n",
       "  'Oman',\n",
       "  'Pakistan',\n",
       "  'Seychelles',\n",
       "  'Slovenia',\n",
       "  'Sri Lanka',\n",
       "  'Sweden',\n",
       "  'United Arab Emirates',\n",
       "  'United Kingdom'],\n",
       " 'Sinopharm/Beijing': ['Cambodia', 'China', 'Egypt', 'Peru'],\n",
       " 'Moderna': ['Austria',\n",
       "  'Belgium',\n",
       "  'Bulgaria',\n",
       "  'Canada',\n",
       "  'Czechia',\n",
       "  'Denmark',\n",
       "  'Estonia',\n",
       "  'Finland',\n",
       "  'France',\n",
       "  'Germany',\n",
       "  'Greece',\n",
       "  'Iceland',\n",
       "  'Ireland',\n",
       "  'Israel',\n",
       "  'Italy',\n",
       "  'Latvia',\n",
       "  'Liechtenstein',\n",
       "  'Lithuania',\n",
       "  'Luxembourg',\n",
       "  'Netherlands',\n",
       "  'Norway',\n",
       "  'Poland',\n",
       "  'Portugal',\n",
       "  'Romania',\n",
       "  'Spain',\n",
       "  'Switzerland',\n",
       "  'United States'],\n",
       " 'Sputnik V': ['Algeria', 'Argentina', 'Bolivia', 'Iran', 'Russia'],\n",
       " 'Sinovac': ['Indonesia', 'Turkey'],\n",
       " 'Covaxin': ['India'],\n",
       " 'Pfizer/BioNTech': ['Albania',\n",
       "  'Andorra',\n",
       "  'Bahrain',\n",
       "  'Bermuda',\n",
       "  'Cayman Islands',\n",
       "  'Chile',\n",
       "  'Costa Rica',\n",
       "  'Croatia',\n",
       "  'Cyprus',\n",
       "  'Ecuador',\n",
       "  'Faeroe Islands',\n",
       "  'Gibraltar',\n",
       "  'Hungary',\n",
       "  'Kuwait',\n",
       "  'Malta',\n",
       "  'Mexico',\n",
       "  'Monaco',\n",
       "  'Panama',\n",
       "  'Qatar',\n",
       "  'Saudi Arabia',\n",
       "  'Serbia',\n",
       "  'Singapore',\n",
       "  'Slovakia']}"
      ]
     },
     "execution_count": 33,
     "metadata": {},
     "output_type": "execute_result"
    }
   ],
   "source": [
    "#Q19: Which countries use a given vaccine? You should output a dictionary with (key, value) pair as (vaccine_name, list of countries using that vaccine)\n",
    "res_19 = {}\n",
    "for vacc in res_9:\n",
    "    res_19[vacc] = vacc_use(vacc,\"2021-02-16\")\n",
    "res_19"
   ]
  },
  {
   "cell_type": "code",
   "execution_count": 34,
   "metadata": {},
   "outputs": [
    {
     "data": {
      "text/plain": [
       "'Moderna'"
      ]
     },
     "execution_count": 34,
     "metadata": {},
     "output_type": "execute_result"
    }
   ],
   "source": [
    "#Q20: You want to rely on collective judgement and you would prefer to take vaccine that has been used by maximum number of countries. Which vaccine is used by most countries?\n",
    "res = \"\"\n",
    "cnt = 0\n",
    "for vacc in res_19:\n",
    "    if len(res_19[vacc]) > cnt:\n",
    "        cnt = len(res_19[vacc])\n",
    "        res = vacc\n",
    "res"
   ]
  },
  {
   "cell_type": "code",
   "execution_count": null,
   "metadata": {},
   "outputs": [],
   "source": []
  }
 ],
 "metadata": {
  "kernelspec": {
   "display_name": "Python 3",
   "language": "python",
   "name": "python3"
  },
  "language_info": {
   "codemirror_mode": {
    "name": "ipython",
    "version": 3
   },
   "file_extension": ".py",
   "mimetype": "text/x-python",
   "name": "python",
   "nbconvert_exporter": "python",
   "pygments_lexer": "ipython3",
   "version": "3.8.5"
  }
 },
 "nbformat": 4,
 "nbformat_minor": 4
}

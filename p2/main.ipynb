{
 "cells": [
  {
   "cell_type": "code",
   "execution_count": 1,
   "metadata": {},
   "outputs": [],
   "source": [
    "# project: p3\n",
    "# submitter: wchen394\n",
    "# partner: zyu293\n",
    "# hours: 1"
   ]
  },
  {
   "cell_type": "code",
   "execution_count": 6,
   "metadata": {},
   "outputs": [],
   "source": [
    "import project\n",
    "from project import get_id\n",
    "import math\n",
    "project.init(\"madison.csv\")"
   ]
  },
  {
   "cell_type": "code",
   "execution_count": 7,
   "metadata": {},
   "outputs": [
    {
     "ename": "Exception",
     "evalue": "No agency 'mayor', only these: schools,gyms,restaurants,stores,governments",
     "output_type": "error",
     "traceback": [
      "\u001b[1;31m---------------------------------------------------------------------------\u001b[0m",
      "\u001b[1;31mException\u001b[0m                                 Traceback (most recent call last)",
      "\u001b[1;32m<ipython-input-7-7d5377ef4b27>\u001b[0m in \u001b[0;36m<module>\u001b[1;34m\u001b[0m\n\u001b[0;32m      1\u001b[0m \u001b[0mproject\u001b[0m\u001b[1;33m.\u001b[0m\u001b[0minit\u001b[0m\u001b[1;33m(\u001b[0m\u001b[1;34m\"madison.csv\"\u001b[0m\u001b[1;33m)\u001b[0m\u001b[1;33m\u001b[0m\u001b[1;33m\u001b[0m\u001b[0m\n\u001b[1;32m----> 2\u001b[1;33m \u001b[0mprint\u001b[0m\u001b[1;33m(\u001b[0m\u001b[0mget_id\u001b[0m\u001b[1;33m(\u001b[0m\u001b[1;34m\"mayor\"\u001b[0m\u001b[1;33m)\u001b[0m\u001b[1;33m)\u001b[0m\u001b[1;33m\u001b[0m\u001b[1;33m\u001b[0m\u001b[0m\n\u001b[0m",
      "\u001b[1;32m~\\OneDrive\\Documents\\cs220\\p2\\project.py\u001b[0m in \u001b[0;36mget_id\u001b[1;34m(agency)\u001b[0m\n\u001b[0;32m     49\u001b[0m         \u001b[1;32mraise\u001b[0m \u001b[0mException\u001b[0m\u001b[1;33m(\u001b[0m\u001b[1;34m\"you did not call init first\"\u001b[0m\u001b[1;33m)\u001b[0m\u001b[1;33m\u001b[0m\u001b[1;33m\u001b[0m\u001b[0m\n\u001b[0;32m     50\u001b[0m     \u001b[1;32mif\u001b[0m \u001b[1;32mnot\u001b[0m \u001b[0magency\u001b[0m \u001b[1;32min\u001b[0m \u001b[0m__agency_to_id\u001b[0m\u001b[1;33m:\u001b[0m\u001b[1;33m\u001b[0m\u001b[1;33m\u001b[0m\u001b[0m\n\u001b[1;32m---> 51\u001b[1;33m         raise Exception(\"No agency '%s', only these: %s\" %\n\u001b[0m\u001b[0;32m     52\u001b[0m                         (str(agency), ','.join(list(__agency_to_id.keys()))))\n\u001b[0;32m     53\u001b[0m     \u001b[1;32mreturn\u001b[0m \u001b[0m__agency_to_id\u001b[0m\u001b[1;33m[\u001b[0m\u001b[0magency\u001b[0m\u001b[1;33m]\u001b[0m\u001b[1;33m\u001b[0m\u001b[1;33m\u001b[0m\u001b[0m\n",
      "\u001b[1;31mException\u001b[0m: No agency 'mayor', only these: schools,gyms,restaurants,stores,governments"
     ]
    }
   ],
   "source": [
    "project.init(\"madison.csv\")\n",
    "print(get_id(\"mayor\"))"
   ]
  },
  {
   "cell_type": "code",
   "execution_count": 3,
   "metadata": {},
   "outputs": [
    {
     "data": {
      "text/plain": [
       "6"
      ]
     },
     "execution_count": 3,
     "metadata": {},
     "output_type": "execute_result"
    }
   ],
   "source": [
    "#Q1: What is the agency ID of the gyms agency?\n",
    "project.get_id(\"gyms\")"
   ]
  },
  {
   "cell_type": "code",
   "execution_count": 4,
   "metadata": {},
   "outputs": [
    {
     "data": {
      "text/plain": [
       "19.159243279999995"
      ]
     },
     "execution_count": 4,
     "metadata": {},
     "output_type": "execute_result"
    }
   ],
   "source": [
    "#Q2: How much did the agency with ID 122 spend in 2018?\n",
    "project.get_spending(122, 2018)"
   ]
  },
  {
   "cell_type": "code",
   "execution_count": 5,
   "metadata": {},
   "outputs": [
    {
     "data": {
      "text/plain": [
       "19.76071"
      ]
     },
     "execution_count": 5,
     "metadata": {},
     "output_type": "execute_result"
    }
   ],
   "source": [
    "#Q3: How much did \"stores\" spend in 2020?\n",
    "project.get_spending(project.get_id(\"stores\"), 2020)"
   ]
  },
  {
   "cell_type": "code",
   "execution_count": 6,
   "metadata": {},
   "outputs": [],
   "source": [
    "schools_id = project.get_id(\"schools\")\n",
    "gyms_id = project.get_id(\"gyms\")\n",
    "restaurants_id = project.get_id(\"restaurants\")\n",
    "governments_id = project.get_id(\"governments\")\n",
    "stores_id = project.get_id(\"stores\")"
   ]
  },
  {
   "cell_type": "code",
   "execution_count": 7,
   "metadata": {},
   "outputs": [],
   "source": [
    "def year_min(year):\n",
    "    # grab the spending by each agency in the given year\n",
    "    governments_spending = project.get_spending(project.get_id(\"governments\"), year)\n",
    "    gyms_spending = project.get_spending(project.get_id(\"gyms\"), year)\n",
    "    restaurants_spending = project.get_spending(project.get_id(\"restaurants\"), year)\n",
    "    schools_spending = project.get_spending(project.get_id(\"schools\"), year)\n",
    "    stores_spending = project.get_spending(project.get_id(\"stores\"), year)\n",
    "\n",
    "    # use builtin min function to get the largest of the five values\n",
    "    return min(governments_spending, gyms_spending, restaurants_spending, schools_spending, stores_spending)"
   ]
  },
  {
   "cell_type": "code",
   "execution_count": 8,
   "metadata": {},
   "outputs": [
    {
     "data": {
      "text/plain": [
       "18.12552139"
      ]
     },
     "execution_count": 8,
     "metadata": {},
     "output_type": "execute_result"
    }
   ],
   "source": [
    "#Q4: What was the least spent by a single agency in 2018?\n",
    "year_min(2018)"
   ]
  },
  {
   "cell_type": "code",
   "execution_count": 9,
   "metadata": {},
   "outputs": [
    {
     "data": {
      "text/plain": [
       "19.76071"
      ]
     },
     "execution_count": 9,
     "metadata": {},
     "output_type": "execute_result"
    }
   ],
   "source": [
    "#Q5: What was the least spent by a single agency in 2020?\n",
    "year_min(2020)"
   ]
  },
  {
   "cell_type": "code",
   "execution_count": 10,
   "metadata": {},
   "outputs": [],
   "source": [
    "def agency_max(agency):\n",
    "    agency_id = project.get_id(agency)\n",
    "    y17 = project.get_spending(agency_id, 2017)\n",
    "    y18 = project.get_spending(agency_id, 2018)\n",
    "    y19 = project.get_spending(agency_id, 2019)\n",
    "    y20 = project.get_spending(agency_id, 2020)\n",
    "\n",
    "    # use the max function (similar to the min function)\n",
    "    # to get the maximum across the four years\n",
    "    # and return that value\n",
    "    return max(y17,y18,y19,y20)"
   ]
  },
  {
   "cell_type": "code",
   "execution_count": 11,
   "metadata": {},
   "outputs": [
    {
     "data": {
      "text/plain": [
       "77.87553504"
      ]
     },
     "execution_count": 11,
     "metadata": {},
     "output_type": "execute_result"
    }
   ],
   "source": [
    "#Q6: What was the most that schools ever spent in a year?\n",
    "agency_max(\"schools\")"
   ]
  },
  {
   "cell_type": "code",
   "execution_count": 12,
   "metadata": {},
   "outputs": [
    {
     "data": {
      "text/plain": [
       "28.2286218"
      ]
     },
     "execution_count": 12,
     "metadata": {},
     "output_type": "execute_result"
    }
   ],
   "source": [
    "#Q7: What was the most that governments ever spent in a year?\n",
    "agency_max(\"governments\")"
   ]
  },
  {
   "cell_type": "code",
   "execution_count": 13,
   "metadata": {},
   "outputs": [],
   "source": [
    "def agency_avg(agency):\n",
    "    agency_id = project.get_id(agency)\n",
    "    y17 = project.get_spending(agency_id, 2017)\n",
    "    y18 = project.get_spending(agency_id, 2018)\n",
    "    y19 = project.get_spending(agency_id, 2019)\n",
    "    y20 = project.get_spending(agency_id, 2020)\n",
    "\n",
    "    # use the max function (similar to the min function)\n",
    "    # to get the maximum across the four years\n",
    "    # and return that value\n",
    "    return round((y17+y18+y19+y20)/4,2)"
   ]
  },
  {
   "cell_type": "code",
   "execution_count": 14,
   "metadata": {},
   "outputs": [
    {
     "data": {
      "text/plain": [
       "59.65"
      ]
     },
     "execution_count": 14,
     "metadata": {},
     "output_type": "execute_result"
    }
   ],
   "source": [
    "#Q8: How much is spent per year on stores on average?\n",
    "agency_avg(\"stores\")"
   ]
  },
  {
   "cell_type": "code",
   "execution_count": 15,
   "metadata": {},
   "outputs": [
    {
     "data": {
      "text/plain": [
       "52.52"
      ]
     },
     "execution_count": 15,
     "metadata": {},
     "output_type": "execute_result"
    }
   ],
   "source": [
    "#Q9: How much is spent per year on gyms, on average?\n",
    "agency_avg(\"gyms\")"
   ]
  },
  {
   "cell_type": "code",
   "execution_count": 16,
   "metadata": {},
   "outputs": [
    {
     "data": {
      "text/plain": [
       "3.33"
      ]
     },
     "execution_count": 16,
     "metadata": {},
     "output_type": "execute_result"
    }
   ],
   "source": [
    "#Q10: How much did the restaurants spend above their average in 2019?\n",
    "round((project.get_spending(restaurants_id,2019) - agency_avg(\"restaurants\"))/agency_avg(\"restaurants\")*100,2)"
   ]
  },
  {
   "cell_type": "code",
   "execution_count": 17,
   "metadata": {},
   "outputs": [],
   "source": [
    "def year_avg(year=2018):\n",
    "    return round((project.get_spending(schools_id,year)+\n",
    "    project.get_spending(gyms_id,year)+\n",
    "    project.get_spending(restaurants_id,year)+\n",
    "    project.get_spending(stores_id,year)+\n",
    "    project.get_spending(governments_id,year))/5,2)"
   ]
  },
  {
   "cell_type": "code",
   "execution_count": 18,
   "metadata": {},
   "outputs": [
    {
     "data": {
      "text/plain": [
       "37.76"
      ]
     },
     "execution_count": 18,
     "metadata": {},
     "output_type": "execute_result"
    }
   ],
   "source": [
    "#Q11: How much is the average spending in 2018?\n",
    "year_avg()"
   ]
  },
  {
   "cell_type": "code",
   "execution_count": 19,
   "metadata": {},
   "outputs": [
    {
     "data": {
      "text/plain": [
       "40.1"
      ]
     },
     "execution_count": 19,
     "metadata": {},
     "output_type": "execute_result"
    }
   ],
   "source": [
    "#Q12: How much is the average spending in 2020?\n",
    "year_avg(2020)"
   ]
  },
  {
   "cell_type": "code",
   "execution_count": 15,
   "metadata": {},
   "outputs": [],
   "source": [
    "def change_per_year(agency, start_year=2017, end_year=2020):\n",
    "     return round((project.get_spending(agency,end_year) - project.get_spending(agency,start_year))/(end_year - start_year),2)"
   ]
  },
  {
   "cell_type": "code",
   "execution_count": 16,
   "metadata": {},
   "outputs": [
    {
     "data": {
      "text/plain": [
       "0.81"
      ]
     },
     "execution_count": 16,
     "metadata": {},
     "output_type": "execute_result"
    }
   ],
   "source": [
    "#Q13: how much has spending increased per year (on average) for governments from 2017 to 2020?\n",
    "change_per_year(governments_id)"
   ]
  },
  {
   "cell_type": "code",
   "execution_count": 17,
   "metadata": {},
   "outputs": [
    {
     "data": {
      "text/plain": [
       "1.7"
      ]
     },
     "execution_count": 17,
     "metadata": {},
     "output_type": "execute_result"
    }
   ],
   "source": [
    "#Q14: how much has spending increased per year (on average) for gyms from 2017 to 2019?\n",
    "change_per_year(gyms_id, end_year=2019)"
   ]
  },
  {
   "cell_type": "code",
   "execution_count": 37,
   "metadata": {},
   "outputs": [],
   "source": [
    "def extrapolate(agency, year1, year2, year3):\n",
    "    return round(((project.get_spending(agency,year2) - project.get_spending(agency,year1))/(year2-year1)) * (year3 - year2)+project.get_spending(agency,year2), 2)"
   ]
  },
  {
   "cell_type": "code",
   "execution_count": 38,
   "metadata": {},
   "outputs": [
    {
     "data": {
      "text/plain": [
       "77.09"
      ]
     },
     "execution_count": 38,
     "metadata": {},
     "output_type": "execute_result"
    }
   ],
   "source": [
    "#Q15: how much will schools spend in 2021?\n",
    "extrapolate(schools_id,2018,2019,2021)"
   ]
  },
  {
   "cell_type": "code",
   "execution_count": 39,
   "metadata": {},
   "outputs": [
    {
     "data": {
      "text/plain": [
       "43.52"
      ]
     },
     "execution_count": 39,
     "metadata": {},
     "output_type": "execute_result"
    }
   ],
   "source": [
    "#Q16: how much will stores spend in 2099?\n",
    "extrapolate(stores_id,2018,2020,2099)"
   ]
  },
  {
   "cell_type": "code",
   "execution_count": 45,
   "metadata": {},
   "outputs": [
    {
     "data": {
      "text/plain": [
       "384.6"
      ]
     },
     "execution_count": 45,
     "metadata": {},
     "output_type": "execute_result"
    }
   ],
   "source": [
    "#Q17: how much will restaurants spend in 2400?\n",
    "extrapolate(restaurants_id,2017,2020,2400)"
   ]
  },
  {
   "cell_type": "code",
   "execution_count": 41,
   "metadata": {},
   "outputs": [],
   "source": [
    "def extrapolate_error(agency, year1, year2, year3):\n",
    "    guess = extrapolate(agency,year1,year2,year3)\n",
    "    actual = project.get_spending(agency,year3)\n",
    "    return round(guess - actual, 2)"
   ]
  },
  {
   "cell_type": "code",
   "execution_count": 42,
   "metadata": {},
   "outputs": [
    {
     "data": {
      "text/plain": [
       "6.15"
      ]
     },
     "execution_count": 42,
     "metadata": {},
     "output_type": "execute_result"
    }
   ],
   "source": [
    "#Q18: what is the error if we extrapolate to 2020 from the 2017-to-2018 data for governments?\n",
    "extrapolate_error(governments_id, 2017, 2018, 2020)"
   ]
  },
  {
   "cell_type": "code",
   "execution_count": 43,
   "metadata": {},
   "outputs": [
    {
     "data": {
      "text/plain": [
       "-2.62"
      ]
     },
     "execution_count": 43,
     "metadata": {},
     "output_type": "execute_result"
    }
   ],
   "source": [
    "#Q19: what is the percent error if we extrapolate to 2020 from the 2017-to-2019 data for schools?\n",
    "round((extrapolate_error(schools_id, 2017, 2019, 2020)*100)/project.get_spending(schools_id,2020), 2)"
   ]
  },
  {
   "cell_type": "code",
   "execution_count": 44,
   "metadata": {},
   "outputs": [
    {
     "data": {
      "text/plain": [
       "1.08"
      ]
     },
     "execution_count": 44,
     "metadata": {},
     "output_type": "execute_result"
    }
   ],
   "source": [
    "#Q20: what is the standard deviation for restaurants spending over the 4 years?\n",
    "agency_id = project.get_id(\"restaurants\")\n",
    "y17 = project.get_spending(agency_id, 2017)\n",
    "y18 = project.get_spending(agency_id, 2018)\n",
    "y19 = project.get_spending(agency_id, 2019)\n",
    "y20 = project.get_spending(agency_id, 2020)\n",
    "mean = (y17+y18+y19+y20)/4\n",
    "sd = math.sqrt((pow(y17-mean,2)+pow(y18-mean,2)+pow(y19-mean,2)+pow(y20-mean,2))/4)\n",
    "round(sd, 2)"
   ]
  },
  {
   "cell_type": "code",
   "execution_count": null,
   "metadata": {},
   "outputs": [],
   "source": []
  },
  {
   "cell_type": "code",
   "execution_count": null,
   "metadata": {},
   "outputs": [],
   "source": []
  },
  {
   "cell_type": "code",
   "execution_count": null,
   "metadata": {},
   "outputs": [],
   "source": []
  }
 ],
 "metadata": {
  "kernelspec": {
   "display_name": "Python 3",
   "language": "python",
   "name": "python3"
  },
  "language_info": {
   "codemirror_mode": {
    "name": "ipython",
    "version": 3
   },
   "file_extension": ".py",
   "mimetype": "text/x-python",
   "name": "python",
   "nbconvert_exporter": "python",
   "pygments_lexer": "ipython3",
   "version": "3.8.5"
  }
 },
 "nbformat": 4,
 "nbformat_minor": 4
}

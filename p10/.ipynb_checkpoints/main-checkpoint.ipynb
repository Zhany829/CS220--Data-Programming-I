{
 "cells": [
  {
   "cell_type": "code",
   "execution_count": 1,
   "metadata": {},
   "outputs": [],
   "source": [
    "# project: p10\n",
    "# submitter: wchen394\n",
    "# partner: zyu293\n",
    "# hours: 2"
   ]
  },
  {
   "cell_type": "code",
   "execution_count": 2,
   "metadata": {},
   "outputs": [],
   "source": [
    "import os, json, csv\n",
    "from collections import namedtuple\n",
    "from operator import attrgetter"
   ]
  },
  {
   "cell_type": "code",
   "execution_count": 3,
   "metadata": {},
   "outputs": [
    {
     "data": {
      "text/plain": [
       "4"
      ]
     },
     "execution_count": 3,
     "metadata": {},
     "output_type": "execute_result"
    }
   ],
   "source": [
    "#Q1: How many files are present in the sample_data directory?\n",
    "len(os.listdir(\"sample_data\"))"
   ]
  },
  {
   "cell_type": "code",
   "execution_count": 4,
   "metadata": {},
   "outputs": [
    {
     "data": {
      "text/plain": [
       "10"
      ]
     },
     "execution_count": 4,
     "metadata": {},
     "output_type": "execute_result"
    }
   ],
   "source": [
    "#Q2: How many files are present in the full_data directory?\n",
    "len(os.listdir(\"full_data\"))"
   ]
  },
  {
   "cell_type": "code",
   "execution_count": 5,
   "metadata": {},
   "outputs": [],
   "source": [
    "def get_all_file_path(folder):\n",
    "    files = os.listdir(folder)\n",
    "    res = []\n",
    "    for file in files:\n",
    "        path = ''\n",
    "        path = os.path.join(folder, file)\n",
    "        res.append(path)\n",
    "    return res"
   ]
  },
  {
   "cell_type": "code",
   "execution_count": 6,
   "metadata": {},
   "outputs": [
    {
     "data": {
      "text/plain": [
       "['sample_data\\\\1.csv',\n",
       " 'sample_data\\\\1.json',\n",
       " 'sample_data\\\\2.csv',\n",
       " 'sample_data\\\\2.json']"
      ]
     },
     "execution_count": 6,
     "metadata": {},
     "output_type": "execute_result"
    }
   ],
   "source": [
    "#Q3: What are the paths of all the files in the sample_data directory?\n",
    "get_all_file_path(\"sample_data\")"
   ]
  },
  {
   "cell_type": "code",
   "execution_count": 7,
   "metadata": {},
   "outputs": [
    {
     "data": {
      "text/plain": [
       "['full_data\\\\1.csv',\n",
       " 'full_data\\\\1.json',\n",
       " 'full_data\\\\2.csv',\n",
       " 'full_data\\\\2.json',\n",
       " 'full_data\\\\3.csv',\n",
       " 'full_data\\\\3.json',\n",
       " 'full_data\\\\4.csv',\n",
       " 'full_data\\\\4.json',\n",
       " 'full_data\\\\5.csv',\n",
       " 'full_data\\\\5.json']"
      ]
     },
     "execution_count": 7,
     "metadata": {},
     "output_type": "execute_result"
    }
   ],
   "source": [
    "#Q4: What are the paths of all the files in the full_data directory?\n",
    "get_all_file_path(\"full_data\")"
   ]
  },
  {
   "cell_type": "code",
   "execution_count": 8,
   "metadata": {},
   "outputs": [],
   "source": [
    "def get_all_csv_path(folder):\n",
    "    files = os.listdir(folder)\n",
    "    res = []\n",
    "    for file in files:\n",
    "        if file[-4:] == '.csv':\n",
    "            path = ''\n",
    "            path = os.path.join(\"sample_data\", file)\n",
    "            res.append(path)\n",
    "    return res"
   ]
  },
  {
   "cell_type": "code",
   "execution_count": 9,
   "metadata": {},
   "outputs": [
    {
     "data": {
      "text/plain": [
       "['sample_data\\\\1.csv', 'sample_data\\\\2.csv']"
      ]
     },
     "execution_count": 9,
     "metadata": {},
     "output_type": "execute_result"
    }
   ],
   "source": [
    "#Q5: What are the paths of the CSV files present in the sample_data directory?\n",
    "get_all_csv_path(\"sample_data\")"
   ]
  },
  {
   "cell_type": "code",
   "execution_count": 10,
   "metadata": {},
   "outputs": [],
   "source": [
    "def get_all_json_path(folder):\n",
    "    files = os.listdir(folder)\n",
    "    res = []\n",
    "    for file in files:\n",
    "        if file[-5:] == '.json':\n",
    "            path = ''\n",
    "            path = os.path.join(\"sample_data\", file)\n",
    "            res.append(path)\n",
    "    return res"
   ]
  },
  {
   "cell_type": "code",
   "execution_count": 11,
   "metadata": {},
   "outputs": [
    {
     "data": {
      "text/plain": [
       "['sample_data\\\\1.json',\n",
       " 'sample_data\\\\2.json',\n",
       " 'sample_data\\\\3.json',\n",
       " 'sample_data\\\\4.json',\n",
       " 'sample_data\\\\5.json']"
      ]
     },
     "execution_count": 11,
     "metadata": {},
     "output_type": "execute_result"
    }
   ],
   "source": [
    "#Q6: What are the paths of the json files present in the full_data directory?\n",
    "get_all_json_path(\"full_data\")"
   ]
  },
  {
   "cell_type": "code",
   "execution_count": 12,
   "metadata": {},
   "outputs": [],
   "source": [
    "Tweet = namedtuple('Tweet', ['tweet_id', 'username', 'num_liked', 'length'])\n",
    "def get_tweets(file,folder):\n",
    "    res = []\n",
    "    f = open(os.path.join(folder, file), encoding=\"utf-8\")\n",
    "    reader = csv.DictReader(f)\n",
    "    for row in reader:\n",
    "        if row[\"is_retweet\"] != None:\n",
    "            like = 0\n",
    "            if str(row[\"num_liked\"])[-1] == 'K':\n",
    "                like = int(str(row[\"num_liked\"])[:-1]) * 1000\n",
    "            elif str(row[\"num_liked\"])[-1] == 'M':\n",
    "                like = int(str(row[\"num_liked\"])[:-1]) * 1000000\n",
    "            else:\n",
    "                like = int(row[\"num_liked\"])\n",
    "            t = Tweet(row[\"tweet_id\"], row[\"username\"], like, len(row[\"tweet_text\"]))\n",
    "            res.append(t)\n",
    "    f.close()\n",
    "    return res"
   ]
  },
  {
   "cell_type": "code",
   "execution_count": 13,
   "metadata": {},
   "outputs": [
    {
     "data": {
      "text/plain": [
       "[Tweet(tweet_id='1467812799', username='USERID_7', num_liked=3340, length=103),\n",
       " Tweet(tweet_id='1467812964', username='USERID_10', num_liked=3684, length=93),\n",
       " Tweet(tweet_id='1467813137', username='USERID_5', num_liked=6816, length=20),\n",
       " Tweet(tweet_id='1467813579', username='USERID_1', num_liked=1348, length=64),\n",
       " Tweet(tweet_id='1467813782', username='USERID_1', num_liked=4770, length=79)]"
      ]
     },
     "execution_count": 13,
     "metadata": {},
     "output_type": "execute_result"
    }
   ],
   "source": [
    "#Q7: What are the tweets present in the CSV file 2.csv in sample_data?\n",
    "get_tweets(\"2.csv\",\"sample_data\")"
   ]
  },
  {
   "cell_type": "code",
   "execution_count": 14,
   "metadata": {},
   "outputs": [
    {
     "data": {
      "text/plain": [
       "[Tweet(tweet_id='1467901250', username='USERID_6', num_liked=7790, length=132),\n",
       " Tweet(tweet_id='1467901346', username='USERID_1', num_liked=5079, length=137),\n",
       " Tweet(tweet_id='1467901437', username='USERID_6', num_liked=5913, length=60),\n",
       " Tweet(tweet_id='1467901500', username='USERID_7', num_liked=7376, length=13),\n",
       " Tweet(tweet_id='1467901839', username='USERID_7', num_liked=4871, length=101),\n",
       " Tweet(tweet_id='1467904302', username='USERID_8', num_liked=1195, length=91),\n",
       " Tweet(tweet_id='1467905125', username='USERID_7', num_liked=1738, length=27),\n",
       " Tweet(tweet_id='1467905378', username='USERID_2', num_liked=4420, length=111),\n",
       " Tweet(tweet_id='1467905653', username='USERID_10', num_liked=8845, length=82),\n",
       " Tweet(tweet_id='1467906151', username='USERID_8', num_liked=6711, length=45),\n",
       " Tweet(tweet_id='1467906345', username='USERID_3', num_liked=8279, length=46),\n",
       " Tweet(tweet_id='1467906723', username='USERID_6', num_liked=7222, length=28),\n",
       " Tweet(tweet_id='1467907298', username='USERID_8', num_liked=9005, length=61),\n",
       " Tweet(tweet_id='1467907751', username='USERID_2', num_liked=9048, length=110),\n",
       " Tweet(tweet_id='1467907876', username='USERID_7', num_liked=1347, length=87),\n",
       " Tweet(tweet_id='1467908012', username='USERID_1', num_liked=1809, length=50),\n",
       " Tweet(tweet_id='1467908134', username='USERID_7', num_liked=8983, length=66),\n",
       " Tweet(tweet_id='1467908456', username='USERID_5', num_liked=2265, length=138),\n",
       " Tweet(tweet_id='1467908672', username='USERID_10', num_liked=1692, length=48),\n",
       " Tweet(tweet_id='1467908798', username='USERID_2', num_liked=1659, length=51),\n",
       " Tweet(tweet_id='1467909124', username='USERID_4', num_liked=9406, length=118),\n",
       " Tweet(tweet_id='1467909222', username='USERID_5', num_liked=8887, length=136),\n",
       " Tweet(tweet_id='1467909292', username='USERID_10', num_liked=5179, length=45),\n",
       " Tweet(tweet_id='1467910531', username='USERID_7', num_liked=6172, length=34),\n",
       " Tweet(tweet_id='1467910689', username='USERID_3', num_liked=1529, length=37),\n",
       " Tweet(tweet_id='1467910932', username='USERID_8', num_liked=1507, length=68),\n",
       " Tweet(tweet_id='1467910986', username='USERID_6', num_liked=836, length=66),\n",
       " Tweet(tweet_id='1467910995', username='USERID_4', num_liked=2886, length=57),\n",
       " Tweet(tweet_id='1467911036', username='USERID_7', num_liked=6950, length=101),\n",
       " Tweet(tweet_id='1467911302', username='USERID_10', num_liked=8562, length=119),\n",
       " Tweet(tweet_id='1467911624', username='USERID_5', num_liked=5668, length=77),\n",
       " Tweet(tweet_id='1467911846', username='USERID_3', num_liked=1352, length=67),\n",
       " Tweet(tweet_id='1467912100', username='USERID_6', num_liked=3394, length=94),\n",
       " Tweet(tweet_id='1467912333', username='USERID_7', num_liked=3345, length=49),\n",
       " Tweet(tweet_id='1467912572', username='USERID_3', num_liked=36, length=80),\n",
       " Tweet(tweet_id='1467912842', username='USERID_4', num_liked=496, length=14),\n",
       " Tweet(tweet_id='1467912994', username='USERID_8', num_liked=926, length=57),\n",
       " Tweet(tweet_id='1467913111', username='USERID_7', num_liked=5185, length=144),\n",
       " Tweet(tweet_id='1467913608', username='USERID_8', num_liked=8262, length=111),\n",
       " Tweet(tweet_id='1467914434', username='USERID_1', num_liked=1269, length=49),\n",
       " Tweet(tweet_id='1467914499', username='USERID_2', num_liked=910, length=138),\n",
       " Tweet(tweet_id='1467914916', username='USERID_4', num_liked=3232, length=91),\n",
       " Tweet(tweet_id='1467915140', username='USERID_7', num_liked=1996, length=22),\n",
       " Tweet(tweet_id='1467915612', username='USERID_6', num_liked=4014, length=41),\n",
       " Tweet(tweet_id='1467915670', username='USERID_2', num_liked=5287, length=138),\n",
       " Tweet(tweet_id='1467916510', username='USERID_8', num_liked=8150, length=96),\n",
       " Tweet(tweet_id='1467916595', username='USERID_6', num_liked=1178, length=138),\n",
       " Tweet(tweet_id='1467916695', username='USERID_10', num_liked=6691, length=54),\n",
       " Tweet(tweet_id='1467916700', username='USERID_9', num_liked=2519, length=136),\n",
       " Tweet(tweet_id='1467916820', username='USERID_10', num_liked=8557, length=127)]"
      ]
     },
     "execution_count": 14,
     "metadata": {},
     "output_type": "execute_result"
    }
   ],
   "source": [
    "#Q8: What are the tweets present in the CSV file 3.csv in full_data?\n",
    "get_tweets(\"3.csv\",\"full_data\")"
   ]
  },
  {
   "cell_type": "code",
   "execution_count": 15,
   "metadata": {},
   "outputs": [
    {
     "data": {
      "text/plain": [
       "[Tweet(tweet_id='1467876711', username='USERID_10', num_liked=1117, length=84),\n",
       " Tweet(tweet_id='1467877496', username='USERID_1', num_liked=2062, length=106),\n",
       " Tweet(tweet_id='1467877833', username='USERID_2', num_liked=4270, length=89),\n",
       " Tweet(tweet_id='1467877865', username='USERID_1', num_liked=5899, length=30),\n",
       " Tweet(tweet_id='1467878057', username='USERID_6', num_liked=703, length=42),\n",
       " Tweet(tweet_id='1467878557', username='USERID_6', num_liked=5814, length=61),\n",
       " Tweet(tweet_id='1467878633', username='USERID_2', num_liked=2351, length=33),\n",
       " Tweet(tweet_id='1467878971', username='USERID_2', num_liked=2238, length=27),\n",
       " Tweet(tweet_id='1467878983', username='USERID_8', num_liked=4860, length=61),\n",
       " Tweet(tweet_id='1467879480', username='USERID_4', num_liked=1345, length=97),\n",
       " Tweet(tweet_id='1467879984', username='USERID_2', num_liked=3694, length=69),\n",
       " Tweet(tweet_id='1467880085', username='USERID_4', num_liked=2478, length=120),\n",
       " Tweet(tweet_id='1467880431', username='USERID_3', num_liked=9407, length=85),\n",
       " Tweet(tweet_id='1467880442', username='USERID_2', num_liked=5125, length=96),\n",
       " Tweet(tweet_id='1467880463', username='USERID_9', num_liked=1226, length=29),\n",
       " Tweet(tweet_id='1467880692', username='USERID_6', num_liked=4989, length=49),\n",
       " Tweet(tweet_id='1467881131', username='USERID_10', num_liked=732, length=107),\n",
       " Tweet(tweet_id='1467881373', username='USERID_6', num_liked=8615, length=145),\n",
       " Tweet(tweet_id='1467881376', username='USERID_4', num_liked=4378, length=49),\n",
       " Tweet(tweet_id='1467881457', username='USERID_7', num_liked=119, length=27),\n",
       " Tweet(tweet_id='1467881686', username='USERID_5', num_liked=8136, length=46),\n",
       " Tweet(tweet_id='1467881809', username='USERID_4', num_liked=1797, length=138),\n",
       " Tweet(tweet_id='1467881897', username='USERID_5', num_liked=2314, length=76),\n",
       " Tweet(tweet_id='1467881920', username='USERID_3', num_liked=4101, length=112),\n",
       " Tweet(tweet_id='1467882140', username='USERID_8', num_liked=5320, length=137),\n",
       " Tweet(tweet_id='1467882491', username='USERID_10', num_liked=3512, length=55),\n",
       " Tweet(tweet_id='1467882592', username='USERID_10', num_liked=1887, length=67),\n",
       " Tweet(tweet_id='1467882902', username='USERID_3', num_liked=4646, length=48),\n",
       " Tweet(tweet_id='1467888679', username='USERID_8', num_liked=3089, length=27),\n",
       " Tweet(tweet_id='1467888732', username='USERID_7', num_liked=2800, length=48),\n",
       " Tweet(tweet_id='1467888953', username='USERID_3', num_liked=3951, length=46),\n",
       " Tweet(tweet_id='1467889231', username='USERID_5', num_liked=1320, length=79),\n",
       " Tweet(tweet_id='1467889334', username='USERID_5', num_liked=8495, length=42),\n",
       " Tweet(tweet_id='1467889574', username='USERID_1', num_liked=4696, length=123),\n",
       " Tweet(tweet_id='1467889791', username='USERID_5', num_liked=4027, length=132),\n",
       " Tweet(tweet_id='1467889988', username='USERID_2', num_liked=7394, length=51),\n",
       " Tweet(tweet_id='1467890079', username='USERID_8', num_liked=2556, length=38),\n",
       " Tweet(tweet_id='1467890222', username='USERID_2', num_liked=227, length=107),\n",
       " Tweet(tweet_id='1467890723', username='USERID_1', num_liked=96, length=134),\n",
       " Tweet(tweet_id='1467891826', username='USERID_9', num_liked=2021, length=113),\n",
       " Tweet(tweet_id='1467891880', username='USERID_7', num_liked=6847, length=96),\n",
       " Tweet(tweet_id='1467892075', username='USERID_6', num_liked=2816, length=124),\n",
       " Tweet(tweet_id='1467892515', username='USERID_5', num_liked=917, length=39),\n",
       " Tweet(tweet_id='1467892667', username='USERID_2', num_liked=8270, length=20),\n",
       " Tweet(tweet_id='1467892720', username='USERID_3', num_liked=3227, length=128)]"
      ]
     },
     "execution_count": 15,
     "metadata": {},
     "output_type": "execute_result"
    }
   ],
   "source": [
    "#Q9: What are the tweets present in the CSV file 2.csv in full_data?\n",
    "get_tweets(\"2.csv\",\"full_data\")"
   ]
  },
  {
   "cell_type": "code",
   "execution_count": 16,
   "metadata": {},
   "outputs": [],
   "source": [
    "def get_tweets_json(file,folder):\n",
    "    res = []\n",
    "    f = open(os.path.join(folder, file), encoding=\"utf-8\")\n",
    "    json_str = f.read()\n",
    "    f.close()\n",
    "    try:\n",
    "        data = json.loads(json_str)\n",
    "        for key in data:\n",
    "                if data[key][\"num_liked\"] != 'unkown':\n",
    "                    like = 0\n",
    "                    if str(data[key][\"num_liked\"])[-1].lower() == 'k':\n",
    "                        like = int(str(data[key][\"num_liked\"])[:-1]) * 1000\n",
    "                    elif str(data[key][\"num_liked\"])[-1].lower() == 'm':\n",
    "                        like = int(str(data[key][\"num_liked\"])[:-1]) * 1000000\n",
    "                    else:\n",
    "                        like = int(data[key][\"num_liked\"])\n",
    "                    t = Tweet(key, data[key][\"username\"], like, len(data[key][\"tweet_text\"]))\n",
    "                    res.append(t)\n",
    "    except json.decoder.JSONDecodeError:\n",
    "        return\n",
    "    return res\n",
    "    "
   ]
  },
  {
   "cell_type": "code",
   "execution_count": 17,
   "metadata": {},
   "outputs": [
    {
     "data": {
      "text/plain": [
       "[Tweet(tweet_id='1467810369', username='USERID_4', num_liked=315, length=115),\n",
       " Tweet(tweet_id='1467810672', username='USERID_8', num_liked=5298, length=111),\n",
       " Tweet(tweet_id='1467810917', username='USERID_8', num_liked=533, length=89),\n",
       " Tweet(tweet_id='1467811184', username='USERID_6', num_liked=2650, length=47),\n",
       " Tweet(tweet_id='1467811193', username='USERID_8', num_liked=2101, length=111)]"
      ]
     },
     "execution_count": 17,
     "metadata": {},
     "output_type": "execute_result"
    }
   ],
   "source": [
    "#Q10: What are the tweets present in the JSON file 1.json in sample_data?\n",
    "get_tweets_json(\"1.json\",\"sample_data\")"
   ]
  },
  {
   "cell_type": "code",
   "execution_count": 18,
   "metadata": {},
   "outputs": [
    {
     "data": {
      "text/plain": [
       "[Tweet(tweet_id='1467892760', username='USERID_6', num_liked=4443, length=56),\n",
       " Tweet(tweet_id='1467892889', username='USERID_1', num_liked=7439, length=91),\n",
       " Tweet(tweet_id='1467892945', username='USERID_4', num_liked=8101, length=43),\n",
       " Tweet(tweet_id='1467893163', username='USERID_3', num_liked=6754, length=74),\n",
       " Tweet(tweet_id='1467893258', username='USERID_7', num_liked=1415, length=74),\n",
       " Tweet(tweet_id='1467893275', username='USERID_6', num_liked=9002, length=70),\n",
       " Tweet(tweet_id='1467893504', username='USERID_9', num_liked=4940, length=25),\n",
       " Tweet(tweet_id='1467893730', username='USERID_4', num_liked=840, length=90),\n",
       " Tweet(tweet_id='1467894593', username='USERID_2', num_liked=869000000, length=136),\n",
       " Tweet(tweet_id='1467894600', username='USERID_8', num_liked=915000, length=67),\n",
       " Tweet(tweet_id='1467894746', username='USERID_4', num_liked=3185, length=107),\n",
       " Tweet(tweet_id='1467894749', username='USERID_5', num_liked=6311, length=40),\n",
       " Tweet(tweet_id='1467894750', username='USERID_6', num_liked=1046, length=46),\n",
       " Tweet(tweet_id='1467894786', username='USERID_7', num_liked=4709, length=136),\n",
       " Tweet(tweet_id='1467894841', username='USERID_8', num_liked=803, length=102),\n",
       " Tweet(tweet_id='1467894898', username='USERID_7', num_liked=2692, length=76),\n",
       " Tweet(tweet_id='1467895048', username='USERID_10', num_liked=9822, length=136),\n",
       " Tweet(tweet_id='1467895109', username='USERID_7', num_liked=3255, length=133),\n",
       " Tweet(tweet_id='1467895424', username='USERID_10', num_liked=3423, length=41),\n",
       " Tweet(tweet_id='1467895478', username='USERID_8', num_liked=926, length=67),\n",
       " Tweet(tweet_id='1467895481', username='USERID_5', num_liked=6120, length=49),\n",
       " Tweet(tweet_id='1467895712', username='USERID_8', num_liked=8551, length=136),\n",
       " Tweet(tweet_id='1467896211', username='USERID_6', num_liked=3966, length=31),\n",
       " Tweet(tweet_id='1467896253', username='USERID_2', num_liked=4906, length=91),\n",
       " Tweet(tweet_id='1467896463', username='USERID_9', num_liked=1728, length=136),\n",
       " Tweet(tweet_id='1467896778', username='USERID_4', num_liked=886, length=97),\n",
       " Tweet(tweet_id='1467896898', username='USERID_7', num_liked=2972, length=58),\n",
       " Tweet(tweet_id='1467896911', username='USERID_9', num_liked=5160, length=136),\n",
       " Tweet(tweet_id='1467896996', username='USERID_10', num_liked=6540, length=61),\n",
       " Tweet(tweet_id='1467897316', username='USERID_2', num_liked=7890, length=64),\n",
       " Tweet(tweet_id='1467897981', username='USERID_9', num_liked=3034, length=136),\n",
       " Tweet(tweet_id='1467898061', username='USERID_8', num_liked=9271, length=145),\n",
       " Tweet(tweet_id='1467898076', username='USERID_7', num_liked=5075, length=136),\n",
       " Tweet(tweet_id='1467898078', username='USERID_10', num_liked=9705, length=104),\n",
       " Tweet(tweet_id='1467898511', username='USERID_2', num_liked=3477, length=99),\n",
       " Tweet(tweet_id='1467898676', username='USERID_9', num_liked=6766, length=58),\n",
       " Tweet(tweet_id='1467899025', username='USERID_6', num_liked=4660, length=137),\n",
       " Tweet(tweet_id='1467899451', username='USERID_1', num_liked=1861, length=138),\n",
       " Tweet(tweet_id='1467899605', username='USERID_9', num_liked=3209, length=90),\n",
       " Tweet(tweet_id='1467899707', username='USERID_6', num_liked=1941, length=123),\n",
       " Tweet(tweet_id='1467899753', username='USERID_10', num_liked=675, length=32),\n",
       " Tweet(tweet_id='1467900033', username='USERID_10', num_liked=9041, length=36),\n",
       " Tweet(tweet_id='1467900037', username='USERID_8', num_liked=6640, length=70),\n",
       " Tweet(tweet_id='1467900244', username='USERID_10', num_liked=1618, length=45),\n",
       " Tweet(tweet_id='1467900431', username='USERID_9', num_liked=3306, length=34),\n",
       " Tweet(tweet_id='1467900545', username='USERID_7', num_liked=148, length=13),\n",
       " Tweet(tweet_id='1467900898', username='USERID_1', num_liked=1149, length=131),\n",
       " Tweet(tweet_id='1467901135', username='USERID_4', num_liked=5825, length=94),\n",
       " Tweet(tweet_id='1467901188', username='USERID_1', num_liked=8852, length=138)]"
      ]
     },
     "execution_count": 18,
     "metadata": {},
     "output_type": "execute_result"
    }
   ],
   "source": [
    "#Q12: What are the tweets present in the JSON file 3.json in full_data?\n",
    "get_tweets_json(\"3.json\",\"full_data\")"
   ]
  },
  {
   "cell_type": "code",
   "execution_count": 19,
   "metadata": {},
   "outputs": [],
   "source": [
    "#Q13: What are the tweets present in the JSON file 1.json in full_data?\n",
    "get_tweets_json(\"1.json\",\"full_data\")"
   ]
  },
  {
   "cell_type": "code",
   "execution_count": 20,
   "metadata": {},
   "outputs": [],
   "source": [
    "def tweets_greater_than(textLength,directory):\n",
    "    files = os.listdir(directory)\n",
    "    res = []\n",
    "    for file in files:\n",
    "        if file[-5:] == '.json':\n",
    "            cur = []\n",
    "            cur = get_tweets_json(file,directory)\n",
    "            res.append(cur)\n",
    "        else:\n",
    "            cur = []\n",
    "            cur = get_tweets(file,directory)\n",
    "            res.append(cur)\n",
    "    ret = []\n",
    "    for ele in res:\n",
    "        if ele != None:\n",
    "            ret.append(ele)\n",
    "    filt = []\n",
    "    for ele in ret:\n",
    "        for tweet in ele:\n",
    "            if tweet.length > textLength:\n",
    "                filt.append(tweet)\n",
    "    return filt"
   ]
  },
  {
   "cell_type": "code",
   "execution_count": 21,
   "metadata": {},
   "outputs": [
    {
     "data": {
      "text/plain": [
       "[Tweet(tweet_id='1467881373', username='USERID_6', num_liked=8615, length=145),\n",
       " Tweet(tweet_id='1467863684', username='USERID_1', num_liked=3108, length=142),\n",
       " Tweet(tweet_id='1467913111', username='USERID_7', num_liked=5185, length=144),\n",
       " Tweet(tweet_id='1467898061', username='USERID_8', num_liked=9271, length=145),\n",
       " Tweet(tweet_id='1467934004', username='USERID_1', num_liked=6170, length=150),\n",
       " Tweet(tweet_id='1467929915', username='USERID_5', num_liked=4550, length=146)]"
      ]
     },
     "execution_count": 21,
     "metadata": {},
     "output_type": "execute_result"
    }
   ],
   "source": [
    "#Q14: Return all the tweet objects with a length greater than 140 in full_data.\n",
    "tweets_greater_than(140,\"full_data\")"
   ]
  },
  {
   "cell_type": "code",
   "execution_count": 22,
   "metadata": {},
   "outputs": [
    {
     "data": {
      "text/plain": [
       "[Tweet(tweet_id='1467810369', username='USERID_4', num_liked=315, length=115),\n",
       " Tweet(tweet_id='1467810672', username='USERID_8', num_liked=5298, length=111),\n",
       " Tweet(tweet_id='1467811193', username='USERID_8', num_liked=2101, length=111),\n",
       " Tweet(tweet_id='1467812799', username='USERID_7', num_liked=3340, length=103),\n",
       " Tweet(tweet_id='1467812784', username='USERID_10', num_liked=2667, length=117)]"
      ]
     },
     "execution_count": 22,
     "metadata": {},
     "output_type": "execute_result"
    }
   ],
   "source": [
    "#Q15: Return a list of all the tweet objects with a length greater than 100 in sample_data.\n",
    "tweets_greater_than(100,\"sample_data\")"
   ]
  },
  {
   "cell_type": "code",
   "execution_count": 23,
   "metadata": {},
   "outputs": [
    {
     "data": {
      "text/plain": [
       "[Tweet(tweet_id='1467844540', username='USERID_9', num_liked=6366, length=49),\n",
       " Tweet(tweet_id='1467844907', username='USERID_3', num_liked=8770, length=42),\n",
       " Tweet(tweet_id='1467845095', username='USERID_4', num_liked=8567, length=126),\n",
       " Tweet(tweet_id='1467845157', username='USERID_8', num_liked=5761, length=17),\n",
       " Tweet(tweet_id='1467852031', username='USERID_2', num_liked=4565, length=63),\n",
       " Tweet(tweet_id='1467852067', username='USERID_4', num_liked=9594, length=34),\n",
       " Tweet(tweet_id='1467852789', username='USERID_10', num_liked=686, length=44),\n",
       " Tweet(tweet_id='1467853135', username='USERID_1', num_liked=6515, length=131),\n",
       " Tweet(tweet_id='1467853356', username='USERID_10', num_liked=3192, length=136),\n",
       " Tweet(tweet_id='1467853431', username='USERID_10', num_liked=9936, length=30),\n",
       " Tweet(tweet_id='1467853479', username='USERID_9', num_liked=4939, length=24),\n",
       " Tweet(tweet_id='1467854062', username='USERID_10', num_liked=9346, length=92),\n",
       " Tweet(tweet_id='1467854345', username='USERID_9', num_liked=7959, length=72),\n",
       " Tweet(tweet_id='1467854706', username='USERID_1', num_liked=8972, length=103),\n",
       " Tweet(tweet_id='1467854917', username='USERID_2', num_liked=7741, length=30),\n",
       " Tweet(tweet_id='1467855673', username='USERID_9', num_liked=9728, length=72),\n",
       " Tweet(tweet_id='1467855812', username='USERID_2', num_liked=4806, length=28),\n",
       " Tweet(tweet_id='1467855981', username='USERID_2', num_liked=6455, length=92),\n",
       " Tweet(tweet_id='1467856044', username='USERID_7', num_liked=1442, length=49),\n",
       " Tweet(tweet_id='1467856352', username='USERID_3', num_liked=523, length=20),\n",
       " Tweet(tweet_id='1467856426', username='USERID_6', num_liked=8675, length=99),\n",
       " Tweet(tweet_id='1467856497', username='USERID_7', num_liked=3105, length=79),\n",
       " Tweet(tweet_id='1467856632', username='USERID_1', num_liked=1724, length=43),\n",
       " Tweet(tweet_id='1467856821', username='USERID_6', num_liked=5145, length=80),\n",
       " Tweet(tweet_id='1467856919', username='USERID_4', num_liked=3887, length=61),\n",
       " Tweet(tweet_id='1467857221', username='USERID_5', num_liked=3589, length=102),\n",
       " Tweet(tweet_id='1467857297', username='USERID_1', num_liked=736, length=70),\n",
       " Tweet(tweet_id='1467857378', username='USERID_4', num_liked=9459, length=81),\n",
       " Tweet(tweet_id='1467857511', username='USERID_7', num_liked=3713, length=127),\n",
       " Tweet(tweet_id='1467857722', username='USERID_8', num_liked=9072, length=55),\n",
       " Tweet(tweet_id='1467857975', username='USERID_9', num_liked=4893, length=21),\n",
       " Tweet(tweet_id='1467858363', username='USERID_10', num_liked=4263, length=119),\n",
       " Tweet(tweet_id='1467858627', username='USERID_3', num_liked=8400, length=120),\n",
       " Tweet(tweet_id='1467858869', username='USERID_10', num_liked=1609, length=48),\n",
       " Tweet(tweet_id='1467859025', username='USERID_4', num_liked=5618, length=81),\n",
       " Tweet(tweet_id='1467859066', username='USERID_9', num_liked=99, length=53),\n",
       " Tweet(tweet_id='1467859408', username='USERID_5', num_liked=2878, length=128),\n",
       " Tweet(tweet_id='1467859436', username='USERID_7', num_liked=8001, length=67),\n",
       " Tweet(tweet_id='1467859558', username='USERID_1', num_liked=8732, length=136),\n",
       " Tweet(tweet_id='1467859666', username='USERID_9', num_liked=9158, length=16),\n",
       " Tweet(tweet_id='1467859820', username='USERID_10', num_liked=7921, length=27),\n",
       " Tweet(tweet_id='1467859922', username='USERID_6', num_liked=3955, length=120),\n",
       " Tweet(tweet_id='1467860895', username='USERID_1', num_liked=2055, length=18),\n",
       " Tweet(tweet_id='1467860904', username='USERID_7', num_liked=9851, length=30),\n",
       " Tweet(tweet_id='1467861095', username='USERID_10', num_liked=7191, length=38),\n",
       " Tweet(tweet_id='1467861522', username='USERID_1', num_liked=2742, length=70),\n",
       " Tweet(tweet_id='1467861571', username='USERID_1', num_liked=7095, length=84),\n",
       " Tweet(tweet_id='1467862213', username='USERID_2', num_liked=2455, length=138),\n",
       " Tweet(tweet_id='1467862313', username='USERID_10', num_liked=3256, length=127),\n",
       " Tweet(tweet_id='1467862355', username='USERID_3', num_liked=4110, length=53),\n",
       " Tweet(tweet_id='1467876711', username='USERID_10', num_liked=1117, length=84),\n",
       " Tweet(tweet_id='1467877496', username='USERID_1', num_liked=2062, length=106),\n",
       " Tweet(tweet_id='1467877833', username='USERID_2', num_liked=4270, length=89),\n",
       " Tweet(tweet_id='1467877865', username='USERID_1', num_liked=5899, length=30),\n",
       " Tweet(tweet_id='1467878057', username='USERID_6', num_liked=703, length=42),\n",
       " Tweet(tweet_id='1467878557', username='USERID_6', num_liked=5814, length=61),\n",
       " Tweet(tweet_id='1467878633', username='USERID_2', num_liked=2351, length=33),\n",
       " Tweet(tweet_id='1467878971', username='USERID_2', num_liked=2238, length=27),\n",
       " Tweet(tweet_id='1467878983', username='USERID_8', num_liked=4860, length=61),\n",
       " Tweet(tweet_id='1467879480', username='USERID_4', num_liked=1345, length=97),\n",
       " Tweet(tweet_id='1467879984', username='USERID_2', num_liked=3694, length=69),\n",
       " Tweet(tweet_id='1467880085', username='USERID_4', num_liked=2478, length=120),\n",
       " Tweet(tweet_id='1467880431', username='USERID_3', num_liked=9407, length=85),\n",
       " Tweet(tweet_id='1467880442', username='USERID_2', num_liked=5125, length=96),\n",
       " Tweet(tweet_id='1467880463', username='USERID_9', num_liked=1226, length=29),\n",
       " Tweet(tweet_id='1467880692', username='USERID_6', num_liked=4989, length=49),\n",
       " Tweet(tweet_id='1467881131', username='USERID_10', num_liked=732, length=107),\n",
       " Tweet(tweet_id='1467881373', username='USERID_6', num_liked=8615, length=145),\n",
       " Tweet(tweet_id='1467881376', username='USERID_4', num_liked=4378, length=49),\n",
       " Tweet(tweet_id='1467881457', username='USERID_7', num_liked=119, length=27),\n",
       " Tweet(tweet_id='1467881686', username='USERID_5', num_liked=8136, length=46),\n",
       " Tweet(tweet_id='1467881809', username='USERID_4', num_liked=1797, length=138),\n",
       " Tweet(tweet_id='1467881897', username='USERID_5', num_liked=2314, length=76),\n",
       " Tweet(tweet_id='1467881920', username='USERID_3', num_liked=4101, length=112),\n",
       " Tweet(tweet_id='1467882140', username='USERID_8', num_liked=5320, length=137),\n",
       " Tweet(tweet_id='1467882491', username='USERID_10', num_liked=3512, length=55),\n",
       " Tweet(tweet_id='1467882592', username='USERID_10', num_liked=1887, length=67),\n",
       " Tweet(tweet_id='1467882902', username='USERID_3', num_liked=4646, length=48),\n",
       " Tweet(tweet_id='1467888679', username='USERID_8', num_liked=3089, length=27),\n",
       " Tweet(tweet_id='1467888732', username='USERID_7', num_liked=2800, length=48),\n",
       " Tweet(tweet_id='1467888953', username='USERID_3', num_liked=3951, length=46),\n",
       " Tweet(tweet_id='1467889231', username='USERID_5', num_liked=1320, length=79),\n",
       " Tweet(tweet_id='1467889334', username='USERID_5', num_liked=8495, length=42),\n",
       " Tweet(tweet_id='1467889574', username='USERID_1', num_liked=4696, length=123),\n",
       " Tweet(tweet_id='1467889791', username='USERID_5', num_liked=4027, length=132),\n",
       " Tweet(tweet_id='1467889988', username='USERID_2', num_liked=7394, length=51),\n",
       " Tweet(tweet_id='1467890079', username='USERID_8', num_liked=2556, length=38),\n",
       " Tweet(tweet_id='1467890222', username='USERID_2', num_liked=227, length=107),\n",
       " Tweet(tweet_id='1467890723', username='USERID_1', num_liked=96, length=134),\n",
       " Tweet(tweet_id='1467891826', username='USERID_9', num_liked=2021, length=113),\n",
       " Tweet(tweet_id='1467891880', username='USERID_7', num_liked=6847, length=96),\n",
       " Tweet(tweet_id='1467892075', username='USERID_6', num_liked=2816, length=124),\n",
       " Tweet(tweet_id='1467892515', username='USERID_5', num_liked=917, length=39),\n",
       " Tweet(tweet_id='1467892667', username='USERID_2', num_liked=8270, length=20),\n",
       " Tweet(tweet_id='1467892720', username='USERID_3', num_liked=3227, length=128),\n",
       " Tweet(tweet_id='1467862411', username='USERID_10', num_liked=5740, length=34),\n",
       " Tweet(tweet_id='1467862710', username='USERID_1', num_liked=4540, length=100),\n",
       " Tweet(tweet_id='1467862806', username='USERID_2', num_liked=9465, length=68),\n",
       " Tweet(tweet_id='1467863072', username='USERID_5', num_liked=2574, length=10),\n",
       " Tweet(tweet_id='1467863415', username='USERID_7', num_liked=7576, length=79),\n",
       " Tweet(tweet_id='1467863507', username='USERID_3', num_liked=1498, length=91),\n",
       " Tweet(tweet_id='1467863508', username='USERID_1', num_liked=1650, length=82),\n",
       " Tweet(tweet_id='1467863633', username='USERID_9', num_liked=9549, length=95),\n",
       " Tweet(tweet_id='1467863684', username='USERID_1', num_liked=3108, length=142),\n",
       " Tweet(tweet_id='1467863716', username='USERID_7', num_liked=6088, length=48),\n",
       " Tweet(tweet_id='1467864250', username='USERID_7', num_liked=3198, length=111),\n",
       " Tweet(tweet_id='1467870864', username='USERID_9', num_liked=7390, length=119),\n",
       " Tweet(tweet_id='1467870866', username='USERID_2', num_liked=4166, length=82),\n",
       " Tweet(tweet_id='1467871007', username='USERID_6', num_liked=6527, length=81),\n",
       " Tweet(tweet_id='1467871040', username='USERID_5', num_liked=1115, length=89),\n",
       " Tweet(tweet_id='1467871223', username='USERID_10', num_liked=6506, length=130),\n",
       " Tweet(tweet_id='1467871226', username='USERID_9', num_liked=683, length=62),\n",
       " Tweet(tweet_id='1467871545', username='USERID_5', num_liked=3342, length=129),\n",
       " Tweet(tweet_id='1467871552', username='USERID_3', num_liked=8876, length=52),\n",
       " Tweet(tweet_id='1467871661', username='USERID_9', num_liked=8472, length=104),\n",
       " Tweet(tweet_id='1467871754', username='USERID_8', num_liked=5203, length=52),\n",
       " Tweet(tweet_id='1467871917', username='USERID_9', num_liked=6516, length=48),\n",
       " Tweet(tweet_id='1467871956', username='USERID_2', num_liked=110, length=68),\n",
       " Tweet(tweet_id='1467872136', username='USERID_9', num_liked=3265, length=84),\n",
       " Tweet(tweet_id='1467872175', username='USERID_1', num_liked=1418, length=28),\n",
       " Tweet(tweet_id='1467872181', username='USERID_6', num_liked=6938, length=64),\n",
       " Tweet(tweet_id='1467872218', username='USERID_5', num_liked=3366, length=37),\n",
       " Tweet(tweet_id='1467872247', username='USERID_2', num_liked=6316, length=137),\n",
       " Tweet(tweet_id='1467872309', username='USERID_9', num_liked=3512, length=123),\n",
       " Tweet(tweet_id='1467872355', username='USERID_6', num_liked=6313, length=106),\n",
       " Tweet(tweet_id='1467872594', username='USERID_6', num_liked=3097, length=37),\n",
       " Tweet(tweet_id='1467872638', username='USERID_5', num_liked=3310, length=72),\n",
       " Tweet(tweet_id='1467872759', username='USERID_1', num_liked=6966, length=49),\n",
       " Tweet(tweet_id='1467872940', username='USERID_8', num_liked=5494, length=30),\n",
       " Tweet(tweet_id='1467873004', username='USERID_4', num_liked=1976, length=75),\n",
       " Tweet(tweet_id='1467873227', username='USERID_10', num_liked=8958, length=75),\n",
       " Tweet(tweet_id='1467873256', username='USERID_6', num_liked=6042, length=76),\n",
       " Tweet(tweet_id='1467873467', username='USERID_5', num_liked=7632, length=86),\n",
       " Tweet(tweet_id='1467873592', username='USERID_1', num_liked=547, length=56),\n",
       " Tweet(tweet_id='1467873828', username='USERID_6', num_liked=520, length=34),\n",
       " Tweet(tweet_id='1467873980', username='USERID_5', num_liked=9608, length=88),\n",
       " Tweet(tweet_id='1467874103', username='USERID_1', num_liked=9177, length=128),\n",
       " Tweet(tweet_id='1467874479', username='USERID_6', num_liked=9149, length=102),\n",
       " Tweet(tweet_id='1467874569', username='USERID_3', num_liked=3439, length=12),\n",
       " Tweet(tweet_id='1467874916', username='USERID_2', num_liked=6935, length=23),\n",
       " Tweet(tweet_id='1467875163', username='USERID_2', num_liked=9891, length=69),\n",
       " Tweet(tweet_id='1467875208', username='USERID_5', num_liked=2904, length=106),\n",
       " Tweet(tweet_id='1467875930', username='USERID_5', num_liked=9106, length=82),\n",
       " Tweet(tweet_id='1467876016', username='USERID_9', num_liked=7912, length=131),\n",
       " Tweet(tweet_id='1467876133', username='USERID_1', num_liked=2748, length=44),\n",
       " Tweet(tweet_id='1467901250', username='USERID_6', num_liked=7790, length=132),\n",
       " Tweet(tweet_id='1467901346', username='USERID_1', num_liked=5079, length=137),\n",
       " Tweet(tweet_id='1467901437', username='USERID_6', num_liked=5913, length=60),\n",
       " Tweet(tweet_id='1467901500', username='USERID_7', num_liked=7376, length=13),\n",
       " Tweet(tweet_id='1467901839', username='USERID_7', num_liked=4871, length=101),\n",
       " Tweet(tweet_id='1467904302', username='USERID_8', num_liked=1195, length=91),\n",
       " Tweet(tweet_id='1467905125', username='USERID_7', num_liked=1738, length=27),\n",
       " Tweet(tweet_id='1467905378', username='USERID_2', num_liked=4420, length=111),\n",
       " Tweet(tweet_id='1467905653', username='USERID_10', num_liked=8845, length=82),\n",
       " Tweet(tweet_id='1467906151', username='USERID_8', num_liked=6711, length=45),\n",
       " Tweet(tweet_id='1467906345', username='USERID_3', num_liked=8279, length=46),\n",
       " Tweet(tweet_id='1467906723', username='USERID_6', num_liked=7222, length=28),\n",
       " Tweet(tweet_id='1467907298', username='USERID_8', num_liked=9005, length=61),\n",
       " Tweet(tweet_id='1467907751', username='USERID_2', num_liked=9048, length=110),\n",
       " Tweet(tweet_id='1467907876', username='USERID_7', num_liked=1347, length=87),\n",
       " Tweet(tweet_id='1467908012', username='USERID_1', num_liked=1809, length=50),\n",
       " Tweet(tweet_id='1467908134', username='USERID_7', num_liked=8983, length=66),\n",
       " Tweet(tweet_id='1467908456', username='USERID_5', num_liked=2265, length=138),\n",
       " Tweet(tweet_id='1467908672', username='USERID_10', num_liked=1692, length=48),\n",
       " Tweet(tweet_id='1467908798', username='USERID_2', num_liked=1659, length=51),\n",
       " Tweet(tweet_id='1467909124', username='USERID_4', num_liked=9406, length=118),\n",
       " Tweet(tweet_id='1467909222', username='USERID_5', num_liked=8887, length=136),\n",
       " Tweet(tweet_id='1467909292', username='USERID_10', num_liked=5179, length=45),\n",
       " Tweet(tweet_id='1467910531', username='USERID_7', num_liked=6172, length=34),\n",
       " Tweet(tweet_id='1467910689', username='USERID_3', num_liked=1529, length=37),\n",
       " Tweet(tweet_id='1467910932', username='USERID_8', num_liked=1507, length=68),\n",
       " Tweet(tweet_id='1467910986', username='USERID_6', num_liked=836, length=66),\n",
       " Tweet(tweet_id='1467910995', username='USERID_4', num_liked=2886, length=57),\n",
       " Tweet(tweet_id='1467911036', username='USERID_7', num_liked=6950, length=101),\n",
       " Tweet(tweet_id='1467911302', username='USERID_10', num_liked=8562, length=119),\n",
       " Tweet(tweet_id='1467911624', username='USERID_5', num_liked=5668, length=77),\n",
       " Tweet(tweet_id='1467911846', username='USERID_3', num_liked=1352, length=67),\n",
       " Tweet(tweet_id='1467912100', username='USERID_6', num_liked=3394, length=94),\n",
       " Tweet(tweet_id='1467912333', username='USERID_7', num_liked=3345, length=49),\n",
       " Tweet(tweet_id='1467912572', username='USERID_3', num_liked=36, length=80),\n",
       " Tweet(tweet_id='1467912842', username='USERID_4', num_liked=496, length=14),\n",
       " Tweet(tweet_id='1467912994', username='USERID_8', num_liked=926, length=57),\n",
       " Tweet(tweet_id='1467913111', username='USERID_7', num_liked=5185, length=144),\n",
       " Tweet(tweet_id='1467913608', username='USERID_8', num_liked=8262, length=111),\n",
       " Tweet(tweet_id='1467914434', username='USERID_1', num_liked=1269, length=49),\n",
       " Tweet(tweet_id='1467914499', username='USERID_2', num_liked=910, length=138),\n",
       " Tweet(tweet_id='1467914916', username='USERID_4', num_liked=3232, length=91),\n",
       " Tweet(tweet_id='1467915140', username='USERID_7', num_liked=1996, length=22),\n",
       " Tweet(tweet_id='1467915612', username='USERID_6', num_liked=4014, length=41),\n",
       " Tweet(tweet_id='1467915670', username='USERID_2', num_liked=5287, length=138),\n",
       " Tweet(tweet_id='1467916510', username='USERID_8', num_liked=8150, length=96),\n",
       " Tweet(tweet_id='1467916595', username='USERID_6', num_liked=1178, length=138),\n",
       " Tweet(tweet_id='1467916695', username='USERID_10', num_liked=6691, length=54),\n",
       " Tweet(tweet_id='1467916700', username='USERID_9', num_liked=2519, length=136),\n",
       " Tweet(tweet_id='1467916820', username='USERID_10', num_liked=8557, length=127),\n",
       " Tweet(tweet_id='1467892760', username='USERID_6', num_liked=4443, length=56),\n",
       " Tweet(tweet_id='1467892889', username='USERID_1', num_liked=7439, length=91),\n",
       " Tweet(tweet_id='1467892945', username='USERID_4', num_liked=8101, length=43),\n",
       " Tweet(tweet_id='1467893163', username='USERID_3', num_liked=6754, length=74),\n",
       " Tweet(tweet_id='1467893258', username='USERID_7', num_liked=1415, length=74),\n",
       " Tweet(tweet_id='1467893275', username='USERID_6', num_liked=9002, length=70),\n",
       " Tweet(tweet_id='1467893504', username='USERID_9', num_liked=4940, length=25),\n",
       " Tweet(tweet_id='1467893730', username='USERID_4', num_liked=840, length=90),\n",
       " Tweet(tweet_id='1467894593', username='USERID_2', num_liked=869000000, length=136),\n",
       " Tweet(tweet_id='1467894600', username='USERID_8', num_liked=915000, length=67),\n",
       " Tweet(tweet_id='1467894746', username='USERID_4', num_liked=3185, length=107),\n",
       " Tweet(tweet_id='1467894749', username='USERID_5', num_liked=6311, length=40),\n",
       " Tweet(tweet_id='1467894750', username='USERID_6', num_liked=1046, length=46),\n",
       " Tweet(tweet_id='1467894786', username='USERID_7', num_liked=4709, length=136),\n",
       " Tweet(tweet_id='1467894841', username='USERID_8', num_liked=803, length=102),\n",
       " Tweet(tweet_id='1467894898', username='USERID_7', num_liked=2692, length=76),\n",
       " Tweet(tweet_id='1467895048', username='USERID_10', num_liked=9822, length=136),\n",
       " Tweet(tweet_id='1467895109', username='USERID_7', num_liked=3255, length=133),\n",
       " Tweet(tweet_id='1467895424', username='USERID_10', num_liked=3423, length=41),\n",
       " Tweet(tweet_id='1467895478', username='USERID_8', num_liked=926, length=67),\n",
       " Tweet(tweet_id='1467895481', username='USERID_5', num_liked=6120, length=49),\n",
       " Tweet(tweet_id='1467895712', username='USERID_8', num_liked=8551, length=136),\n",
       " Tweet(tweet_id='1467896211', username='USERID_6', num_liked=3966, length=31),\n",
       " Tweet(tweet_id='1467896253', username='USERID_2', num_liked=4906, length=91),\n",
       " Tweet(tweet_id='1467896463', username='USERID_9', num_liked=1728, length=136),\n",
       " Tweet(tweet_id='1467896778', username='USERID_4', num_liked=886, length=97),\n",
       " Tweet(tweet_id='1467896898', username='USERID_7', num_liked=2972, length=58),\n",
       " Tweet(tweet_id='1467896911', username='USERID_9', num_liked=5160, length=136),\n",
       " Tweet(tweet_id='1467896996', username='USERID_10', num_liked=6540, length=61),\n",
       " Tweet(tweet_id='1467897316', username='USERID_2', num_liked=7890, length=64),\n",
       " Tweet(tweet_id='1467897981', username='USERID_9', num_liked=3034, length=136),\n",
       " Tweet(tweet_id='1467898061', username='USERID_8', num_liked=9271, length=145),\n",
       " Tweet(tweet_id='1467898076', username='USERID_7', num_liked=5075, length=136),\n",
       " Tweet(tweet_id='1467898078', username='USERID_10', num_liked=9705, length=104),\n",
       " Tweet(tweet_id='1467898511', username='USERID_2', num_liked=3477, length=99),\n",
       " Tweet(tweet_id='1467898676', username='USERID_9', num_liked=6766, length=58),\n",
       " Tweet(tweet_id='1467899025', username='USERID_6', num_liked=4660, length=137),\n",
       " Tweet(tweet_id='1467899451', username='USERID_1', num_liked=1861, length=138),\n",
       " Tweet(tweet_id='1467899605', username='USERID_9', num_liked=3209, length=90),\n",
       " Tweet(tweet_id='1467899707', username='USERID_6', num_liked=1941, length=123),\n",
       " Tweet(tweet_id='1467899753', username='USERID_10', num_liked=675, length=32),\n",
       " Tweet(tweet_id='1467900033', username='USERID_10', num_liked=9041, length=36),\n",
       " Tweet(tweet_id='1467900037', username='USERID_8', num_liked=6640, length=70),\n",
       " Tweet(tweet_id='1467900244', username='USERID_10', num_liked=1618, length=45),\n",
       " Tweet(tweet_id='1467900431', username='USERID_9', num_liked=3306, length=34),\n",
       " Tweet(tweet_id='1467900545', username='USERID_7', num_liked=148, length=13),\n",
       " Tweet(tweet_id='1467900898', username='USERID_1', num_liked=1149, length=131),\n",
       " Tweet(tweet_id='1467901135', username='USERID_4', num_liked=5825, length=94),\n",
       " Tweet(tweet_id='1467901188', username='USERID_1', num_liked=8852, length=138),\n",
       " Tweet(tweet_id='1467930083', username='USERID_6', num_liked=6650, length=48),\n",
       " Tweet(tweet_id='1467930157', username='USERID_7', num_liked=7410, length=138),\n",
       " Tweet(tweet_id='1467930220', username='USERID_2', num_liked=4770, length=94),\n",
       " Tweet(tweet_id='1467930309', username='USERID_9', num_liked=4910, length=51),\n",
       " Tweet(tweet_id='1467930341', username='USERID_10', num_liked=1990, length=79),\n",
       " Tweet(tweet_id='1467931027', username='USERID_5', num_liked=1699, length=26),\n",
       " Tweet(tweet_id='1467931070', username='USERID_8', num_liked=910, length=135),\n",
       " Tweet(tweet_id='1467931396', username='USERID_9', num_liked=2496, length=96),\n",
       " Tweet(tweet_id='1467931501', username='USERID_5', num_liked=5807, length=117),\n",
       " Tweet(tweet_id='1467931736', username='USERID_6', num_liked=2449, length=91),\n",
       " Tweet(tweet_id='1467931839', username='USERID_6', num_liked=1915, length=73),\n",
       " Tweet(tweet_id='1467931983', username='USERID_7', num_liked=9292, length=106),\n",
       " Tweet(tweet_id='1467932117', username='USERID_5', num_liked=9188, length=50),\n",
       " Tweet(tweet_id='1467932208', username='USERID_7', num_liked=9169, length=84),\n",
       " Tweet(tweet_id='1467932372', username='USERID_7', num_liked=9065, length=56),\n",
       " Tweet(tweet_id='1467932549', username='USERID_6', num_liked=6966, length=53),\n",
       " Tweet(tweet_id='1467932979', username='USERID_1', num_liked=6333, length=52),\n",
       " Tweet(tweet_id='1467933048', username='USERID_5', num_liked=3184, length=69),\n",
       " Tweet(tweet_id='1467933102', username='USERID_2', num_liked=625, length=135),\n",
       " Tweet(tweet_id='1467933112', username='USERID_9', num_liked=3523, length=52),\n",
       " Tweet(tweet_id='1467933295', username='USERID_1', num_liked=6234, length=14),\n",
       " Tweet(tweet_id='1467933494', username='USERID_10', num_liked=6958, length=85),\n",
       " Tweet(tweet_id='1467933623', username='USERID_3', num_liked=2239, length=73),\n",
       " Tweet(tweet_id='1467933662', username='USERID_5', num_liked=5510, length=39),\n",
       " Tweet(tweet_id='1467933685', username='USERID_6', num_liked=8653, length=39),\n",
       " Tweet(tweet_id='1467934004', username='USERID_1', num_liked=6170, length=150),\n",
       " Tweet(tweet_id='1467934184', username='USERID_9', num_liked=8463, length=31),\n",
       " Tweet(tweet_id='1467934481', username='USERID_5', num_liked=7982, length=59),\n",
       " Tweet(tweet_id='1467934606', username='USERID_10', num_liked=7842, length=31),\n",
       " Tweet(tweet_id='1467935121', username='USERID_2', num_liked=8740, length=37),\n",
       " Tweet(tweet_id='1467935189', username='USERID_10', num_liked=4191, length=56),\n",
       " Tweet(tweet_id='1467935271', username='USERID_5', num_liked=6982, length=129),\n",
       " Tweet(tweet_id='1467935345', username='USERID_9', num_liked=2980, length=45),\n",
       " Tweet(tweet_id='1467936498', username='USERID_5', num_liked=313, length=16),\n",
       " Tweet(tweet_id='1467936541', username='USERID_5', num_liked=2821, length=47),\n",
       " Tweet(tweet_id='1467936901', username='USERID_5', num_liked=9181, length=24),\n",
       " Tweet(tweet_id='1467937038', username='USERID_3', num_liked=5684, length=21),\n",
       " Tweet(tweet_id='1467937128', username='USERID_8', num_liked=9343, length=125),\n",
       " Tweet(tweet_id='1467937189', username='USERID_7', num_liked=3442, length=108),\n",
       " Tweet(tweet_id='1467937250', username='USERID_3', num_liked=4415, length=15),\n",
       " Tweet(tweet_id='1467937393', username='USERID_10', num_liked=9361, length=129),\n",
       " Tweet(tweet_id='1467942658', username='USERID_7', num_liked=615, length=59),\n",
       " Tweet(tweet_id='1467943007', username='USERID_2', num_liked=9000, length=130),\n",
       " Tweet(tweet_id='1467943375', username='USERID_3', num_liked=3647, length=59),\n",
       " Tweet(tweet_id='1467943526', username='USERID_6', num_liked=7674, length=68),\n",
       " Tweet(tweet_id='1467943851', username='USERID_6', num_liked=1658, length=42),\n",
       " Tweet(tweet_id='1467943966', username='USERID_10', num_liked=6623, length=68),\n",
       " Tweet(tweet_id='1467944261', username='USERID_1', num_liked=7023, length=40),\n",
       " Tweet(tweet_id='1467944317', username='USERID_3', num_liked=7476, length=54),\n",
       " Tweet(tweet_id='1467944552', username='USERID_8', num_liked=6151, length=132),\n",
       " Tweet(tweet_id='1467916851', username='USERID_3', num_liked=559, length=58),\n",
       " Tweet(tweet_id='1467916959', username='USERID_2', num_liked=7081, length=69),\n",
       " Tweet(tweet_id='1467917177', username='USERID_3', num_liked=9678, length=105),\n",
       " Tweet(tweet_id='1467917302', username='USERID_5', num_liked=1624, length=35),\n",
       " Tweet(tweet_id='1467917484', username='USERID_1', num_liked=4679, length=94),\n",
       " Tweet(tweet_id='1467917499', username='USERID_4', num_liked=2851, length=51),\n",
       " Tweet(tweet_id='1467917718', username='USERID_1', num_liked=1344, length=84),\n",
       " Tweet(tweet_id='1467917800', username='USERID_6', num_liked=7810, length=55),\n",
       " Tweet(tweet_id='1467918015', username='USERID_2', num_liked=1508, length=97),\n",
       " Tweet(tweet_id='1467918552', username='USERID_3', num_liked=8973, length=44),\n",
       " Tweet(tweet_id='1467918560', username='USERID_6', num_liked=6796, length=131),\n",
       " Tweet(tweet_id='1467918682', username='USERID_2', num_liked=8884, length=102),\n",
       " Tweet(tweet_id='1467918728', username='USERID_6', num_liked=903, length=58),\n",
       " Tweet(tweet_id='1467918812', username='USERID_3', num_liked=2835, length=99),\n",
       " Tweet(tweet_id='1467918850', username='USERID_2', num_liked=5383, length=103),\n",
       " Tweet(tweet_id='1467919055', username='USERID_2', num_liked=5370, length=68),\n",
       " Tweet(tweet_id='1467919452', username='USERID_5', num_liked=2839, length=10),\n",
       " Tweet(tweet_id='1467919538', username='USERID_10', num_liked=406, length=83),\n",
       " Tweet(tweet_id='1467919762', username='USERID_5', num_liked=4035, length=139),\n",
       " Tweet(tweet_id='1467919765', username='USERID_7', num_liked=5237, length=124),\n",
       " Tweet(tweet_id='1467922983', username='USERID_3', num_liked=8024, length=94),\n",
       " Tweet(tweet_id='1467923235', username='USERID_9', num_liked=9662, length=134),\n",
       " Tweet(tweet_id='1467923247', username='USERID_1', num_liked=1211, length=44),\n",
       " Tweet(tweet_id='1467923370', username='USERID_5', num_liked=2601, length=117),\n",
       " Tweet(tweet_id='1467923445', username='USERID_4', num_liked=3462, length=52),\n",
       " Tweet(tweet_id='1467923775', username='USERID_9', num_liked=4869, length=33),\n",
       " Tweet(tweet_id='1467924273', username='USERID_3', num_liked=825, length=35),\n",
       " Tweet(tweet_id='1467924690', username='USERID_9', num_liked=2250, length=41),\n",
       " Tweet(tweet_id='1467924823', username='USERID_6', num_liked=7229, length=59),\n",
       " Tweet(tweet_id='1467925327', username='USERID_9', num_liked=8401, length=99),\n",
       " Tweet(tweet_id='1467925657', username='USERID_5', num_liked=7082, length=69),\n",
       " Tweet(tweet_id='1467926153', username='USERID_5', num_liked=2376, length=56),\n",
       " Tweet(tweet_id='1467926444', username='USERID_2', num_liked=1394, length=61),\n",
       " Tweet(tweet_id='1467926632', username='USERID_2', num_liked=2602, length=98),\n",
       " Tweet(tweet_id='1467927016', username='USERID_6', num_liked=48, length=87),\n",
       " Tweet(tweet_id='1467927126', username='USERID_5', num_liked=468, length=126),\n",
       " Tweet(tweet_id='1467927987', username='USERID_3', num_liked=4156, length=39),\n",
       " Tweet(tweet_id='1467928014', username='USERID_7', num_liked=9830, length=18),\n",
       " Tweet(tweet_id='1467928037', username='USERID_3', num_liked=4319, length=138),\n",
       " Tweet(tweet_id='1467928300', username='USERID_9', num_liked=9681, length=79),\n",
       " Tweet(tweet_id='1467928490', username='USERID_7', num_liked=1065, length=57),\n",
       " Tweet(tweet_id='1467928676', username='USERID_10', num_liked=9187, length=84),\n",
       " Tweet(tweet_id='1467928749', username='USERID_10', num_liked=7504, length=99),\n",
       " Tweet(tweet_id='1467928764', username='USERID_2', num_liked=9026, length=41),\n",
       " Tweet(tweet_id='1467929184', username='USERID_4', num_liked=1977, length=21),\n",
       " Tweet(tweet_id='1467929230', username='USERID_6', num_liked=3724, length=47),\n",
       " Tweet(tweet_id='1467929248', username='USERID_7', num_liked=4986, length=66),\n",
       " Tweet(tweet_id='1467929601', username='USERID_9', num_liked=366, length=99),\n",
       " Tweet(tweet_id='1467929915', username='USERID_5', num_liked=4550, length=146),\n",
       " Tweet(tweet_id='1467930017', username='USERID_7', num_liked=2627, length=14),\n",
       " Tweet(tweet_id='1467953163', username='USERID_1', num_liked=2254, length=105),\n",
       " Tweet(tweet_id='1467953277', username='USERID_2', num_liked=494, length=31),\n",
       " Tweet(tweet_id='1467953367', username='USERID_6', num_liked=552, length=40),\n",
       " Tweet(tweet_id='1467953500', username='USERID_1', num_liked=9035, length=67),\n",
       " Tweet(tweet_id='1467953681', username='USERID_7', num_liked=6149, length=75),\n",
       " Tweet(tweet_id='1467953733', username='USERID_4', num_liked=9526, length=67),\n",
       " Tweet(tweet_id='1467953738', username='USERID_1', num_liked=1544, length=46),\n",
       " Tweet(tweet_id='1467954059', username='USERID_1', num_liked=3935, length=63),\n",
       " Tweet(tweet_id='1467954070', username='USERID_8', num_liked=9462, length=64),\n",
       " Tweet(tweet_id='1467959908', username='USERID_1', num_liked=2241, length=8),\n",
       " Tweet(tweet_id='1467960066', username='USERID_8', num_liked=8350, length=28),\n",
       " Tweet(tweet_id='1467960388', username='USERID_4', num_liked=964, length=132),\n",
       " Tweet(tweet_id='1467960481', username='USERID_1', num_liked=4440, length=106),\n",
       " Tweet(tweet_id='1467960735', username='USERID_7', num_liked=8682, length=87),\n",
       " Tweet(tweet_id='1467960840', username='USERID_6', num_liked=3367, length=54),\n",
       " Tweet(tweet_id='1467961044', username='USERID_5', num_liked=3582, length=75),\n",
       " Tweet(tweet_id='1467961091', username='USERID_10', num_liked=9184, length=38),\n",
       " Tweet(tweet_id='1467961106', username='USERID_2', num_liked=7552, length=65),\n",
       " Tweet(tweet_id='1467961146', username='USERID_6', num_liked=5316, length=120),\n",
       " Tweet(tweet_id='1467961817', username='USERID_4', num_liked=3179, length=27),\n",
       " Tweet(tweet_id='1467962336', username='USERID_9', num_liked=5680, length=128),\n",
       " Tweet(tweet_id='1467962502', username='USERID_5', num_liked=7788, length=32),\n",
       " Tweet(tweet_id='1467962634', username='USERID_7', num_liked=7725, length=74),\n",
       " Tweet(tweet_id='1467962671', username='USERID_5', num_liked=3448, length=67),\n",
       " Tweet(tweet_id='1467962897', username='USERID_2', num_liked=4898, length=98),\n",
       " Tweet(tweet_id='1467962938', username='USERID_3', num_liked=8703, length=42),\n",
       " Tweet(tweet_id='1467963418', username='USERID_1', num_liked=4274, length=84),\n",
       " Tweet(tweet_id='1467963477', username='USERID_6', num_liked=5004, length=47),\n",
       " Tweet(tweet_id='1467963715', username='USERID_9', num_liked=8006, length=70),\n",
       " Tweet(tweet_id='1467963880', username='USERID_10', num_liked=5313, length=71),\n",
       " Tweet(tweet_id='1467964211', username='USERID_4', num_liked=9618, length=79),\n",
       " Tweet(tweet_id='1467964229', username='USERID_7', num_liked=6978, length=100),\n",
       " Tweet(tweet_id='1467965065', username='USERID_10', num_liked=6004, length=62),\n",
       " Tweet(tweet_id='1467965832', username='USERID_1', num_liked=8678, length=129),\n",
       " Tweet(tweet_id='1467965873', username='USERID_7', num_liked=2352, length=128),\n",
       " Tweet(tweet_id='1467965949', username='USERID_9', num_liked=8308, length=29),\n",
       " Tweet(tweet_id='1467965994', username='USERID_8', num_liked=5985, length=88),\n",
       " Tweet(tweet_id='1467966187', username='USERID_7', num_liked=7995, length=39),\n",
       " Tweet(tweet_id='1467966260', username='USERID_4', num_liked=6040, length=25),\n",
       " Tweet(tweet_id='1467966271', username='USERID_1', num_liked=4664, length=38),\n",
       " Tweet(tweet_id='1467966560', username='USERID_5', num_liked=767, length=43),\n",
       " Tweet(tweet_id='1467966646', username='USERID_7', num_liked=9821, length=47),\n",
       " Tweet(tweet_id='1467967089', username='USERID_6', num_liked=7597, length=19),\n",
       " Tweet(tweet_id='1467967410', username='USERID_6', num_liked=99, length=73),\n",
       " Tweet(tweet_id='1467967432', username='USERID_1', num_liked=4072, length=53),\n",
       " Tweet(tweet_id='1467967862', username='USERID_7', num_liked=8710, length=60),\n",
       " Tweet(tweet_id='1467968140', username='USERID_7', num_liked=3903, length=123),\n",
       " Tweet(tweet_id='1467968155', username='USERID_6', num_liked=4072, length=74),\n",
       " Tweet(tweet_id='1467968402', username='USERID_8', num_liked=4272, length=53),\n",
       " Tweet(tweet_id='1467968584', username='USERID_2', num_liked=777, length=132),\n",
       " Tweet(tweet_id='1467944581', username='USERID_1', num_liked=7216, length=131),\n",
       " Tweet(tweet_id='1467944654', username='USERID_7', num_liked=2838, length=59),\n",
       " Tweet(tweet_id='1467944871', username='USERID_1', num_liked=9393, length=51),\n",
       " Tweet(tweet_id='1467945476', username='USERID_10', num_liked=9246, length=33),\n",
       " Tweet(tweet_id='1467945704', username='USERID_1', num_liked=526, length=62),\n",
       " Tweet(tweet_id='1467945787', username='USERID_9', num_liked=8850, length=81),\n",
       " Tweet(tweet_id='1467945885', username='USERID_4', num_liked=9403, length=67),\n",
       " Tweet(tweet_id='1467946026', username='USERID_1', num_liked=2861, length=69),\n",
       " Tweet(tweet_id='1467946137', username='USERID_1', num_liked=5470, length=135),\n",
       " Tweet(tweet_id='1467946559', username='USERID_6', num_liked=987, length=116),\n",
       " Tweet(tweet_id='1467946592', username='USERID_3', num_liked=9085, length=137),\n",
       " Tweet(tweet_id='1467946749', username='USERID_4', num_liked=3381, length=42),\n",
       " Tweet(tweet_id='1467946810', username='USERID_4', num_liked=5338, length=62),\n",
       " Tweet(tweet_id='1467947005', username='USERID_7', num_liked=6974, length=53),\n",
       " Tweet(tweet_id='1467947104', username='USERID_6', num_liked=5847, length=24),\n",
       " Tweet(tweet_id='1467947557', username='USERID_9', num_liked=8449, length=110),\n",
       " Tweet(tweet_id='1467947713', username='USERID_7', num_liked=7444, length=140),\n",
       " Tweet(tweet_id='1467947913', username='USERID_2', num_liked=8578, length=36),\n",
       " Tweet(tweet_id='1467948169', username='USERID_1', num_liked=4545, length=33),\n",
       " Tweet(tweet_id='1467948434', username='USERID_9', num_liked=770, length=53),\n",
       " Tweet(tweet_id='1467948521', username='USERID_4', num_liked=8276, length=100),\n",
       " Tweet(tweet_id='1467948526', username='USERID_3', num_liked=7010, length=64),\n",
       " Tweet(tweet_id='1467948979', username='USERID_10', num_liked=9209, length=93),\n",
       " Tweet(tweet_id='1467949047', username='USERID_3', num_liked=7231, length=30),\n",
       " Tweet(tweet_id='1467949516', username='USERID_3', num_liked=4787, length=104),\n",
       " Tweet(tweet_id='1467949681', username='USERID_5', num_liked=5318, length=36),\n",
       " Tweet(tweet_id='1467949746', username='USERID_8', num_liked=4383, length=8),\n",
       " Tweet(tweet_id='1467949969', username='USERID_3', num_liked=1177, length=80),\n",
       " Tweet(tweet_id='1467950027', username='USERID_10', num_liked=8575, length=26),\n",
       " Tweet(tweet_id='1467950029', username='USERID_1', num_liked=7362, length=119),\n",
       " Tweet(tweet_id='1467950217', username='USERID_7', num_liked=1241, length=63),\n",
       " Tweet(tweet_id='1467950510', username='USERID_7', num_liked=5002, length=34),\n",
       " Tweet(tweet_id='1467950588', username='USERID_4', num_liked=589, length=63),\n",
       " Tweet(tweet_id='1467950600', username='USERID_3', num_liked=5951, length=71),\n",
       " Tweet(tweet_id='1467950649', username='USERID_7', num_liked=9449, length=46),\n",
       " Tweet(tweet_id='1467950687', username='USERID_3', num_liked=3464, length=70),\n",
       " Tweet(tweet_id='1467950866', username='USERID_4', num_liked=122, length=27),\n",
       " Tweet(tweet_id='1467950975', username='USERID_3', num_liked=6793, length=74),\n",
       " Tweet(tweet_id='1467951016', username='USERID_5', num_liked=7795, length=80),\n",
       " Tweet(tweet_id='1467951035', username='USERID_9', num_liked=3477, length=114),\n",
       " Tweet(tweet_id='1467951252', username='USERID_2', num_liked=7515, length=48),\n",
       " Tweet(tweet_id='1467951422', username='USERID_6', num_liked=2520, length=98),\n",
       " Tweet(tweet_id='1467951568', username='USERID_8', num_liked=39, length=98),\n",
       " Tweet(tweet_id='1467951850', username='USERID_8', num_liked=1170, length=29),\n",
       " Tweet(tweet_id='1467951931', username='USERID_4', num_liked=5320, length=81),\n",
       " Tweet(tweet_id='1467952069', username='USERID_7', num_liked=399, length=24),\n",
       " Tweet(tweet_id='1467952100', username='USERID_1', num_liked=2754, length=69),\n",
       " Tweet(tweet_id='1467952123', username='USERID_9', num_liked=9222, length=137),\n",
       " Tweet(tweet_id='1467952985', username='USERID_4', num_liked=6256, length=118),\n",
       " Tweet(tweet_id='1467953090', username='USERID_2', num_liked=1896, length=64)]"
      ]
     },
     "execution_count": 23,
     "metadata": {},
     "output_type": "execute_result"
    }
   ],
   "source": [
    "#Q16: Return a list of all the tweet objects in full_data.\n",
    "tweets_greater_than(0,\"full_data\")"
   ]
  },
  {
   "cell_type": "code",
   "execution_count": 24,
   "metadata": {},
   "outputs": [],
   "source": [
    "def file_contain(folder, tweet_id):\n",
    "    files = os.listdir(folder)\n",
    "    find = []\n",
    "    for file in files:\n",
    "        if file[-5:] == '.json':\n",
    "            cur = []\n",
    "            cur = get_tweets_json(file,folder)\n",
    "        else:\n",
    "            cur = []\n",
    "            cur = get_tweets(file,folder)\n",
    "        if cur != None:\n",
    "            for ele in cur:\n",
    "                if ele != None and ele.tweet_id == tweet_id:\n",
    "                    path = os.path.join(folder, file)\n",
    "                    find.append(path)\n",
    "   \n",
    "    return find"
   ]
  },
  {
   "cell_type": "code",
   "execution_count": 25,
   "metadata": {},
   "outputs": [
    {
     "data": {
      "text/plain": [
       "['sample_data\\\\2.json']"
      ]
     },
     "execution_count": 25,
     "metadata": {},
     "output_type": "execute_result"
    }
   ],
   "source": [
    "#Q17: Which file in the directory sample_data contains the tweet with tweet_id '1467812723'?\n",
    "file_contain('sample_data','1467812723')"
   ]
  },
  {
   "cell_type": "code",
   "execution_count": 26,
   "metadata": {},
   "outputs": [
    {
     "data": {
      "text/plain": [
       "['full_data\\\\3.csv']"
      ]
     },
     "execution_count": 26,
     "metadata": {},
     "output_type": "execute_result"
    }
   ],
   "source": [
    "#Q18: Which file in the directory full_data contains the tweet with tweet_id '1467916700'?\n",
    "file_contain('full_data','1467916700')"
   ]
  },
  {
   "cell_type": "code",
   "execution_count": 27,
   "metadata": {},
   "outputs": [],
   "source": [
    "def file_contain_user(folder, user):\n",
    "    files = os.listdir(folder)\n",
    "    find = []\n",
    "    for file in files:\n",
    "        if file[-5:] == '.json':\n",
    "            cur = []\n",
    "            cur = get_tweets_json(file,folder)\n",
    "        else:\n",
    "            cur = []\n",
    "            cur = get_tweets(file,folder)\n",
    "        if cur != None:\n",
    "            for ele in cur:\n",
    "                if ele != None and ele.username == user:\n",
    "                    path = os.path.join(folder, file)\n",
    "                    find.append(path)\n",
    "   \n",
    "    return find"
   ]
  },
  {
   "cell_type": "code",
   "execution_count": 28,
   "metadata": {},
   "outputs": [
    {
     "data": {
      "text/plain": [
       "['full_data\\\\1.csv',\n",
       " 'full_data\\\\1.csv',\n",
       " 'full_data\\\\1.csv',\n",
       " 'full_data\\\\1.csv',\n",
       " 'full_data\\\\2.csv',\n",
       " 'full_data\\\\2.csv',\n",
       " 'full_data\\\\2.csv',\n",
       " 'full_data\\\\2.csv',\n",
       " 'full_data\\\\2.csv',\n",
       " 'full_data\\\\2.json',\n",
       " 'full_data\\\\2.json',\n",
       " 'full_data\\\\2.json',\n",
       " 'full_data\\\\3.csv',\n",
       " 'full_data\\\\3.csv',\n",
       " 'full_data\\\\3.csv',\n",
       " 'full_data\\\\3.csv',\n",
       " 'full_data\\\\3.json',\n",
       " 'full_data\\\\4.csv',\n",
       " 'full_data\\\\4.csv',\n",
       " 'full_data\\\\4.csv',\n",
       " 'full_data\\\\4.csv',\n",
       " 'full_data\\\\4.csv',\n",
       " 'full_data\\\\4.json',\n",
       " 'full_data\\\\4.json',\n",
       " 'full_data\\\\4.json',\n",
       " 'full_data\\\\4.json',\n",
       " 'full_data\\\\4.json',\n",
       " 'full_data\\\\4.json',\n",
       " 'full_data\\\\4.json',\n",
       " 'full_data\\\\4.json',\n",
       " 'full_data\\\\5.csv',\n",
       " 'full_data\\\\5.json',\n",
       " 'full_data\\\\5.json',\n",
       " 'full_data\\\\5.json',\n",
       " 'full_data\\\\5.json',\n",
       " 'full_data\\\\5.json',\n",
       " 'full_data\\\\5.json',\n",
       " 'full_data\\\\5.json',\n",
       " 'full_data\\\\5.json']"
      ]
     },
     "execution_count": 28,
     "metadata": {},
     "output_type": "execute_result"
    }
   ],
   "source": [
    "#Q19: Which files in the directory full_data contain tweets by the user \"USERID_3\"?\n",
    "file_contain_user(\"full_data\",\"USERID_3\")"
   ]
  },
  {
   "cell_type": "code",
   "execution_count": 29,
   "metadata": {},
   "outputs": [],
   "source": [
    "def get_top_tweets():\n",
    "    full = tweets_greater_than(0,\"full_data\")\n",
    "    sample = tweets_greater_than(0,\"sample_data\")\n",
    "    all_tweets = []\n",
    "    for ele in full:\n",
    "        all_tweets.append(ele)\n",
    "    for ele in sample:\n",
    "        all_tweets.append(ele)\n",
    "    all_tweets = sorted(all_tweets, key=attrgetter('num_liked'))\n",
    "    filt = all_tweets[-20:]\n",
    "    filt = filt[::-1]\n",
    "    return filt"
   ]
  },
  {
   "cell_type": "code",
   "execution_count": 30,
   "metadata": {},
   "outputs": [
    {
     "data": {
      "text/plain": [
       "[Tweet(tweet_id='1467894593', username='USERID_2', num_liked=869000000, length=136),\n",
       " Tweet(tweet_id='1467894600', username='USERID_8', num_liked=915000, length=67),\n",
       " Tweet(tweet_id='1467853431', username='USERID_10', num_liked=9936, length=30),\n",
       " Tweet(tweet_id='1467875163', username='USERID_2', num_liked=9891, length=69),\n",
       " Tweet(tweet_id='1467860904', username='USERID_7', num_liked=9851, length=30),\n",
       " Tweet(tweet_id='1467928014', username='USERID_7', num_liked=9830, length=18),\n",
       " Tweet(tweet_id='1467895048', username='USERID_10', num_liked=9822, length=136),\n",
       " Tweet(tweet_id='1467966646', username='USERID_7', num_liked=9821, length=47),\n",
       " Tweet(tweet_id='1467855673', username='USERID_9', num_liked=9728, length=72),\n",
       " Tweet(tweet_id='1467898078', username='USERID_10', num_liked=9705, length=104),\n",
       " Tweet(tweet_id='1467812579', username='USERID_1', num_liked=9700, length=26),\n",
       " Tweet(tweet_id='1467928300', username='USERID_9', num_liked=9681, length=79),\n",
       " Tweet(tweet_id='1467917177', username='USERID_3', num_liked=9678, length=105),\n",
       " Tweet(tweet_id='1467923235', username='USERID_9', num_liked=9662, length=134),\n",
       " Tweet(tweet_id='1467964211', username='USERID_4', num_liked=9618, length=79),\n",
       " Tweet(tweet_id='1467873980', username='USERID_5', num_liked=9608, length=88),\n",
       " Tweet(tweet_id='1467852067', username='USERID_4', num_liked=9594, length=34),\n",
       " Tweet(tweet_id='1467863633', username='USERID_9', num_liked=9549, length=95),\n",
       " Tweet(tweet_id='1467953733', username='USERID_4', num_liked=9526, length=67),\n",
       " Tweet(tweet_id='1467862806', username='USERID_2', num_liked=9465, length=68)]"
      ]
     },
     "execution_count": 30,
     "metadata": {},
     "output_type": "execute_result"
    }
   ],
   "source": [
    "#Q20: What are the first 20 tweets present in all the files in the full_data directory and the sample_data directory, sorted by num_liked?\n",
    "get_top_tweets()"
   ]
  },
  {
   "cell_type": "code",
   "execution_count": null,
   "metadata": {},
   "outputs": [],
   "source": []
  }
 ],
 "metadata": {
  "kernelspec": {
   "display_name": "Python 3",
   "language": "python",
   "name": "python3"
  },
  "language_info": {
   "codemirror_mode": {
    "name": "ipython",
    "version": 3
   },
   "file_extension": ".py",
   "mimetype": "text/x-python",
   "name": "python",
   "nbconvert_exporter": "python",
   "pygments_lexer": "ipython3",
   "version": "3.8.5"
  }
 },
 "nbformat": 4,
 "nbformat_minor": 4
}

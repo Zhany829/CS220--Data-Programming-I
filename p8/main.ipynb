{
 "cells": [
  {
   "cell_type": "code",
   "execution_count": 1,
   "metadata": {},
   "outputs": [],
   "source": [
    "# project: p8\n",
    "# submitter: wchen394\n",
    "# partner: zyu293\n",
    "# hours: 2"
   ]
  },
  {
   "cell_type": "code",
   "execution_count": 2,
   "metadata": {},
   "outputs": [],
   "source": [
    "import csv\n",
    "import copy\n",
    "import time"
   ]
  },
  {
   "cell_type": "code",
   "execution_count": 3,
   "metadata": {},
   "outputs": [],
   "source": [
    "def get_mapping(path):\n",
    "    map_file = open(path, encoding='utf-8')\n",
    "    file_reader = csv.reader(map_file)\n",
    "    map_data = dict(file_reader)\n",
    "    map_file.close()\n",
    "    return map_data"
   ]
  },
  {
   "cell_type": "code",
   "execution_count": 4,
   "metadata": {},
   "outputs": [
    {
     "data": {
      "text/plain": [
       "{'tt1233301': 'Ironclad',\n",
       " 'tt0090605': 'Aliens',\n",
       " 'nm0257646': 'Jonathan English',\n",
       " 'nm0000299': 'Michael Biehn',\n",
       " 'nm0000116': 'James Cameron',\n",
       " 'nm9696871': 'Brian Cox',\n",
       " 'nm0001343': 'Carrie Henn',\n",
       " 'nm0700856': 'James Purefoy',\n",
       " 'nm0544718': 'Kate Mara',\n",
       " 'nm0000244': 'Sigourney Weaver'}"
      ]
     },
     "execution_count": 4,
     "metadata": {},
     "output_type": "execute_result"
    }
   ],
   "source": [
    "#Q1: What is returned by your get_mapping(\"small_mapping.csv\") function?\n",
    "mapping = get_mapping(\"small_mapping.csv\")\n",
    "mapping"
   ]
  },
  {
   "cell_type": "code",
   "execution_count": 5,
   "metadata": {},
   "outputs": [
    {
     "data": {
      "text/plain": [
       "'Sigourney Weaver'"
      ]
     },
     "execution_count": 5,
     "metadata": {},
     "output_type": "execute_result"
    }
   ],
   "source": [
    "#Q2: What is the value associated with the key \"nm0000244\"?\n",
    "mapping['nm0000244']"
   ]
  },
  {
   "cell_type": "code",
   "execution_count": 6,
   "metadata": {},
   "outputs": [],
   "source": [
    "def get_values(begin):\n",
    "    res = list()\n",
    "    for key in mapping:\n",
    "        if key[:2] == begin:\n",
    "            res.append(mapping[key])\n",
    "    return res"
   ]
  },
  {
   "cell_type": "code",
   "execution_count": 7,
   "metadata": {},
   "outputs": [
    {
     "data": {
      "text/plain": [
       "['Jonathan English',\n",
       " 'Michael Biehn',\n",
       " 'James Cameron',\n",
       " 'Brian Cox',\n",
       " 'Carrie Henn',\n",
       " 'James Purefoy',\n",
       " 'Kate Mara',\n",
       " 'Sigourney Weaver']"
      ]
     },
     "execution_count": 7,
     "metadata": {},
     "output_type": "execute_result"
    }
   ],
   "source": [
    "#Q3: What are the values in the mapping (dictionary) associated with keys that begin with \"nm\"?\n",
    "get_values(\"nm\")"
   ]
  },
  {
   "cell_type": "code",
   "execution_count": 8,
   "metadata": {},
   "outputs": [],
   "source": [
    "def get_key(first_name):\n",
    "    res = list()\n",
    "    for key in mapping:\n",
    "        if mapping[key].split(' ')[0] == first_name:\n",
    "            res.append(key)\n",
    "    return res"
   ]
  },
  {
   "cell_type": "code",
   "execution_count": 9,
   "metadata": {},
   "outputs": [
    {
     "data": {
      "text/plain": [
       "['nm0000116', 'nm0700856']"
      ]
     },
     "execution_count": 9,
     "metadata": {},
     "output_type": "execute_result"
    }
   ],
   "source": [
    "#Q4: For people with \"James\" as their first name in the above mapping, which keys do they correspond to?\n",
    "get_key(\"James\")"
   ]
  },
  {
   "cell_type": "code",
   "execution_count": 10,
   "metadata": {},
   "outputs": [],
   "source": [
    "def get_raw_movies(path):\n",
    "    movie_file = open(path, encoding='utf-8')\n",
    "    movie_reader = csv.reader(movie_file)\n",
    "    movie_data = list(movie_reader)\n",
    "    header = movie_data[0]\n",
    "    movie_data = movie_data[1:]\n",
    "#     print(header)\n",
    "#     print(movie_data)\n",
    "    \n",
    "    ret = list()\n",
    "\n",
    "    for element in movie_data:\n",
    "        res = list()\n",
    "        ind = 0\n",
    "        while ind != 7:\n",
    "            if header[ind] == 'directors' or header[ind] == 'actors' or header[ind] == 'genres':\n",
    "                temp = list()\n",
    "                temp.append(header[ind])\n",
    "                temp.append((element[ind]).split(', '))\n",
    "                res.append(temp)\n",
    "            elif header[ind] == 'rating':\n",
    "                temp = list()\n",
    "                temp.append(header[ind])\n",
    "                temp.append(float(element[ind]))\n",
    "                res.append(temp)\n",
    "            elif header[ind] == 'year' or header[ind] == 'duration':\n",
    "                temp = list()\n",
    "                temp.append(header[ind])\n",
    "                temp.append(int(element[ind]))\n",
    "                res.append(temp)\n",
    "            elif header[ind] == 'rating':\n",
    "                temp = list()\n",
    "                temp.append(header[ind])\n",
    "                temp.append(float(element[ind]))\n",
    "                res.append(temp)\n",
    "            else:\n",
    "                temp = list()\n",
    "                temp.append(header[ind])\n",
    "                temp.append(element[ind])\n",
    "                res.append(temp)\n",
    "            ind += 1\n",
    "        ret.append(dict(res))\n",
    "    \n",
    "    return ret\n"
   ]
  },
  {
   "cell_type": "code",
   "execution_count": 11,
   "metadata": {
    "scrolled": true
   },
   "outputs": [
    {
     "data": {
      "text/plain": [
       "[{'title': 'tt0090605',\n",
       "  'year': 1986,\n",
       "  'genres': ['Action', 'Adventure', 'Sci-Fi'],\n",
       "  'duration': 137,\n",
       "  'directors': ['nm0000116'],\n",
       "  'actors': ['nm0000244', 'nm0001343', 'nm0000299'],\n",
       "  'rating': 8.3},\n",
       " {'title': 'tt1233301',\n",
       "  'year': 2011,\n",
       "  'genres': ['Action', 'Drama', 'History'],\n",
       "  'duration': 121,\n",
       "  'directors': ['nm0257646'],\n",
       "  'actors': ['nm0700856', 'nm9696871', 'nm0544718'],\n",
       "  'rating': 6.1}]"
      ]
     },
     "execution_count": 11,
     "metadata": {},
     "output_type": "execute_result"
    }
   ],
   "source": [
    "#Q5: What does get_raw_movies(\"small_movies.csv\") return?\n",
    "raw_movies = get_raw_movies(\"small_movies.csv\")\n",
    "raw_movies"
   ]
  },
  {
   "cell_type": "code",
   "execution_count": 12,
   "metadata": {},
   "outputs": [
    {
     "data": {
      "text/plain": [
       "3"
      ]
     },
     "execution_count": 12,
     "metadata": {},
     "output_type": "execute_result"
    }
   ],
   "source": [
    "#Q6: How many actors does the movie at index 1 have?\n",
    "len(raw_movies[1]['actors'])"
   ]
  },
  {
   "cell_type": "code",
   "execution_count": 13,
   "metadata": {},
   "outputs": [
    {
     "data": {
      "text/plain": [
       "'nm0000244'"
      ]
     },
     "execution_count": 13,
     "metadata": {},
     "output_type": "execute_result"
    }
   ],
   "source": [
    "#Q7: What is the ID of the first actor listed for the movie at index 0?\n",
    "raw_movies[0]['actors'][0]"
   ]
  },
  {
   "cell_type": "code",
   "execution_count": 14,
   "metadata": {},
   "outputs": [],
   "source": [
    "# def get_movie_header():\n",
    "#     movie_file = open(\"small_movies.csv\", encoding='utf-8')\n",
    "#     movie_reader = csv.reader(movie_file)\n",
    "#     movie_data = list(movie_reader)\n",
    "#     header = movie_data[0]\n",
    "#     return header\n",
    "# def get_map(path):\n",
    "#     map_file = open(path, encoding='utf-8')\n",
    "#     file_reader = csv.reader(map_file)\n",
    "#     map_data = list(file_reader)\n",
    "#     map_file.close()\n",
    "#     return map_data\n",
    "# def get_id(map1):\n",
    "#     ret = list()\n",
    "#     for element in map1:\n",
    "#         ret.append(element)\n",
    "#     return ret\n",
    "def get_movies(movies_path, mapping_path):\n",
    "    #header = get_movie_header()\n",
    "    raw_movies_8 = get_raw_movies(movies_path)\n",
    "    raw_map = get_mapping(mapping_path)\n",
    "    #ids = get_id(raw_map)\n",
    "    #print(raw_map)\n",
    "#     ids = get_id(raw_map)\n",
    "    for ele in raw_movies_8:\n",
    "        #for z in range(len(raw_map)):\n",
    "            #if  raw_movies_8[i]['title'] in ids:\n",
    "            ele['title'] = raw_map[ele['title']]\n",
    "            for j in range(len(ele['directors'])):\n",
    "                ele['directors'][j] = raw_map[ele['directors'][j]]\n",
    "            for z in range(len(ele['actors'])):\n",
    "                ele['actors'][z] = raw_map[ele['actors'][z]]\n",
    "    return raw_movies_8\n",
    "#if raw_map[z][0] in raw_movies_8[i]['directors']:\n",
    "#     for ele in raw_movies_8:\n",
    "#             ind1 = 0      \n",
    "#             while ind1 < len(ele['directors']):\n",
    "#                 ele['directors'][ind1] = raw_map[ids.index(ele['directors'][ind1])][1]\n",
    "#                 ind1 += 1\n",
    "#     for ele in raw_movies_8:\n",
    "#             ind2 = 0\n",
    "#             while ind2 < len(ele['actors']):\n",
    "#                 ele['actors'][ind2] = raw_map[ids.index(ele['actors'][ind2])][1]\n",
    "#                 ind2 += 1"
   ]
  },
  {
   "cell_type": "code",
   "execution_count": 15,
   "metadata": {},
   "outputs": [
    {
     "data": {
      "text/plain": [
       "[{'title': 'Aliens',\n",
       "  'year': 1986,\n",
       "  'genres': ['Action', 'Adventure', 'Sci-Fi'],\n",
       "  'duration': 137,\n",
       "  'directors': ['James Cameron'],\n",
       "  'actors': ['Sigourney Weaver', 'Carrie Henn', 'Michael Biehn'],\n",
       "  'rating': 8.3},\n",
       " {'title': 'Ironclad',\n",
       "  'year': 2011,\n",
       "  'genres': ['Action', 'Drama', 'History'],\n",
       "  'duration': 121,\n",
       "  'directors': ['Jonathan English'],\n",
       "  'actors': ['James Purefoy', 'Brian Cox', 'Kate Mara'],\n",
       "  'rating': 6.1}]"
      ]
     },
     "execution_count": 15,
     "metadata": {},
     "output_type": "execute_result"
    }
   ],
   "source": [
    "#Q8: What is small_data?\n",
    "small_data = get_movies(\"small_movies.csv\", \"small_mapping.csv\")\n",
    "small_data"
   ]
  },
  {
   "cell_type": "code",
   "execution_count": 16,
   "metadata": {},
   "outputs": [
    {
     "data": {
      "text/plain": [
       "'Ironclad'"
      ]
     },
     "execution_count": 16,
     "metadata": {},
     "output_type": "execute_result"
    }
   ],
   "source": [
    "#Q9: What is small_data[1][\"title\"]?\n",
    "small_data[1][\"title\"]"
   ]
  },
  {
   "cell_type": "code",
   "execution_count": 17,
   "metadata": {},
   "outputs": [
    {
     "data": {
      "text/plain": [
       "['Sigourney Weaver', 'Carrie Henn', 'Michael Biehn']"
      ]
     },
     "execution_count": 17,
     "metadata": {},
     "output_type": "execute_result"
    }
   ],
   "source": [
    "#Q10: What is small_data[0][\"actors\"]?\n",
    "small_data[0][\"actors\"]"
   ]
  },
  {
   "cell_type": "code",
   "execution_count": 18,
   "metadata": {},
   "outputs": [
    {
     "data": {
      "text/plain": [
       "['Jonathan English']"
      ]
     },
     "execution_count": 18,
     "metadata": {},
     "output_type": "execute_result"
    }
   ],
   "source": [
    "#Q11: What is small_data[-1][\"directors\"]?\n",
    "small_data[-1][\"directors\"]"
   ]
  },
  {
   "cell_type": "code",
   "execution_count": 19,
   "metadata": {},
   "outputs": [],
   "source": [
    "#startTime = time.time()\n",
    "movies = get_movies(\"movies.csv\", \"mapping.csv\")\n",
    "#executionTime = (time.time() - startTime)\n",
    "#print('Execution time in seconds: ' + str(executionTime))"
   ]
  },
  {
   "cell_type": "code",
   "execution_count": 20,
   "metadata": {},
   "outputs": [
    {
     "data": {
      "text/plain": [
       "[{'title': 'Evolution',\n",
       "  'year': 2001,\n",
       "  'genres': ['Comedy', 'Sci-Fi'],\n",
       "  'duration': 101,\n",
       "  'directors': ['Ivan Reitman'],\n",
       "  'actors': ['David Duchovny', 'Julianne Moore'],\n",
       "  'rating': 6.1},\n",
       " {'title': \"Everybody's Fine\",\n",
       "  'year': 2009,\n",
       "  'genres': ['Drama'],\n",
       "  'duration': 100,\n",
       "  'directors': ['Kirk Jones'],\n",
       "  'actors': ['Robert De Niro',\n",
       "   'Drew Barrymore',\n",
       "   'Kate Beckinsale',\n",
       "   'Sam Rockwell',\n",
       "   'Lucian Maisel'],\n",
       "  'rating': 7.1},\n",
       " {'title': 'Tales of Poe',\n",
       "  'year': 2014,\n",
       "  'genres': ['Fantasy', 'Horror', 'Thriller'],\n",
       "  'duration': 120,\n",
       "  'directors': ['Bart Mastronardi', 'Alan Rowe Kelly'],\n",
       "  'actors': ['Caroline Williams', 'Debbie Rochon', 'Adrienne King'],\n",
       "  'rating': 4.1},\n",
       " {'title': 'Ghostbusters II',\n",
       "  'year': 1989,\n",
       "  'genres': ['Action', 'Comedy', 'Fantasy'],\n",
       "  'duration': 108,\n",
       "  'directors': ['Ivan Reitman'],\n",
       "  'actors': ['Bill Murray', 'Dan Aykroyd', 'Sigourney Weaver'],\n",
       "  'rating': 6.6},\n",
       " {'title': 'Inevitable Grace',\n",
       "  'year': 1994,\n",
       "  'genres': ['Thriller'],\n",
       "  'duration': 103,\n",
       "  'directors': ['Alex Monty Canawati'],\n",
       "  'actors': ['Maxwell Caulfield', 'Stephanie Knights', 'Jennifer Nicholson'],\n",
       "  'rating': 4.8},\n",
       " {'title': 'Heavy Times',\n",
       "  'year': 2010,\n",
       "  'genres': ['Comedy'],\n",
       "  'duration': 90,\n",
       "  'directors': ['Benjamin Mark', 'Ryan McKenna'],\n",
       "  'actors': ['Melina Bartzokis', 'Jay Brunner', 'Brian D. Evans'],\n",
       "  'rating': 4.0}]"
      ]
     },
     "execution_count": 20,
     "metadata": {},
     "output_type": "execute_result"
    }
   ],
   "source": [
    "#Q12: What are the 500th to 505th (inclusive) rows in movies?\n",
    "movies[499:505]"
   ]
  },
  {
   "cell_type": "code",
   "execution_count": 21,
   "metadata": {},
   "outputs": [
    {
     "data": {
      "text/plain": [
       "[{'title': 'Front Cover',\n",
       "  'year': 2015,\n",
       "  'genres': ['Comedy', 'Drama', 'Romance'],\n",
       "  'duration': 87,\n",
       "  'directors': ['Ray Yeung'],\n",
       "  'actors': ['Jake Choi', 'James Chen', 'Jennifer Neala Page'],\n",
       "  'rating': 6.3},\n",
       " {'title': 'The Ape',\n",
       "  'year': 2005,\n",
       "  'genres': ['Comedy', 'Drama'],\n",
       "  'duration': 92,\n",
       "  'directors': ['James Franco'],\n",
       "  'actors': ['James Franco', 'Brian Lally', 'Allison Bibicoff'],\n",
       "  'rating': 4.5},\n",
       " {'title': 'Eastside',\n",
       "  'year': 1999,\n",
       "  'genres': ['Drama', 'Crime'],\n",
       "  'duration': 94,\n",
       "  'directors': ['Lorena David'],\n",
       "  'actors': ['Mario Lopez', 'Elizabeth Bogush', 'Mark D. Espinoza'],\n",
       "  'rating': 4.4}]"
      ]
     },
     "execution_count": 21,
     "metadata": {},
     "output_type": "execute_result"
    }
   ],
   "source": [
    "#Q13: What are the last 3 rows in movies?\n",
    "movies[-3:]"
   ]
  },
  {
   "cell_type": "code",
   "execution_count": 22,
   "metadata": {},
   "outputs": [],
   "source": [
    "# you are *not* allowed to change this function\n",
    "def filter_movies_by_year(movies, year):\n",
    "    i = 0\n",
    "    while i < len(movies):\n",
    "        if movies[i][\"year\"] != year:\n",
    "            movies.pop(i)\n",
    "        else:\n",
    "            i += 1\n",
    "    return movies"
   ]
  },
  {
   "cell_type": "code",
   "execution_count": 23,
   "metadata": {},
   "outputs": [
    {
     "data": {
      "text/plain": [
       "849"
      ]
     },
     "execution_count": 23,
     "metadata": {},
     "output_type": "execute_result"
    }
   ],
   "source": [
    "#Q14: What are the total number of movies from 2019?\n",
    "tmp = copy.deepcopy(movies)\n",
    "tmp=(filter_movies_by_year(tmp, 2019))\n",
    "len(tmp)"
   ]
  },
  {
   "cell_type": "code",
   "execution_count": 24,
   "metadata": {},
   "outputs": [
    {
     "data": {
      "text/plain": [
       "[{'title': 'Oh! Calcutta!',\n",
       "  'year': 1972,\n",
       "  'genres': ['Comedy', 'Musical'],\n",
       "  'duration': 123,\n",
       "  'directors': ['Jacques Levy'],\n",
       "  'actors': ['Raina Barrett', 'Mark Dempsey', 'Samantha Harper'],\n",
       "  'rating': 5.3},\n",
       " {'title': 'The Cowboys',\n",
       "  'year': 1972,\n",
       "  'genres': ['Adventure', 'Drama', 'Western'],\n",
       "  'duration': 134,\n",
       "  'directors': ['Mark Rydell'],\n",
       "  'actors': ['John Wayne', 'Roscoe Lee Browne', 'Bruce Dern'],\n",
       "  'rating': 7.4},\n",
       " {'title': 'Sleuth',\n",
       "  'year': 1972,\n",
       "  'genres': ['Mystery', 'Thriller'],\n",
       "  'duration': 138,\n",
       "  'directors': ['Joseph L. Mankiewicz'],\n",
       "  'actors': ['Laurence Olivier', 'Michael Caine', 'Alec Cawthorne'],\n",
       "  'rating': 8.0},\n",
       " {'title': 'The Great Waltz',\n",
       "  'year': 1972,\n",
       "  'genres': ['Biography', 'Drama', 'Music'],\n",
       "  'duration': 135,\n",
       "  'directors': ['Andrew L. Stone'],\n",
       "  'actors': ['Horst Buchholz',\n",
       "   'Mary Costa',\n",
       "   'Nigel Patrick',\n",
       "   'Yvonne Mitchell'],\n",
       "  'rating': 5.2},\n",
       " {'title': 'Bluebeard',\n",
       "  'year': 1972,\n",
       "  'genres': ['Crime', 'Drama', 'Thriller'],\n",
       "  'duration': 125,\n",
       "  'directors': ['Edward Dmytryk'],\n",
       "  'actors': ['Richard Burton', 'Raquel Welch', 'Virna Lisi'],\n",
       "  'rating': 5.7},\n",
       " {'title': 'Cabaret',\n",
       "  'year': 1972,\n",
       "  'genres': ['Drama', 'Musical'],\n",
       "  'duration': 124,\n",
       "  'directors': ['Bob Fosse'],\n",
       "  'actors': ['Liza Minnelli', 'Michael York', 'Helmut Griem', 'Joel Grey'],\n",
       "  'rating': 7.8},\n",
       " {'title': 'Man of La Mancha',\n",
       "  'year': 1972,\n",
       "  'genres': ['Drama', 'Fantasy', 'Musical'],\n",
       "  'duration': 132,\n",
       "  'directors': ['Arthur Hiller'],\n",
       "  'actors': [\"Peter O'Toole\", 'Sophia Loren', 'James Coco'],\n",
       "  'rating': 6.7},\n",
       " {'title': 'The Godfather',\n",
       "  'year': 1972,\n",
       "  'genres': ['Crime', 'Drama'],\n",
       "  'duration': 175,\n",
       "  'directors': ['Francis Ford Coppola'],\n",
       "  'actors': ['Marlon Brando', 'Al Pacino', 'James Caan'],\n",
       "  'rating': 9.2},\n",
       " {'title': 'The Getaway',\n",
       "  'year': 1972,\n",
       "  'genres': ['Action', 'Crime', 'Thriller'],\n",
       "  'duration': 123,\n",
       "  'directors': ['Sam Peckinpah'],\n",
       "  'actors': ['Steve McQueen',\n",
       "   'Ali MacGraw',\n",
       "   'Ben Johnson',\n",
       "   'Sally Struthers',\n",
       "   'Al Lettieri'],\n",
       "  'rating': 7.4},\n",
       " {'title': 'Lady Sings the Blues',\n",
       "  'year': 1972,\n",
       "  'genres': ['Biography', 'Drama', 'Music'],\n",
       "  'duration': 144,\n",
       "  'directors': ['Sidney J. Furie'],\n",
       "  'actors': ['Diana Ross', 'Billy Dee Williams', 'Richard Pryor'],\n",
       "  'rating': 7.1},\n",
       " {'title': 'Avanti!',\n",
       "  'year': 1972,\n",
       "  'genres': ['Comedy', 'Romance'],\n",
       "  'duration': 144,\n",
       "  'directors': ['Billy Wilder'],\n",
       "  'actors': ['Jack Lemmon', 'Juliet Mills'],\n",
       "  'rating': 7.2},\n",
       " {'title': 'Hungry Wives',\n",
       "  'year': 1972,\n",
       "  'genres': ['Drama'],\n",
       "  'duration': 130,\n",
       "  'directors': ['George A. Romero'],\n",
       "  'actors': ['Jan White', 'Raymond Laine', 'Ann Muffly'],\n",
       "  'rating': 5.5},\n",
       " {'title': '1776',\n",
       "  'year': 1972,\n",
       "  'genres': ['Drama', 'Family', 'History'],\n",
       "  'duration': 141,\n",
       "  'directors': ['Peter H. Hunt'],\n",
       "  'actors': ['William Daniels',\n",
       "   'Howard Da Silva',\n",
       "   'Ken Howard',\n",
       "   'Donald Madden'],\n",
       "  'rating': 7.6}]"
      ]
     },
     "execution_count": 24,
     "metadata": {},
     "output_type": "execute_result"
    }
   ],
   "source": [
    "#Q15: What are the movies from 1972 with duration greater than 120 minutes?\n",
    "tmp = copy.deepcopy(movies)\n",
    "tmp = filter_movies_by_year(tmp, 1972)\n",
    "res = list()\n",
    "for element in tmp:\n",
    "    if int(element['duration']) > 120:\n",
    "        res.append(element)\n",
    "res"
   ]
  },
  {
   "cell_type": "code",
   "execution_count": 25,
   "metadata": {},
   "outputs": [],
   "source": [
    "def get_unique(item):\n",
    "    container = set()\n",
    "    for element in movies:\n",
    "        for ele in element[item]:\n",
    "            container.add(ele)\n",
    "    return len(container)"
   ]
  },
  {
   "cell_type": "code",
   "execution_count": 26,
   "metadata": {},
   "outputs": [
    {
     "data": {
      "text/plain": [
       "24"
      ]
     },
     "execution_count": 26,
     "metadata": {},
     "output_type": "execute_result"
    }
   ],
   "source": [
    "#Q16: How many unique genres are there in the dataset?\n",
    "get_unique('genres')"
   ]
  },
  {
   "cell_type": "code",
   "execution_count": 27,
   "metadata": {},
   "outputs": [
    {
     "data": {
      "text/plain": [
       "38756"
      ]
     },
     "execution_count": 27,
     "metadata": {},
     "output_type": "execute_result"
    }
   ],
   "source": [
    "#Q17: How many unique actor names are there in the dataset?\n",
    "get_unique('actors')"
   ]
  },
  {
   "cell_type": "code",
   "execution_count": 28,
   "metadata": {},
   "outputs": [
    {
     "data": {
      "text/plain": [
       "14233"
      ]
     },
     "execution_count": 28,
     "metadata": {},
     "output_type": "execute_result"
    }
   ],
   "source": [
    "#Q18: How many unique director names are there in the dataset?\n",
    "get_unique('directors')"
   ]
  },
  {
   "cell_type": "code",
   "execution_count": 29,
   "metadata": {},
   "outputs": [],
   "source": [
    "def get_avg_duration():\n",
    "    res = 0\n",
    "    for element in movies:\n",
    "        res += int(element['duration'])\n",
    "    return res/len(movies)"
   ]
  },
  {
   "cell_type": "code",
   "execution_count": 30,
   "metadata": {},
   "outputs": [
    {
     "data": {
      "text/plain": [
       "94.64240831369706"
      ]
     },
     "execution_count": 30,
     "metadata": {},
     "output_type": "execute_result"
    }
   ],
   "source": [
    "#Q19: What is the average duration for all movies?\n",
    "get_avg_duration()"
   ]
  },
  {
   "cell_type": "code",
   "execution_count": 31,
   "metadata": {},
   "outputs": [],
   "source": [
    "def get_longest_director():\n",
    "    ret = ''\n",
    "    for element in movies:\n",
    "        for ele in element['directors']:\n",
    "            if len(ele) > len(ret):\n",
    "                ret = ele\n",
    "    return ret\n",
    "def get_director_movies(director):\n",
    "    res = list()\n",
    "    for element in movies:\n",
    "        for ele in element['directors']:\n",
    "            if ele == director:\n",
    "                res.append(element)\n",
    "    return res"
   ]
  },
  {
   "cell_type": "code",
   "execution_count": 32,
   "metadata": {},
   "outputs": [
    {
     "data": {
      "text/plain": [
       "[{'title': 'The Tourist',\n",
       "  'year': 2010,\n",
       "  'genres': ['Action', 'Adventure', 'Crime'],\n",
       "  'duration': 103,\n",
       "  'directors': ['Florian Henckel von Donnersmarck'],\n",
       "  'actors': ['Johnny Depp', 'Angelina Jolie', 'Paul Bettany'],\n",
       "  'rating': 6.0}]"
      ]
     },
     "execution_count": 32,
     "metadata": {},
     "output_type": "execute_result"
    }
   ],
   "source": [
    "#Q20: List the movies directed by the director with the longest name in the dataset.\n",
    "director = get_longest_director()\n",
    "get_director_movies(director)"
   ]
  },
  {
   "cell_type": "code",
   "execution_count": null,
   "metadata": {},
   "outputs": [],
   "source": []
  }
 ],
 "metadata": {
  "kernelspec": {
   "display_name": "Python 3",
   "language": "python",
   "name": "python3"
  },
  "language_info": {
   "codemirror_mode": {
    "name": "ipython",
    "version": 3
   },
   "file_extension": ".py",
   "mimetype": "text/x-python",
   "name": "python",
   "nbconvert_exporter": "python",
   "pygments_lexer": "ipython3",
   "version": "3.8.5"
  }
 },
 "nbformat": 4,
 "nbformat_minor": 4
}

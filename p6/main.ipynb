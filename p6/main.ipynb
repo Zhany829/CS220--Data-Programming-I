{
 "cells": [
  {
   "cell_type": "code",
   "execution_count": 1,
   "metadata": {},
   "outputs": [],
   "source": [
    "# project: p6\n",
    "# submitter: wchen394\n",
    "# partner: zyu293\n",
    "# hours: 2"
   ]
  },
  {
   "cell_type": "code",
   "execution_count": 2,
   "metadata": {},
   "outputs": [],
   "source": [
    "import csv\n",
    "import sys"
   ]
  },
  {
   "cell_type": "code",
   "execution_count": 3,
   "metadata": {},
   "outputs": [],
   "source": [
    "# copied from https://automatetheboringstuff.com/chapter14/\n",
    "def process_csv(filename):\n",
    "    exampleFile = open(filename, encoding=\"utf-8\")\n",
    "    exampleReader = csv.reader(exampleFile)\n",
    "    exampleData = list(exampleReader)\n",
    "    exampleFile.close()\n",
    "    return exampleData\n",
    "\n",
    "# use process_csv to pull out the header and data rows\n",
    "csv_rows = process_csv(\"airbnb.csv\")\n",
    "csv_header = csv_rows[0]\n",
    "csv_data = csv_rows[1:]"
   ]
  },
  {
   "cell_type": "code",
   "execution_count": 4,
   "metadata": {},
   "outputs": [],
   "source": [
    "def cell(row_idx, col_name):\n",
    "    col_idx = csv_header.index(col_name)\n",
    "    val = csv_data[row_idx][col_idx]\n",
    "    if val == \"\":\n",
    "        return None\n",
    "    # optional: convert types based on column name, ensuring that the\n",
    "    # float and int values are appropriately converted\n",
    "    return val"
   ]
  },
  {
   "cell_type": "code",
   "execution_count": 5,
   "metadata": {},
   "outputs": [
    {
     "data": {
      "text/plain": [
       "['Entire home/apt', 'Shared room', 'Private room']"
      ]
     },
     "execution_count": 5,
     "metadata": {},
     "output_type": "execute_result"
    }
   ],
   "source": [
    "#Q1: What room types are present in the airbnb dataset?\n",
    "room_types = set()\n",
    "for row in csv_data:\n",
    "    room_types.add(row[csv_header.index(\"room_type\")])\n",
    "list(room_types)"
   ]
  },
  {
   "cell_type": "code",
   "execution_count": 6,
   "metadata": {},
   "outputs": [
    {
     "data": {
      "text/plain": [
       "152.721"
      ]
     },
     "execution_count": 6,
     "metadata": {},
     "output_type": "execute_result"
    }
   ],
   "source": [
    "#Q2: What is the average price?\n",
    "total_price = 0.0\n",
    "for row in csv_data:\n",
    "    total_price+= float(row[csv_header.index(\"price\")])\n",
    "round(total_price/len(csv_data),3)"
   ]
  },
  {
   "cell_type": "code",
   "execution_count": 7,
   "metadata": {},
   "outputs": [
    {
     "data": {
      "text/plain": [
       "70"
      ]
     },
     "execution_count": 7,
     "metadata": {},
     "output_type": "execute_result"
    }
   ],
   "source": [
    "#Q3: Count the number of rooms located in neighborhood \"Kingsbridge\"? (neighborhood==\"Kingsbridge\")\n",
    "cnt_3 = 0\n",
    "for row in csv_data:\n",
    "    if row[csv_header.index(\"neighborhood\")] == \"Kingsbridge\":\n",
    "        cnt_3 += 1\n",
    "cnt_3"
   ]
  },
  {
   "cell_type": "code",
   "execution_count": 8,
   "metadata": {},
   "outputs": [],
   "source": [
    "def get_name_list(name1,name2 = None):\n",
    "    res = set()\n",
    "    for row in csv_data:\n",
    "        if row[csv_header.index(\"name\")].lower().count(name1):\n",
    "            res.add(row[csv_header.index(\"name\")])\n",
    "    if name2 != None:\n",
    "        for row in csv_data:\n",
    "            if row[csv_header.index(\"name\")].lower().count(name2):\n",
    "                res.add(row[csv_header.index(\"name\")])\n",
    "    return list(res)"
   ]
  },
  {
   "cell_type": "code",
   "execution_count": 9,
   "metadata": {},
   "outputs": [
    {
     "data": {
      "text/plain": [
       "['SUPERBOWLSUNDAY! 3BLOCK FROM TIMESQ',\n",
       " 'NYC SuperBowl Wk 5 Bdrs River View ',\n",
       " 'Super Apt for Superbowl',\n",
       " 'MANHATTAN SUPERBOWL ACCOMODATION',\n",
       " 'PERFECT SUPERBOWL STAY',\n",
       " 'SUPERBOWL!! 2 Bd, 2 Ba w Roof Deck!',\n",
       " '1500 sq ft apt sleeps 8 - SuperBowl',\n",
       " 'UWS MANHATTAN APT FOR SUPERBOWL WE',\n",
       " '1BR Superbowl rental Hells Kitchen',\n",
       " 'Downtown NY Apt - SuperBowl Weekend',\n",
       " 'SuperBowl Weekend Rental! 3 BR/1ba',\n",
       " 'Superbowl - NYC Apartment',\n",
       " 'SuperBowl West Village Apartment',\n",
       " 'SuperBowl Penthouse Loft 3,000 sqft',\n",
       " 'Superbowl Studio Upper West Side',\n",
       " 'Superbowl in the West Village',\n",
       " 'Tribeca Loft for Superbowl Wknd']"
      ]
     },
     "execution_count": 9,
     "metadata": {},
     "output_type": "execute_result"
    }
   ],
   "source": [
    "#Q4: Find the room names containing \"superbowl\" (case insensitive)\n",
    "list_4 = get_name_list(\"superbowl\")\n",
    "list_4"
   ]
  },
  {
   "cell_type": "code",
   "execution_count": 10,
   "metadata": {},
   "outputs": [
    {
     "data": {
      "text/plain": [
       "['PRIVATE 1BR APT: Free WIFI & DIRECT TV',\n",
       " 'Landmark 1 Bedroom has 2 beds, Free WiFi',\n",
       " 'Staten Island - Free Wifi, Parking Space, Near NYC',\n",
       " 'Historic Turret Retreat (Smart TV/Cable/Wifi)',\n",
       " 'Luxury condo- private room + bath w cable TV/W/D',\n",
       " 'Explore NYC From Our Private Studio w/Free Wifi',\n",
       " 'Pvt entrance lower level apt w/cable-wi-fi pvt bth',\n",
       " 'Tudor Studio (Wifi/Premium Cable) w Private Entry',\n",
       " '5min walk to L train - Free WiFi & Cleaning',\n",
       " 'BIG BEDROOM CLOSE TO LA GUARDIA AIRPORT FREE WIFI',\n",
       " '*NO GUEST SERVICE FEE* Beekman Tower One Bedroom Suite with Queen Bed & Free Wifi',\n",
       " 'Private Studio: Landmark Dt (Smart TV/Wifi/Cable)',\n",
       " '1 bedroom furnished with WIFI and cable. Murr Hill',\n",
       " 'J- **LUXURY SHARED ROOM 2PPL FREE WIFI+CABLE+AC',\n",
       " 'Cable and wfi, L/G included.',\n",
       " 'One Bedroom Mini studio - Free WIFI',\n",
       " 'Sunny Hudson Yards/ Chelsea Studio, Free WiFi',\n",
       " 'Impeccable Private one&half bedroom and full bath',\n",
       " 'Huge 1bdrm w pt Doorman, WiFi/Cable, Bottled Water',\n",
       " 'J- COZY ROOM FOR 1 FEMALE FREE WIFI & COFFEE',\n",
       " 'J- HOTEL STYLE SHARE ROOM FOR 2PPL FREE CABLE WIFI',\n",
       " 'J- *LUXURY SHARED ROOM AC FREE WIFI CABLE, GARDEN',\n",
       " '2Bed/ 2Bath Impeccable Stylish Brooklyn Home',\n",
       " '*NO GUEST SERVICE FEE* Beekman Tower Studio with Queen Bed & Free Wifi',\n",
       " 'Newly renovated 2 bedroom with FREE WIFI',\n",
       " 'Private 2 BR APT: Free WIFI & JACUZZI',\n",
       " 'Coney Island MCU Park Wi fi Cable Apt****',\n",
       " 'Cozy,budget friendly, cable inc, private entrance!',\n",
       " 'J- LUXURY SHARED ROOM, AC FREE WIFI+CABLE GARDEN',\n",
       " 'J- HOTEL STYLE SHARE ROOM FOR 2PPL FREE WIFI CABLE',\n",
       " 'Coney Island  Amphitheat  MCU 1 br  Wifi Cable **',\n",
       " 'Private Bedroom in MANHATTAN (Free Wifi)',\n",
       " 'ROOM AC WI-FI PARKING CABLE FOR 2',\n",
       " 'Great Chelsea Location, Couch/2nd bed, Free WiFi',\n",
       " 'Cozy, impeccable, sunlit West Village studio',\n",
       " 'Modern and Safe Place,Free Wifi']"
      ]
     },
     "execution_count": 10,
     "metadata": {},
     "output_type": "execute_result"
    }
   ],
   "source": [
    "#Q5: Find the room names containing \"free wifi\" (case insensitive) or \"cable\" (case insensitive)\n",
    "list_5 = get_name_list(\"free wifi\", \"cable\")\n",
    "list_5"
   ]
  },
  {
   "cell_type": "code",
   "execution_count": 11,
   "metadata": {},
   "outputs": [],
   "source": [
    "def find_anagrams(phrase):\n",
    "    res_6 = set()\n",
    "    for row in csv_data:\n",
    "        element = row[csv_header.index(\"host_name\")].replace(\" \",\"\").lower()\n",
    "        phrase = phrase.replace(\" \",\"\").lower()\n",
    "        if sorted(element) == sorted(phrase):\n",
    "            res_6.add(row[csv_header.index(\"host_name\")])\n",
    "    return list(res_6)"
   ]
  },
  {
   "cell_type": "code",
   "execution_count": 12,
   "metadata": {},
   "outputs": [
    {
     "data": {
      "text/plain": [
       "['Ronaldo', 'Rolando', 'Orlando']"
      ]
     },
     "execution_count": 12,
     "metadata": {},
     "output_type": "execute_result"
    }
   ],
   "source": [
    "#Q6: Which host names (host_name column) are anagrams of the phrase \"loondar\"?\n",
    "find_anagrams(\"loondar\")"
   ]
  },
  {
   "cell_type": "code",
   "execution_count": 13,
   "metadata": {},
   "outputs": [],
   "source": [
    "def list_ids_night(nights):\n",
    "    res = list()\n",
    "    for row in csv_data:\n",
    "        if int(row[csv_header.index(\"minimum_nights\")]) > 365:\n",
    "            res.append(str((row[csv_header.index(\"room_id\")])))\n",
    "    return list(res)"
   ]
  },
  {
   "cell_type": "code",
   "execution_count": 14,
   "metadata": {},
   "outputs": [
    {
     "data": {
      "text/plain": [
       "['568684',\n",
       " '1615764',\n",
       " '4204302',\n",
       " '5431845',\n",
       " '6169897',\n",
       " '8341919',\n",
       " '8668115',\n",
       " '10053943',\n",
       " '11096888',\n",
       " '12888849',\n",
       " '20990053',\n",
       " '27362309',\n",
       " '30378211',\n",
       " '35834935']"
      ]
     },
     "execution_count": 14,
     "metadata": {},
     "output_type": "execute_result"
    }
   ],
   "source": [
    "#Q7: List all room ids that require the minimum nights greater than 365 days (minimum_nights > 365).\n",
    "list_ids_night(365)"
   ]
  },
  {
   "cell_type": "code",
   "execution_count": 15,
   "metadata": {},
   "outputs": [],
   "source": [
    "def list_ids_room(nights):\n",
    "    res = set()\n",
    "    for row in csv_data:\n",
    "        if int(row[csv_header.index(\"calculated_host_listings_count\")]) > 50:\n",
    "            res.add(str((row[csv_header.index(\"host_id\")])))\n",
    "    return list(res)"
   ]
  },
  {
   "cell_type": "code",
   "execution_count": 16,
   "metadata": {},
   "outputs": [
    {
     "data": {
      "text/plain": [
       "['200380610',\n",
       " '30283594',\n",
       " '137358866',\n",
       " '7503643',\n",
       " '219517861',\n",
       " '16098958',\n",
       " '1475015',\n",
       " '12243051',\n",
       " '61391963',\n",
       " '107434423',\n",
       " '22541573']"
      ]
     },
     "execution_count": 16,
     "metadata": {},
     "output_type": "execute_result"
    }
   ],
   "source": [
    "#Q8: List all host ids who are hosting greater than 50 rooms. (calculated_host_listings_count > 50)\n",
    "list_ids_room(50)"
   ]
  },
  {
   "cell_type": "code",
   "execution_count": 17,
   "metadata": {},
   "outputs": [],
   "source": [
    "def room_percent(room_type):\n",
    "    cnt_9 = 0.0\n",
    "    for row in csv_data:\n",
    "        if (row[csv_header.index(\"room_type\")]) == \"Shared room\":\n",
    "            cnt_9 += 1\n",
    "    return round(cnt_9/len(csv_data)*100,3)"
   ]
  },
  {
   "cell_type": "code",
   "execution_count": 18,
   "metadata": {},
   "outputs": [
    {
     "data": {
      "text/plain": [
       "2.372"
      ]
     },
     "execution_count": 18,
     "metadata": {},
     "output_type": "execute_result"
    }
   ],
   "source": [
    "#Q9 What percentage of rooms are shared rooms? (room_type == \"Shared room\")\n",
    "room_percent(\"Shared room\")"
   ]
  },
  {
   "cell_type": "code",
   "execution_count": 19,
   "metadata": {},
   "outputs": [],
   "source": [
    "def min_price_room(group):\n",
    "    min_price = sys.maxsize\n",
    "    res_10 = list()\n",
    "    for row in csv_data:\n",
    "        if (row[csv_header.index(\"neighborhood_group\")]) == group and int(row[csv_header.index(\"price\")]) < int(min_price):\n",
    "            min_price = row[csv_header.index(\"price\")]\n",
    "    for row in csv_data:\n",
    "        if (row[csv_header.index(\"neighborhood_group\")]) == group and int(row[csv_header.index(\"price\")]) == int(min_price):\n",
    "            res_10.append(row[csv_header.index(\"name\")])\n",
    "    return res_10"
   ]
  },
  {
   "cell_type": "code",
   "execution_count": 20,
   "metadata": {},
   "outputs": [
    {
     "data": {
      "text/plain": [
       "['Huge Brooklyn Brownstone Living, Close to it all.',\n",
       " 'MARTIAL LOFT 3: REDEMPTION (upstairs, 2nd room)',\n",
       " 'Sunny, Quiet Room in Greenpoint',\n",
       " 'Modern apartment in the heart of Williamsburg',\n",
       " 'Spacious comfortable master bedroom with nice view',\n",
       " 'Contemporary bedroom in brownstone with nice view',\n",
       " 'Cozy yet spacious private brownstone bedroom',\n",
       " 'Coliving in Brooklyn! Modern design / Shared room',\n",
       " 'Best Coliving space ever! Shared room.']"
      ]
     },
     "execution_count": 20,
     "metadata": {},
     "output_type": "execute_result"
    }
   ],
   "source": [
    "#Q10: What are the names of the cheapest rooms in Brooklyn (neighborhood_group == \"Brooklyn\")?\n",
    "min_price_room(\"Brooklyn\")"
   ]
  },
  {
   "cell_type": "code",
   "execution_count": 21,
   "metadata": {},
   "outputs": [
    {
     "data": {
      "text/plain": [
       "['the best you can find']"
      ]
     },
     "execution_count": 21,
     "metadata": {},
     "output_type": "execute_result"
    }
   ],
   "source": [
    "#Q11: What are the names of the cheapest rooms in Manhattan (neighborhood_group == \"Manhattan\")?\n",
    "min_price_room(\"Manhattan\")"
   ]
  },
  {
   "cell_type": "code",
   "execution_count": 22,
   "metadata": {},
   "outputs": [],
   "source": [
    "def ratio_review_availability():\n",
    "    ratio = 0.0\n",
    "    valid_row = 0\n",
    "    for row in csv_data:\n",
    "        if int(row[csv_header.index(\"availability_365\")]) != 0:\n",
    "            ratio += float(row[csv_header.index(\"number_of_reviews\")]) / int(row[csv_header.index(\"availability_365\")])\n",
    "            valid_row += 1\n",
    "    return round(float(ratio) / valid_row, 3)"
   ]
  },
  {
   "cell_type": "code",
   "execution_count": 23,
   "metadata": {},
   "outputs": [
    {
     "data": {
      "text/plain": [
       "1.022"
      ]
     },
     "execution_count": 23,
     "metadata": {},
     "output_type": "execute_result"
    }
   ],
   "source": [
    "#Q12: What is the average ratio of the number of reviews to availability? (Ignore rooms that has availability_365==0).\n",
    "ratio_review_availability()"
   ]
  },
  {
   "cell_type": "code",
   "execution_count": 24,
   "metadata": {},
   "outputs": [],
   "source": [
    "def review_per_month(low_latitude, high_latitude, low_longitude, high_longitude):\n",
    "    ids = list()\n",
    "    res = list()\n",
    "    for row in csv_data:\n",
    "        if float(row[csv_header.index(\"latitude\")]) >= low_latitude and float(row[csv_header.index(\"latitude\")]) <= high_latitude:\n",
    "            if float(row[csv_header.index(\"longitude\")]) >= low_longitude and float(row[csv_header.index(\"longitude\")]) <= high_longitude:\n",
    "                ids.append(int(row[csv_header.index(\"room_id\")]))\n",
    "    max_review = 0\n",
    "    for row in csv_data:\n",
    "        if (row[csv_header.index(\"reviews_per_month\")]) != '' and float(row[csv_header.index(\"reviews_per_month\")]) > max_review:\n",
    "            if int(row[csv_header.index(\"room_id\")]) in ids:\n",
    "                max_review = float(row[csv_header.index(\"reviews_per_month\")])\n",
    "    for row in csv_data:\n",
    "         if (row[csv_header.index(\"reviews_per_month\")]) != '' and float(row[csv_header.index(\"reviews_per_month\")]) == max_review:\n",
    "            if int(row[csv_header.index(\"room_id\")]) in ids:\n",
    "                 res.append(str(row[csv_header.index(\"room_id\")]))\n",
    "    return res"
   ]
  },
  {
   "cell_type": "code",
   "execution_count": 25,
   "metadata": {},
   "outputs": [
    {
     "data": {
      "text/plain": [
       "['22463977']"
      ]
     },
     "execution_count": 25,
     "metadata": {},
     "output_type": "execute_result"
    }
   ],
   "source": [
    "#Q13: Which room ids have the highest reviews_per_month among rooms within (40.50 <= latitude <= 40.75, -74.00 <= longitude <= -73.95)\n",
    "review_per_month(40.5, 40.75, -74,-73.95)"
   ]
  },
  {
   "cell_type": "code",
   "execution_count": 26,
   "metadata": {},
   "outputs": [
    {
     "data": {
      "text/plain": [
       "['16276632']"
      ]
     },
     "execution_count": 26,
     "metadata": {},
     "output_type": "execute_result"
    }
   ],
   "source": [
    "#Q14: Which room ids have the highest reviews_per_month among rooms within (40.75 <= latitude <= 41.00, -73.95 <= longitude <= -73.85)\n",
    "review_per_month(40.75,41,-73.95,-73.85)"
   ]
  },
  {
   "cell_type": "code",
   "execution_count": 27,
   "metadata": {},
   "outputs": [],
   "source": [
    "def get_year(date):\n",
    "    if str.isdigit(date[:4]):\n",
    "        return int(date[:4])\n",
    "    else:\n",
    "        return -1\n",
    "def check_last_review(group,year):\n",
    "    res = list()\n",
    "    for row in csv_data:\n",
    "        if (row[csv_header.index(\"neighborhood_group\")]) == \"Queens\":\n",
    "            if get_year((row[csv_header.index(\"last_review\")])) != -1 and get_year((row[csv_header.index(\"last_review\")])) < year:\n",
    "                res.append(row[csv_header.index(\"room_id\")])\n",
    "    return res"
   ]
  },
  {
   "cell_type": "code",
   "execution_count": 28,
   "metadata": {},
   "outputs": [
    {
     "data": {
      "text/plain": [
       "['32363', '59121', '479285', '679633', '766964']"
      ]
     },
     "execution_count": 28,
     "metadata": {},
     "output_type": "execute_result"
    }
   ],
   "source": [
    "#Q15: Which room ids in Queens (neighborhood_group == \"Queens\") have not received a review since 2013?\n",
    "check_last_review(\"Queens\",2013)"
   ]
  },
  {
   "cell_type": "code",
   "execution_count": 29,
   "metadata": {},
   "outputs": [],
   "source": [
    "def avg_price(num_review):\n",
    "    sum_price = 0\n",
    "    cnt_16 = 0\n",
    "    for row in csv_data:\n",
    "        if int(row[csv_header.index(\"number_of_reviews\")]) > num_review:\n",
    "                sum_price += float(row[csv_header.index(\"price\")])\n",
    "                cnt_16 += 1\n",
    "    return round(sum_price/cnt_16,3)"
   ]
  },
  {
   "cell_type": "code",
   "execution_count": 30,
   "metadata": {},
   "outputs": [
    {
     "data": {
      "text/plain": [
       "105.515"
      ]
     },
     "execution_count": 30,
     "metadata": {},
     "output_type": "execute_result"
    }
   ],
   "source": [
    "#Q16: What is the average price of rooms that have greater than 300 reviews?\n",
    "avg_price(300)"
   ]
  },
  {
   "cell_type": "code",
   "execution_count": 31,
   "metadata": {},
   "outputs": [],
   "source": [
    "def avg_review(price):\n",
    "    sum_review = 0\n",
    "    cnt_17 = 0\n",
    "    for row in csv_data:\n",
    "        if float(row[csv_header.index(\"price\")]) > price:\n",
    "                sum_review += float(row[csv_header.index(\"number_of_reviews\")])\n",
    "                cnt_17 += 1\n",
    "    return round(sum_review/cnt_17,3)"
   ]
  },
  {
   "cell_type": "code",
   "execution_count": 32,
   "metadata": {},
   "outputs": [
    {
     "data": {
      "text/plain": [
       "6.41"
      ]
     },
     "execution_count": 32,
     "metadata": {},
     "output_type": "execute_result"
    }
   ],
   "source": [
    "#Q17: What is the average number of reviews of rooms that have price greater than 1000 dollars?\n",
    "avg_review(1000)"
   ]
  },
  {
   "cell_type": "code",
   "execution_count": 33,
   "metadata": {},
   "outputs": [],
   "source": [
    "def get_name_list_2(name1,name2 = None):\n",
    "    cnt = 0\n",
    "    if name2 == None:\n",
    "        for row in csv_data:\n",
    "            if row[csv_header.index(\"name\")].lower().count(name1):\n",
    "                cnt += 1\n",
    "    if name2 != None:\n",
    "        for row in csv_data:\n",
    "            if row[csv_header.index(\"name\")].lower().count(name1) and row[csv_header.index(\"name\")].lower().count(name2):\n",
    "                cnt += 1\n",
    "    return cnt"
   ]
  },
  {
   "cell_type": "code",
   "execution_count": 34,
   "metadata": {},
   "outputs": [
    {
     "data": {
      "text/plain": [
       "30.57"
      ]
     },
     "execution_count": 34,
     "metadata": {},
     "output_type": "execute_result"
    }
   ],
   "source": [
    "#Q18: What percentage of rooms whose name contains the word \"sweet\" also contain the word \"home\" in its name? (case insensitive)\n",
    "round((get_name_list_2(\"sweet\",\"home\"))/(get_name_list_2(\"sweet\"))*100,3)"
   ]
  },
  {
   "cell_type": "code",
   "execution_count": 35,
   "metadata": {},
   "outputs": [
    {
     "data": {
      "text/plain": [
       "48.921"
      ]
     },
     "execution_count": 35,
     "metadata": {},
     "output_type": "execute_result"
    }
   ],
   "source": [
    "#Q19: What percentage of rooms whose name contains the word \"pool\" also contain the word \"gym\" in its name? (case insensitive)\n",
    "round((get_name_list_2(\"pool\",\"gym\"))/(get_name_list_2(\"pool\"))*100,3)"
   ]
  },
  {
   "cell_type": "code",
   "execution_count": 36,
   "metadata": {},
   "outputs": [],
   "source": [
    "def get_min_cost(group1,group2,period1,period2):\n",
    "    min1 = sys.maxsize\n",
    "    min2 = sys.maxsize\n",
    "    for row in csv_data:\n",
    "        if (row[csv_header.index(\"neighborhood_group\")]) == group1 and float(row[csv_header.index(\"price\")]) < int(min1):\n",
    "            if int(row[csv_header.index(\"minimum_nights\")]) <= period1:\n",
    "                min1 = float(row[csv_header.index(\"price\")])\n",
    "        if (row[csv_header.index(\"neighborhood_group\")]) == group2 and float(row[csv_header.index(\"price\")]) < int(min2):\n",
    "            if int(row[csv_header.index(\"minimum_nights\")]) <= period2:\n",
    "                min2 = float(row[csv_header.index(\"price\")])\n",
    "    return int(min1 * period1 + min2 * period2)"
   ]
  },
  {
   "cell_type": "code",
   "execution_count": 37,
   "metadata": {},
   "outputs": [
    {
     "data": {
      "text/plain": [
       "180"
      ]
     },
     "execution_count": 37,
     "metadata": {},
     "output_type": "execute_result"
    }
   ],
   "source": [
    "#Q20: What is the minimum amount of money one needs to spend to stay for 5 days in Queens, \n",
    "#and then 10 days in Staten Island? (You can only stay in a total of 2 different rooms, one per neighborhood_group)\n",
    "#Hint: total cost = (lowest price in Queens with minimum nights less than or equal to 5) * 5 + \n",
    "#(lowest price in Staten Island with minimum nights less than or equal to 10)* 10\n",
    "get_min_cost(\"Queens\", \"Staten Island\", 5, 10)"
   ]
  },
  {
   "cell_type": "code",
   "execution_count": null,
   "metadata": {},
   "outputs": [],
   "source": []
  }
 ],
 "metadata": {
  "kernelspec": {
   "display_name": "Python 3",
   "language": "python",
   "name": "python3"
  },
  "language_info": {
   "codemirror_mode": {
    "name": "ipython",
    "version": 3
   },
   "file_extension": ".py",
   "mimetype": "text/x-python",
   "name": "python",
   "nbconvert_exporter": "python",
   "pygments_lexer": "ipython3",
   "version": "3.8.5"
  }
 },
 "nbformat": 4,
 "nbformat_minor": 4
}

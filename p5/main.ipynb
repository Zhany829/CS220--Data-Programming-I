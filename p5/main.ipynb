{
 "cells": [
  {
   "cell_type": "code",
   "execution_count": 1,
   "metadata": {},
   "outputs": [],
   "source": [
    "ge't'# project: p5\n",
    "# submitter: wchen394\n",
    "# partner: zyu293\n",
    "# hours: 2\n",
    "\n",
    "import project"
   ]
  },
  {
   "cell_type": "code",
   "execution_count": 2,
   "metadata": {},
   "outputs": [
    {
     "data": {
      "text/plain": [
       "133"
      ]
     },
     "execution_count": 2,
     "metadata": {},
     "output_type": "execute_result"
    }
   ],
   "source": [
    "#Q1: How many records are in the dataset?\n",
    "project.count()"
   ]
  },
  {
   "cell_type": "code",
   "execution_count": 3,
   "metadata": {},
   "outputs": [
    {
     "data": {
      "text/plain": [
       "'Dora'"
      ]
     },
     "execution_count": 3,
     "metadata": {},
     "output_type": "execute_result"
    }
   ],
   "source": [
    "#Q2: What is the name of the hurricane at index 20?\n",
    "project.get_name(20)"
   ]
  },
  {
   "cell_type": "code",
   "execution_count": 4,
   "metadata": {},
   "outputs": [
    {
     "data": {
      "text/plain": [
       "1"
      ]
     },
     "execution_count": 4,
     "metadata": {},
     "output_type": "execute_result"
    }
   ],
   "source": [
    "#Q3: How many deaths were caused by the hurricane at the last index?\n",
    "project.get_deaths(project.count()-1)"
   ]
  },
  {
   "cell_type": "code",
   "execution_count": 5,
   "metadata": {},
   "outputs": [
    {
     "data": {
      "text/plain": [
       "3"
      ]
     },
     "execution_count": 5,
     "metadata": {},
     "output_type": "execute_result"
    }
   ],
   "source": [
    "#Q4: How many hurricanes named Florence are in the dataset?\n",
    "cnt = 0\n",
    "i = 0\n",
    "while  i < project.count():\n",
    "    if project.get_name(i).lower() == 'florence':\n",
    "        cnt+=1\n",
    "    i+=1\n",
    "cnt"
   ]
  },
  {
   "cell_type": "code",
   "execution_count": 6,
   "metadata": {},
   "outputs": [
    {
     "data": {
      "text/plain": [
       "'Floyd'"
      ]
     },
     "execution_count": 6,
     "metadata": {},
     "output_type": "execute_result"
    }
   ],
   "source": [
    "#Q5: What is the name of the slowest hurricane?\n",
    "min_mph = project.get_mph(0)\n",
    "name = project.get_name(0)\n",
    "i = 0\n",
    "while  i < project.count():\n",
    "    if project.get_mph(i) < min_mph:\n",
    "        min_mph = project.get_mph(i)\n",
    "        name = project.get_name(i)\n",
    "    i+=1\n",
    "name"
   ]
  },
  {
   "cell_type": "code",
   "execution_count": 7,
   "metadata": {},
   "outputs": [
    {
     "data": {
      "text/plain": [
       "190"
      ]
     },
     "execution_count": 7,
     "metadata": {},
     "output_type": "execute_result"
    }
   ],
   "source": [
    "#Q6: What is the fastest MPH ever achieved by a hurricane?\n",
    "max_mph = project.get_mph(0)\n",
    "i = 0\n",
    "while  i < project.count():\n",
    "    if project.get_mph(i) > max_mph:\n",
    "        max_mph = project.get_mph(i)\n",
    "    i+=1\n",
    "max_mph"
   ]
  },
  {
   "cell_type": "code",
   "execution_count": 8,
   "metadata": {},
   "outputs": [],
   "source": [
    "def format_damage(damage):\n",
    "    if str(damage)[-1] == 'K':\n",
    "        return float(str(damage)[:-1])*1000\n",
    "    if str(damage)[-1] == 'M':\n",
    "        return float(str(damage)[:-1])*1000000\n",
    "    if str(damage)[-1] == 'B':\n",
    "        return float(str(damage)[:-1])*1000000000\n",
    "    return damage"
   ]
  },
  {
   "cell_type": "code",
   "execution_count": 31,
   "metadata": {},
   "outputs": [
    {
     "data": {
      "text/plain": [
       "6502484699.0"
      ]
     },
     "execution_count": 31,
     "metadata": {},
     "output_type": "execute_result"
    }
   ],
   "source": [
    "#Q7: What is the average damage (in dollars) caused by all hurricanes?\n",
    "i = 0\n",
    "cnt = 0\n",
    "while  i < project.count():\n",
    "    cnt += format_damage(project.get_damage(i))\n",
    "    i += 1\n",
    "cnt//project.count()"
   ]
  },
  {
   "cell_type": "code",
   "execution_count": 10,
   "metadata": {},
   "outputs": [
    {
     "data": {
      "text/plain": [
       "112"
      ]
     },
     "execution_count": 10,
     "metadata": {},
     "output_type": "execute_result"
    }
   ],
   "source": [
    "#Q8: How many deaths did hurricane 'Gustav' cause?\n",
    "i = 0\n",
    "cnt = 0\n",
    "while  i < project.count():\n",
    "    if project.get_name(i) == 'Gustav':\n",
    "        cnt += project.get_deaths(i)\n",
    "    i += 1\n",
    "cnt"
   ]
  },
  {
   "cell_type": "code",
   "execution_count": 11,
   "metadata": {},
   "outputs": [
    {
     "data": {
      "text/plain": [
       "670"
      ]
     },
     "execution_count": 11,
     "metadata": {},
     "output_type": "execute_result"
    }
   ],
   "source": [
    "#Q9: What is the total deaths caused by hurricanes with names starting with the letter C?\n",
    "i = 0\n",
    "cnt = 0\n",
    "while  i < project.count():\n",
    "    if (project.get_name(i)[:1] == 'c') | (project.get_name(i)[:1] == 'C'):\n",
    "        cnt += project.get_deaths(i)\n",
    "    i += 1\n",
    "cnt"
   ]
  },
  {
   "cell_type": "code",
   "execution_count": 12,
   "metadata": {},
   "outputs": [],
   "source": [
    "def get_month(date):\n",
    "    '''Returns the month when the date is the in the 'mm/dd/yyyy' format'''\n",
    "    return int(date[:2])\n",
    "\n",
    "def get_day(date):\n",
    "    '''Returns the day when the date is the in the 'mm/dd/yyyy' format'''\n",
    "    return int(date[3:-5])\n",
    "\n",
    "\n",
    "def get_year(date):\n",
    "    '''Returns the year when the date is the in the 'mm/dd/yyyy' format'''\n",
    "    return int(date[-4:])"
   ]
  },
  {
   "cell_type": "code",
   "execution_count": 13,
   "metadata": {},
   "outputs": [],
   "source": [
    "# return index of deadliest hurricane over the given date range\n",
    "def deadliest_in_range(year1, year2):\n",
    "    worst_idx = None\n",
    "    for i in range(project.count()):\n",
    "        if get_year(project.get_formed(i)) >= year1 and get_year(project.get_formed(i)) <= year2:  # TODO: check if year is in range\n",
    "            if worst_idx == None or project.get_deaths(worst_idx) < project.get_deaths(i):  # TODO: it is worse than previous?\n",
    "                worst_idx = i\n",
    "    return worst_idx\n"
   ]
  },
  {
   "cell_type": "code",
   "execution_count": 14,
   "metadata": {},
   "outputs": [
    {
     "data": {
      "text/plain": [
       "'Inez'"
      ]
     },
     "execution_count": 14,
     "metadata": {},
     "output_type": "execute_result"
    }
   ],
   "source": [
    "#Q10: What was the deadliest hurricane of the 20th century (1901 to 2000, inclusive)?\n",
    "project.get_name(deadliest_in_range(1901, 2000))"
   ]
  },
  {
   "cell_type": "code",
   "execution_count": 15,
   "metadata": {},
   "outputs": [
    {
     "data": {
      "text/plain": [
       "'San Ciriaco'"
      ]
     },
     "execution_count": 15,
     "metadata": {},
     "output_type": "execute_result"
    }
   ],
   "source": [
    "#Q11: What is the deadliest hurricane ever recorded?\n",
    "project.get_name(deadliest_in_range(-1, 2021))"
   ]
  },
  {
   "cell_type": "code",
   "execution_count": 16,
   "metadata": {},
   "outputs": [
    {
     "data": {
      "text/plain": [
       "1899"
      ]
     },
     "execution_count": 16,
     "metadata": {},
     "output_type": "execute_result"
    }
   ],
   "source": [
    "#Q12: Between the years 1800 and 2016 (both inclusive), which year witnessed the deadliest hurricane?\n",
    "get_year(project.get_formed(deadliest_in_range(1800, 2016)))"
   ]
  },
  {
   "cell_type": "code",
   "execution_count": 17,
   "metadata": {},
   "outputs": [
    {
     "data": {
      "text/plain": [
       "226500000.0"
      ]
     },
     "execution_count": 17,
     "metadata": {},
     "output_type": "execute_result"
    }
   ],
   "source": [
    "#Q13: How much damage (in dollars) was done by the deadliest hurricane between 1901 and 2000 (2000 inclusive)?\n",
    "format_damage(project.get_damage(deadliest_in_range(1901, 2000)))"
   ]
  },
  {
   "cell_type": "code",
   "execution_count": 18,
   "metadata": {},
   "outputs": [],
   "source": [
    "# return number of huricanes formed in month mm\n",
    "def hurricanes_in_month(mm):\n",
    "    num_of_hurricanes = 0\n",
    "    for i in range(project.count()):\n",
    "        if get_month(project.get_formed(i)) == mm:\n",
    "            num_of_hurricanes += 1\n",
    "    return num_of_hurricanes"
   ]
  },
  {
   "cell_type": "code",
   "execution_count": 19,
   "metadata": {},
   "outputs": [
    {
     "data": {
      "text/plain": [
       "1"
      ]
     },
     "execution_count": 19,
     "metadata": {},
     "output_type": "execute_result"
    }
   ],
   "source": [
    "#Q14: How many hurricanes were formed in the month of February?\n",
    "hurricanes_in_month(2)"
   ]
  },
  {
   "cell_type": "code",
   "execution_count": 20,
   "metadata": {},
   "outputs": [],
   "source": [
    "def hurricanes_between_months(mm1,mm2):\n",
    "    num_of_hurricanes = 0\n",
    "    for mm in range(mm1, mm2+1):\n",
    "        for i in range(project.count()):\n",
    "            if get_month(project.get_formed(i)) == mm:\n",
    "                num_of_hurricanes += 1\n",
    "    return num_of_hurricanes"
   ]
  },
  {
   "cell_type": "code",
   "execution_count": 21,
   "metadata": {},
   "outputs": [
    {
     "data": {
      "text/plain": [
       "118"
      ]
     },
     "execution_count": 21,
     "metadata": {},
     "output_type": "execute_result"
    }
   ],
   "source": [
    "#Q15: How many hurricanes formed between June and October (inclusive)?\n",
    "hurricanes_between_months(6,10)"
   ]
  },
  {
   "cell_type": "code",
   "execution_count": 37,
   "metadata": {},
   "outputs": [],
   "source": [
    "def most_hurricanes_month():\n",
    "    num = 0\n",
    "    trace = 0\n",
    "    month = 0\n",
    "    for i in range(project.count()):\n",
    "        for j in range(project.count()):\n",
    "            if get_month(project.get_formed(i)) == get_month(project.get_formed(j)):\n",
    "                trace += 1      \n",
    "        if num < trace:\n",
    "            num = trace\n",
    "            month = get_month(project.get_formed(i))\n",
    "        trace = 0\n",
    "    return month"
   ]
  },
  {
   "cell_type": "code",
   "execution_count": 38,
   "metadata": {},
   "outputs": [
    {
     "data": {
      "text/plain": [
       "9"
      ]
     },
     "execution_count": 38,
     "metadata": {},
     "output_type": "execute_result"
    }
   ],
   "source": [
    "#Q16: Which month experienced the formation of most number of hurricanes?\n",
    "most_hurricanes_month()"
   ]
  },
  {
   "cell_type": "code",
   "execution_count": 39,
   "metadata": {},
   "outputs": [],
   "source": [
    "def hurricanes_damage_in_month(mm):\n",
    "    damage_of_hurricanes = 0\n",
    "    for i in range(project.count()):\n",
    "        if get_month(project.get_formed(i)) == mm:\n",
    "            damage_of_hurricanes += format_damage(project.get_damage(i))\n",
    "    return damage_of_hurricanes"
   ]
  },
  {
   "cell_type": "code",
   "execution_count": 40,
   "metadata": {},
   "outputs": [
    {
     "data": {
      "text/plain": [
       "295500000.0"
      ]
     },
     "execution_count": 40,
     "metadata": {},
     "output_type": "execute_result"
    }
   ],
   "source": [
    "#Q17: What is the total damage across all hurricanes that formed in the month of January, in dollars?\n",
    "hurricanes_damage_in_month(1)"
   ]
  },
  {
   "cell_type": "code",
   "execution_count": 41,
   "metadata": {},
   "outputs": [],
   "source": [
    "def hurricanes_between_years(year1,year2):\n",
    "    num_of_hurricanes = 0\n",
    "    for year in range(year1, year2+1):\n",
    "        for i in range(project.count()):\n",
    "            if get_year(project.get_formed(i)) == year:\n",
    "                num_of_hurricanes += 1\n",
    "    return num_of_hurricanes"
   ]
  },
  {
   "cell_type": "code",
   "execution_count": 42,
   "metadata": {},
   "outputs": [
    {
     "data": {
      "text/plain": [
       "25"
      ]
     },
     "execution_count": 42,
     "metadata": {},
     "output_type": "execute_result"
    }
   ],
   "source": [
    "#Q18: How many hurricanes were formed in the decade 2001-2010 (inclusive)?\n",
    "hurricanes_between_years(2001,2010)"
   ]
  },
  {
   "cell_type": "code",
   "execution_count": 43,
   "metadata": {},
   "outputs": [
    {
     "data": {
      "text/plain": [
       "1"
      ]
     },
     "execution_count": 43,
     "metadata": {},
     "output_type": "execute_result"
    }
   ],
   "source": [
    "#Q19: How many hurricanes were active on 31st December?\n",
    "num = 0\n",
    "for i in range(project.count()):\n",
    "    if get_year(project.get_formed(i)) < get_year(project.get_dissipated(i)):\n",
    "        num += 1\n",
    "num"
   ]
  },
  {
   "cell_type": "code",
   "execution_count": 44,
   "metadata": {},
   "outputs": [],
   "source": [
    "def most_hurricanes_year():\n",
    "    num = 0\n",
    "    trace = 0\n",
    "    year = 0\n",
    "    for i in range(project.count()):\n",
    "        for j in range(project.count()):\n",
    "            if get_year(project.get_formed(i)) == get_year(project.get_formed(j)):\n",
    "                trace += 1      \n",
    "        if num < trace:\n",
    "            num = trace\n",
    "            year = get_year(project.get_formed(i))\n",
    "        trace = 0\n",
    "    return year"
   ]
  },
  {
   "cell_type": "code",
   "execution_count": 45,
   "metadata": {},
   "outputs": [
    {
     "data": {
      "text/plain": [
       "2004"
      ]
     },
     "execution_count": 45,
     "metadata": {},
     "output_type": "execute_result"
    }
   ],
   "source": [
    "#Q20: What year experienced the formation of most number of hurricanes?\n",
    "most_hurricanes_year()"
   ]
  },
  {
   "cell_type": "code",
   "execution_count": null,
   "metadata": {},
   "outputs": [],
   "source": []
  },
  {
   "cell_type": "code",
   "execution_count": null,
   "metadata": {},
   "outputs": [],
   "source": []
  }
 ],
 "metadata": {
  "kernelspec": {
   "display_name": "Python 3",
   "language": "python",
   "name": "python3"
  },
  "language_info": {
   "codemirror_mode": {
    "name": "ipython",
    "version": 3
   },
   "file_extension": ".py",
   "mimetype": "text/x-python",
   "name": "python",
   "nbconvert_exporter": "python",
   "pygments_lexer": "ipython3",
   "version": "3.8.5"
  }
 },
 "nbformat": 4,
 "nbformat_minor": 4
}
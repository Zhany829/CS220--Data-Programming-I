{
 "cells": [
  {
   "cell_type": "code",
   "execution_count": 1,
   "metadata": {},
   "outputs": [],
   "source": [
    "# project: p11\n",
    "# submitter: wchen394\n",
    "# partner: zyu293\n",
    "# hours: 2"
   ]
  },
  {
   "cell_type": "code",
   "execution_count": 2,
   "metadata": {},
   "outputs": [],
   "source": [
    "import os, json, csv\n",
    "from collections import namedtuple\n",
    "from operator import attrgetter\n",
    "import copy \n",
    "import matplotlib\n",
    "import pandas as pd"
   ]
  },
  {
   "cell_type": "code",
   "execution_count": 3,
   "metadata": {},
   "outputs": [],
   "source": [
    "Tweet = namedtuple('Tweet', ['tweet_id', 'username', 'num_liked', 'length'])\n",
    "def get_tweets(file,folder):\n",
    "    res = []\n",
    "    f = open(os.path.join(folder, file), encoding=\"utf-8\")\n",
    "    reader = csv.DictReader(f)\n",
    "    for row in reader:\n",
    "        if row[\"is_retweet\"] != None:\n",
    "            like = 0\n",
    "            if str(row[\"num_liked\"])[-1] == 'K':\n",
    "                like = int(str(row[\"num_liked\"])[:-1]) * 1000\n",
    "            elif str(row[\"num_liked\"])[-1] == 'M':\n",
    "                like = int(str(row[\"num_liked\"])[:-1]) * 1000000\n",
    "            else:\n",
    "                like = int(row[\"num_liked\"])\n",
    "            t = Tweet(row[\"tweet_id\"], row[\"username\"], like, len(row[\"tweet_text\"]))\n",
    "            res.append(t)\n",
    "    f.close()\n",
    "    return res\n",
    "def get_tweets_json(file,folder):\n",
    "    res = []\n",
    "    f = open(os.path.join(folder, file), encoding=\"utf-8\")\n",
    "    json_str = f.read()\n",
    "    f.close()\n",
    "    try:\n",
    "        data = json.loads(json_str)\n",
    "        for key in data:\n",
    "                if data[key][\"num_liked\"] != 'unkown':\n",
    "                    like = 0\n",
    "                    if str(data[key][\"num_liked\"])[-1].lower() == 'k':\n",
    "                        like = int(str(data[key][\"num_liked\"])[:-1]) * 1000\n",
    "                    elif str(data[key][\"num_liked\"])[-1].lower() == 'm':\n",
    "                        like = int(str(data[key][\"num_liked\"])[:-1]) * 1000000\n",
    "                    else:\n",
    "                        like = int(data[key][\"num_liked\"])\n",
    "                    t = Tweet(key, data[key][\"username\"], like, len(data[key][\"tweet_text\"]))\n",
    "                    res.append(t)\n",
    "                else:\n",
    "                    t = Tweet(key, data[key][\"username\"], 0, len(data[key][\"tweet_text\"]))\n",
    "                    res.append(t)\n",
    "    except json.decoder.JSONDecodeError:\n",
    "        return res\n",
    "    return res\n",
    "def tweets_greater_than(textLength,directory):\n",
    "    files = os.listdir(directory)\n",
    "    res = []\n",
    "    for file in files:\n",
    "        if file[-5:] == '.json':\n",
    "            cur = []\n",
    "            cur = get_tweets_json(file,directory)\n",
    "            res.append(cur)\n",
    "        elif file[-4:] == '.csv':\n",
    "            cur = []\n",
    "            cur = get_tweets(file,directory)\n",
    "            res.append(cur)\n",
    "    ret = []\n",
    "    for ele in res:\n",
    "        if ele != None:\n",
    "            ret.append(ele)\n",
    "    filt = []\n",
    "    for ele in ret:\n",
    "        for tweet in ele:\n",
    "            if tweet.length > textLength:\n",
    "                filt.append(tweet)\n",
    "    if textLength == 0:\n",
    "        filted = []\n",
    "        for ele in ret:\n",
    "            for tweet in ele:\n",
    "                filted.append(tweet)\n",
    "        return filted\n",
    "    return filt"
   ]
  },
  {
   "cell_type": "code",
   "execution_count": 4,
   "metadata": {},
   "outputs": [],
   "source": [
    "#Return a list of all the tweet objects in full_data.\n",
    "all_tweets = tweets_greater_than(0,\"full_data\")\n",
    "def get_num_tweetLength():\n",
    "    res = set()\n",
    "    for tweet in all_tweets:\n",
    "        res.add(tweet.length)\n",
    "    return len(res)"
   ]
  },
  {
   "cell_type": "code",
   "execution_count": 5,
   "metadata": {},
   "outputs": [
    {
     "data": {
      "text/plain": [
       "131"
      ]
     },
     "execution_count": 5,
     "metadata": {},
     "output_type": "execute_result"
    }
   ],
   "source": [
    "#q1: How many unique tweet lengths are present in the dataset?\n",
    "get_num_tweetLength()"
   ]
  },
  {
   "cell_type": "code",
   "execution_count": 6,
   "metadata": {},
   "outputs": [],
   "source": [
    "def get_all_usernames():\n",
    "    res = set()\n",
    "    for tweet in all_tweets:\n",
    "        res.add(tweet.username)\n",
    "    return res"
   ]
  },
  {
   "cell_type": "code",
   "execution_count": 7,
   "metadata": {},
   "outputs": [
    {
     "data": {
      "text/plain": [
       "{'USERID_1',\n",
       " 'USERID_10',\n",
       " 'USERID_2',\n",
       " 'USERID_3',\n",
       " 'USERID_4',\n",
       " 'USERID_5',\n",
       " 'USERID_6',\n",
       " 'USERID_7',\n",
       " 'USERID_8',\n",
       " 'USERID_9'}"
      ]
     },
     "execution_count": 7,
     "metadata": {},
     "output_type": "execute_result"
    }
   ],
   "source": [
    "#q2: Which usernames appear in the dataset?\n",
    "get_all_usernames()"
   ]
  },
  {
   "cell_type": "code",
   "execution_count": 8,
   "metadata": {},
   "outputs": [],
   "source": [
    "def get_prolific():\n",
    "    users = list(get_all_usernames())\n",
    "    res = {}\n",
    "    for user in users:\n",
    "        res.update({user:0})\n",
    "    for tweet in all_tweets:\n",
    "        res[tweet.username] += 1 \n",
    "    return res"
   ]
  },
  {
   "cell_type": "code",
   "execution_count": 9,
   "metadata": {},
   "outputs": [
    {
     "data": {
      "text/plain": [
       "{'USERID_6': 51,\n",
       " 'USERID_10': 45,\n",
       " 'USERID_8': 31,\n",
       " 'USERID_2': 47,\n",
       " 'USERID_7': 55,\n",
       " 'USERID_9': 44,\n",
       " 'USERID_5': 46,\n",
       " 'USERID_3': 39,\n",
       " 'USERID_4': 35,\n",
       " 'USERID_1': 52}"
      ]
     },
     "execution_count": 9,
     "metadata": {},
     "output_type": "execute_result"
    }
   ],
   "source": [
    "#q3: How prolific is each user?\n",
    "get_prolific()"
   ]
  },
  {
   "cell_type": "code",
   "execution_count": 10,
   "metadata": {},
   "outputs": [],
   "source": [
    "def get_each_longest_length():\n",
    "    users = list(get_all_usernames())\n",
    "    res = {}\n",
    "    for user in users:\n",
    "        res.update({user:0})\n",
    "    for tweet in all_tweets:\n",
    "        if res[tweet.username] < tweet.length:\n",
    "            res[tweet.username] = tweet.length\n",
    "    return res"
   ]
  },
  {
   "cell_type": "code",
   "execution_count": 11,
   "metadata": {},
   "outputs": [
    {
     "data": {
      "text/plain": [
       "{'USERID_6': 145,\n",
       " 'USERID_10': 136,\n",
       " 'USERID_8': 145,\n",
       " 'USERID_2': 138,\n",
       " 'USERID_7': 144,\n",
       " 'USERID_9': 137,\n",
       " 'USERID_5': 146,\n",
       " 'USERID_3': 138,\n",
       " 'USERID_4': 138,\n",
       " 'USERID_1': 150}"
      ]
     },
     "execution_count": 11,
     "metadata": {},
     "output_type": "execute_result"
    }
   ],
   "source": [
    "#q4: What is the length of the longest tweet for each user?\n",
    "get_each_longest_length()"
   ]
  },
  {
   "cell_type": "code",
   "execution_count": 12,
   "metadata": {},
   "outputs": [],
   "source": [
    "def get_each_largest_likes():\n",
    "    users = list(get_all_usernames())\n",
    "    res = {}\n",
    "    for user in users:\n",
    "        res.update({user:0})\n",
    "    for tweet in all_tweets:\n",
    "        if res[tweet.username] < tweet.num_liked:\n",
    "            res[tweet.username] = tweet.num_liked\n",
    "    return res"
   ]
  },
  {
   "cell_type": "code",
   "execution_count": 13,
   "metadata": {},
   "outputs": [
    {
     "data": {
      "text/plain": [
       "{'USERID_6': 9149,\n",
       " 'USERID_10': 9936,\n",
       " 'USERID_8': 915000,\n",
       " 'USERID_2': 869000000,\n",
       " 'USERID_7': 9851,\n",
       " 'USERID_9': 9728,\n",
       " 'USERID_5': 9608,\n",
       " 'USERID_3': 9678,\n",
       " 'USERID_4': 9618,\n",
       " 'USERID_1': 9393}"
      ]
     },
     "execution_count": 13,
     "metadata": {},
     "output_type": "execute_result"
    }
   ],
   "source": [
    "#q5: What is the largest number of likes received on a tweet for each user?\n",
    "get_each_largest_likes()"
   ]
  },
  {
   "cell_type": "code",
   "execution_count": 14,
   "metadata": {},
   "outputs": [],
   "source": [
    "def scatter(x, y, xlabel=\"please label me!\", ylabel=\"please label me!\"):\n",
    "    df = pd.DataFrame({\"x\":x, \"y\":y})\n",
    "    ax = df.plot.scatter(x=\"x\", y=\"y\", color=\"black\", fontsize=16, xlim=0, ylim=0)\n",
    "    ax.set_xlabel(xlabel, fontsize=16)\n",
    "    ax.set_ylabel(ylabel, fontsize=16)\n",
    "    ax.get_xaxis().get_major_formatter().set_scientific(False)\n",
    "    ax.get_yaxis().get_major_formatter().set_scientific(False)"
   ]
  },
  {
   "cell_type": "code",
   "execution_count": 15,
   "metadata": {},
   "outputs": [
    {
     "data": {
      "image/png": "[encoded data removed]",
      "text/plain": [
       "<Figure size 432x288 with 1 Axes>"
      ]
     },
     "metadata": {
      "needs_background": "light"
     },
     "output_type": "display_data"
    }
   ],
   "source": [
    "#q6: What is the relationship between the number of tweets by a user and the length of their longest tweet?\n",
    "num_tweet = get_prolific()\n",
    "len_tweet = get_each_longest_length()\n",
    "scatter(num_tweet, len_tweet, xlabel=\"Number of tweets\", ylabel=\"Longest length\")"
   ]
  },
  {
   "cell_type": "code",
   "execution_count": 16,
   "metadata": {},
   "outputs": [
    {
     "data": {
      "image/png": "[encoded data removed]",
      "text/plain": [
       "<Figure size 432x288 with 1 Axes>"
      ]
     },
     "metadata": {
      "needs_background": "light"
     },
     "output_type": "display_data"
    }
   ],
   "source": [
    "#q7: What is the relationship between the number of tweets and the largest number of likes?\n",
    "largest_like = get_each_largest_likes()\n",
    "scatter(num_tweet, largest_like, xlabel=\"Number of tweets\", ylabel=\"Largest likes\")"
   ]
  },
  {
   "cell_type": "code",
   "execution_count": 17,
   "metadata": {},
   "outputs": [
    {
     "data": {
      "image/png": "[encoded data removed]",
      "text/plain": [
       "<Figure size 432x288 with 1 Axes>"
      ]
     },
     "metadata": {
      "needs_background": "light"
     },
     "output_type": "display_data"
    }
   ],
   "source": [
    "#q8: What is the relationship between the length of their longest tweet and the largest number of likes?\n",
    "scatter(len_tweet, largest_like, xlabel=\"Longest length\", ylabel=\"Largest likes\")"
   ]
  },
  {
   "cell_type": "code",
   "execution_count": 18,
   "metadata": {},
   "outputs": [],
   "source": [
    "def get_outlier():\n",
    "    res = ''\n",
    "    max_num = 0\n",
    "    for user in largest_like:\n",
    "        if largest_like[user] > max_num:\n",
    "            max_num = largest_like[user]\n",
    "            res = user\n",
    "    return res"
   ]
  },
  {
   "cell_type": "code",
   "execution_count": 19,
   "metadata": {},
   "outputs": [
    {
     "data": {
      "text/plain": [
       "'USERID_2'"
      ]
     },
     "execution_count": 19,
     "metadata": {},
     "output_type": "execute_result"
    }
   ],
   "source": [
    "#q9: What is the username of the user represented by the outlier in the last two plots?\n",
    "get_outlier()"
   ]
  },
  {
   "cell_type": "code",
   "execution_count": 20,
   "metadata": {},
   "outputs": [],
   "source": [
    "def get_outlier_user_tweet():\n",
    "    outlier = get_outlier()\n",
    "    res = []\n",
    "    for tweet in all_tweets:\n",
    "        if tweet.username == outlier:\n",
    "            res.append(tweet)\n",
    "    res = sorted(res, key=attrgetter('num_liked'))\n",
    "    res = res[::-1]\n",
    "    return res"
   ]
  },
  {
   "cell_type": "code",
   "execution_count": 21,
   "metadata": {},
   "outputs": [
    {
     "data": {
      "text/plain": [
       "[Tweet(tweet_id='1467894593', username='USERID_2', num_liked=869000000, length=136),\n",
       " Tweet(tweet_id='1467875163', username='USERID_2', num_liked=9891, length=69),\n",
       " Tweet(tweet_id='1467862806', username='USERID_2', num_liked=9465, length=68),\n",
       " Tweet(tweet_id='1467907751', username='USERID_2', num_liked=9048, length=110),\n",
       " Tweet(tweet_id='1467928764', username='USERID_2', num_liked=9026, length=41),\n",
       " Tweet(tweet_id='1467943007', username='USERID_2', num_liked=9000, length=130),\n",
       " Tweet(tweet_id='1467918682', username='USERID_2', num_liked=8884, length=102),\n",
       " Tweet(tweet_id='1467935121', username='USERID_2', num_liked=8740, length=37),\n",
       " Tweet(tweet_id='1467947913', username='USERID_2', num_liked=8578, length=36),\n",
       " Tweet(tweet_id='1467892667', username='USERID_2', num_liked=8270, length=20),\n",
       " Tweet(tweet_id='1467897316', username='USERID_2', num_liked=7890, length=64),\n",
       " Tweet(tweet_id='1467854917', username='USERID_2', num_liked=7741, length=30),\n",
       " Tweet(tweet_id='1467961106', username='USERID_2', num_liked=7552, length=65),\n",
       " Tweet(tweet_id='1467951252', username='USERID_2', num_liked=7515, length=48),\n",
       " Tweet(tweet_id='1467889988', username='USERID_2', num_liked=7394, length=51),\n",
       " Tweet(tweet_id='1467916959', username='USERID_2', num_liked=7081, length=69),\n",
       " Tweet(tweet_id='1467874916', username='USERID_2', num_liked=6935, length=23),\n",
       " Tweet(tweet_id='1467855981', username='USERID_2', num_liked=6455, length=92),\n",
       " Tweet(tweet_id='1467872247', username='USERID_2', num_liked=6316, length=137),\n",
       " Tweet(tweet_id='1467918850', username='USERID_2', num_liked=5383, length=103),\n",
       " Tweet(tweet_id='1467919055', username='USERID_2', num_liked=5370, length=68),\n",
       " Tweet(tweet_id='1467915670', username='USERID_2', num_liked=5287, length=138),\n",
       " Tweet(tweet_id='1467880442', username='USERID_2', num_liked=5125, length=96),\n",
       " Tweet(tweet_id='1467896253', username='USERID_2', num_liked=4906, length=91),\n",
       " Tweet(tweet_id='1467962897', username='USERID_2', num_liked=4898, length=98),\n",
       " Tweet(tweet_id='1467855812', username='USERID_2', num_liked=4806, length=28),\n",
       " Tweet(tweet_id='1467930220', username='USERID_2', num_liked=4770, length=94),\n",
       " Tweet(tweet_id='1467852031', username='USERID_2', num_liked=4565, length=63),\n",
       " Tweet(tweet_id='1467905378', username='USERID_2', num_liked=4420, length=111),\n",
       " Tweet(tweet_id='1467877833', username='USERID_2', num_liked=4270, length=89),\n",
       " Tweet(tweet_id='1467870866', username='USERID_2', num_liked=4166, length=82),\n",
       " Tweet(tweet_id='1467879984', username='USERID_2', num_liked=3694, length=69),\n",
       " Tweet(tweet_id='1467898511', username='USERID_2', num_liked=3477, length=99),\n",
       " Tweet(tweet_id='1467926632', username='USERID_2', num_liked=2602, length=98),\n",
       " Tweet(tweet_id='1467862213', username='USERID_2', num_liked=2455, length=138),\n",
       " Tweet(tweet_id='1467878633', username='USERID_2', num_liked=2351, length=33),\n",
       " Tweet(tweet_id='1467878971', username='USERID_2', num_liked=2238, length=27),\n",
       " Tweet(tweet_id='1467953090', username='USERID_2', num_liked=1896, length=64),\n",
       " Tweet(tweet_id='1467908798', username='USERID_2', num_liked=1659, length=51),\n",
       " Tweet(tweet_id='1467918015', username='USERID_2', num_liked=1508, length=97),\n",
       " Tweet(tweet_id='1467926444', username='USERID_2', num_liked=1394, length=61),\n",
       " Tweet(tweet_id='1467914499', username='USERID_2', num_liked=910, length=138),\n",
       " Tweet(tweet_id='1467968584', username='USERID_2', num_liked=777, length=132),\n",
       " Tweet(tweet_id='1467933102', username='USERID_2', num_liked=625, length=135),\n",
       " Tweet(tweet_id='1467953277', username='USERID_2', num_liked=494, length=31),\n",
       " Tweet(tweet_id='1467890222', username='USERID_2', num_liked=227, length=107),\n",
       " Tweet(tweet_id='1467871956', username='USERID_2', num_liked=110, length=68)]"
      ]
     },
     "execution_count": 21,
     "metadata": {},
     "output_type": "execute_result"
    }
   ],
   "source": [
    "#q10: What are the tweets made by that outlier user?\n",
    "get_outlier_user_tweet()"
   ]
  },
  {
   "cell_type": "code",
   "execution_count": 22,
   "metadata": {},
   "outputs": [],
   "source": [
    "def get_avg_like():\n",
    "    user = get_outlier_user_tweet()\n",
    "    user.pop(0)\n",
    "    like = 0\n",
    "    for ele in user:\n",
    "        like += ele.num_liked\n",
    "    return round(like/len(user),2)"
   ]
  },
  {
   "cell_type": "code",
   "execution_count": 23,
   "metadata": {},
   "outputs": [
    {
     "data": {
      "text/plain": [
       "5003.57"
      ]
     },
     "execution_count": 23,
     "metadata": {},
     "output_type": "execute_result"
    }
   ],
   "source": [
    "#q11: After excluding the outlier tweet of this outlier user (found in q10), what is the average of the remaining num_liked values for this user?\n",
    "get_avg_like()"
   ]
  },
  {
   "cell_type": "code",
   "execution_count": 24,
   "metadata": {},
   "outputs": [],
   "source": [
    "def get_new_usernames(time):\n",
    "    res = set()\n",
    "    tweets = exclude_outlier(time)\n",
    "    for tweet in tweets:\n",
    "        res.add(tweet.username)\n",
    "    return res\n",
    "def get_each_largest_likes_new(time):\n",
    "    users = list(get_new_usernames(time))\n",
    "    tweets = exclude_outlier(time)\n",
    "    res = {}\n",
    "    for user in users:\n",
    "        res.update({user:0})\n",
    "    for tweet in tweets:\n",
    "        if res[tweet.username] < tweet.num_liked:\n",
    "            res[tweet.username] = tweet.num_liked\n",
    "    return res\n",
    "def exclude_outlier(time):\n",
    "    replicate = all_tweets\n",
    "    replicate= sorted(replicate, key=attrgetter('num_liked'))\n",
    "    replicate = replicate[::-1]\n",
    "    for i in range(time):\n",
    "        replicate.pop(0)\n",
    "    return replicate\n",
    "def get_prolific_new(time):\n",
    "    users = list(get_new_usernames(time))\n",
    "    tweets = exclude_outlier(time)\n",
    "    res = {}\n",
    "    for user in users:\n",
    "        res.update({user:0})\n",
    "    for tweet in tweets:\n",
    "        res[tweet.username] += 1 \n",
    "    return res\n"
   ]
  },
  {
   "cell_type": "code",
   "execution_count": 25,
   "metadata": {},
   "outputs": [
    {
     "data": {
      "image/png": "[encoded data removed]",
      "text/plain": [
       "<Figure size 432x288 with 1 Axes>"
      ]
     },
     "metadata": {
      "needs_background": "light"
     },
     "output_type": "display_data"
    }
   ],
   "source": [
    "#q12: If we exclude the top 3 most-liked tweets (among all tweets), what is the relationship between the number of tweets and the largest number of likes?\n",
    "largest_like = get_each_largest_likes_new(3)\n",
    "num_tweet = get_prolific_new(3)\n",
    "scatter(num_tweet, largest_like, xlabel=\"Number of tweets\", ylabel=\"Largest likes\")"
   ]
  },
  {
   "cell_type": "code",
   "execution_count": 26,
   "metadata": {},
   "outputs": [
    {
     "data": {
      "image/png": "[encoded data removed]",
      "text/plain": [
       "<Figure size 432x288 with 1 Axes>"
      ]
     },
     "metadata": {
      "needs_background": "light"
     },
     "output_type": "display_data"
    }
   ],
   "source": [
    "#q13: If we exclude the 20 most-liked tweets (among all tweets), what is the relationship between the number of tweets and the largest number of likes?\n",
    "largest_like = get_each_largest_likes_new(20)\n",
    "num_tweet = get_prolific_new(20)\n",
    "scatter(num_tweet, largest_like, xlabel=\"Number of tweets\", ylabel=\"Largest likes\")"
   ]
  },
  {
   "cell_type": "code",
   "execution_count": 27,
   "metadata": {},
   "outputs": [],
   "source": [
    "def get_files(dire, res):\n",
    "    if os.listdir(dire) == []:\n",
    "     #   print(1)\n",
    "        return res\n",
    "    #print(2)\n",
    "    for ele in os.listdir(dire):\n",
    "        #print(ele)\n",
    "        if os.path.isfile(os.path.join(dire,ele)):\n",
    "        #    print(4)\n",
    "            res.append(os.path.join(dire,ele))\n",
    "        if os.path.isdir(os.path.join(dire,ele)):\n",
    "       #     print(4)\n",
    "            res = get_files(os.path.join(dire,ele), res)\n",
    "      #  print(ele)\n",
    "    #print(5)\n",
    "    return sorted(res)"
   ]
  },
  {
   "cell_type": "code",
   "execution_count": 28,
   "metadata": {},
   "outputs": [
    {
     "data": {
      "text/plain": [
       "['play\\\\rb\\\\ppt.ppt', 'play\\\\rb\\\\rb9\\\\12.xls', 'play\\\\rb\\\\rb9\\\\89.csv']"
      ]
     },
     "execution_count": 28,
     "metadata": {},
     "output_type": "execute_result"
    }
   ],
   "source": [
    "#q14: What are the files in the rb directory of play directory?\n",
    "\n",
    "# os.listdir\n",
    "# os.path.join\n",
    "# os.path.isfile\n",
    "# os.path.isdir\n",
    "res= []\n",
    "get_files(os.path.join(\"play\",\"rb\"), res)\n",
    "#os.listdir(os.path.join(\"play\",\"rb\"))"
   ]
  },
  {
   "cell_type": "code",
   "execution_count": 29,
   "metadata": {},
   "outputs": [
    {
     "data": {
      "text/plain": [
       "['play\\\\ls\\\\qwe\\\\iuqwe.json', 'play\\\\ls\\\\qwe\\\\usun.pdf']"
      ]
     },
     "execution_count": 29,
     "metadata": {},
     "output_type": "execute_result"
    }
   ],
   "source": [
    "#q15: What are the files in the qwe directory of ls directory of the play directory?\n",
    "res= []\n",
    "get_files(os.path.join(\"play\",\"ls\",\"qwe\"), res)"
   ]
  },
  {
   "cell_type": "code",
   "execution_count": 30,
   "metadata": {},
   "outputs": [
    {
     "data": {
      "text/plain": [
       "['play\\\\ls\\\\lu.txt',\n",
       " 'play\\\\ls\\\\mf.py',\n",
       " 'play\\\\ls\\\\qwe\\\\iuqwe.json',\n",
       " 'play\\\\ls\\\\qwe\\\\usun.pdf',\n",
       " 'play\\\\ou\\\\a',\n",
       " 'play\\\\ou\\\\b',\n",
       " 'play\\\\ou\\\\quap\\\\aoq\\\\aqnsa',\n",
       " 'play\\\\ou\\\\quap\\\\aoq\\\\qsonj',\n",
       " 'play\\\\ou\\\\quap\\\\qonxu.txt',\n",
       " 'play\\\\ou\\\\quap\\\\uikwe',\n",
       " 'play\\\\ou\\\\v',\n",
       " 'play\\\\rb\\\\ppt.ppt',\n",
       " 'play\\\\rb\\\\rb9\\\\12.xls',\n",
       " 'play\\\\rb\\\\rb9\\\\89.csv']"
      ]
     },
     "execution_count": 30,
     "metadata": {},
     "output_type": "execute_result"
    }
   ],
   "source": [
    "#q16: What are the files in the play directory?\n",
    "res= []\n",
    "get_files(os.path.join(\"play\"), res)"
   ]
  },
  {
   "cell_type": "code",
   "execution_count": 31,
   "metadata": {},
   "outputs": [
    {
     "data": {
      "text/plain": [
       "['recursive\\\\others\\\\USERID_10.json',\n",
       " 'recursive\\\\others\\\\USERID_5.json',\n",
       " 'recursive\\\\others\\\\USERID_6.json',\n",
       " 'recursive\\\\others\\\\USERID_7.json',\n",
       " 'recursive\\\\others\\\\USERID_8.json',\n",
       " 'recursive\\\\others\\\\USERID_9.json']"
      ]
     },
     "execution_count": 31,
     "metadata": {},
     "output_type": "execute_result"
    }
   ],
   "source": [
    "#q17: What are the files in the others directory of the recursive directory?\n",
    "res= []\n",
    "get_files(os.path.join(\"recursive\",\"others\"), res)"
   ]
  },
  {
   "cell_type": "code",
   "execution_count": 32,
   "metadata": {},
   "outputs": [
    {
     "data": {
      "text/plain": [
       "['recursive\\\\USERID_1\\\\tweets.json',\n",
       " 'recursive\\\\USERID_2\\\\tweets.json',\n",
       " 'recursive\\\\USERID_3\\\\tweets.json',\n",
       " 'recursive\\\\USERID_4\\\\1.csv',\n",
       " 'recursive\\\\USERID_4\\\\1.json',\n",
       " 'recursive\\\\USERID_4\\\\2.csv',\n",
       " 'recursive\\\\USERID_4\\\\2.json',\n",
       " 'recursive\\\\USERID_4\\\\false\\\\tweets.json',\n",
       " 'recursive\\\\USERID_4\\\\true\\\\tweets.json',\n",
       " 'recursive\\\\others\\\\USERID_10.json',\n",
       " 'recursive\\\\others\\\\USERID_5.json',\n",
       " 'recursive\\\\others\\\\USERID_6.json',\n",
       " 'recursive\\\\others\\\\USERID_7.json',\n",
       " 'recursive\\\\others\\\\USERID_8.json',\n",
       " 'recursive\\\\others\\\\USERID_9.json']"
      ]
     },
     "execution_count": 32,
     "metadata": {},
     "output_type": "execute_result"
    }
   ],
   "source": [
    "#q18: What are the files in the recursive directory?\n",
    "res= []\n",
    "get_files(os.path.join(\"recursive\"), res)"
   ]
  },
  {
   "cell_type": "code",
   "execution_count": 33,
   "metadata": {},
   "outputs": [],
   "source": [
    "def get_num_tweets():\n",
    "    res= []\n",
    "    files = get_files(os.path.join(\"recursive\",\"USERID_4\"), res)\n",
    "    res = 0\n",
    "    for file in files:\n",
    "        f = open(os.path.join(file), encoding=\"utf-8\")\n",
    "        reader = csv.DictReader(f)\n",
    "        if file[-4:] == '.csv':\n",
    "            for row in reader:\n",
    "                res += 1\n",
    "        if file[-5:] == '.json':\n",
    "            json_str = f.read()\n",
    "            f.close()\n",
    "            data = json.loads(json_str)\n",
    "            for key in data:\n",
    "                res += 1\n",
    "        f.close()\n",
    "    return res"
   ]
  },
  {
   "cell_type": "code",
   "execution_count": 34,
   "metadata": {},
   "outputs": [
    {
     "data": {
      "text/plain": [
       "37"
      ]
     },
     "execution_count": 34,
     "metadata": {},
     "output_type": "execute_result"
    }
   ],
   "source": [
    "#q19: How many tweets are in the files in the USERID_4 directory of the recursive directory?\n",
    "get_num_tweets()"
   ]
  },
  {
   "cell_type": "code",
   "execution_count": 35,
   "metadata": {},
   "outputs": [],
   "source": [
    "def get_num_tweets_20():\n",
    "    res= []\n",
    "    files = get_files(os.path.join(\"recursive\"), res)\n",
    "    res = 0\n",
    "    for file in files:\n",
    "        f = open(os.path.join(file), encoding=\"utf-8\")\n",
    "        reader = csv.DictReader(f)\n",
    "        if file[-4:] == '.csv':\n",
    "            for row in reader:\n",
    "                res += 1\n",
    "        if file[-5:] == '.json':\n",
    "            json_str = f.read()\n",
    "            f.close()\n",
    "            data = json.loads(json_str)\n",
    "            for key in data:\n",
    "                res += 1\n",
    "        f.close()\n",
    "    return res"
   ]
  },
  {
   "cell_type": "code",
   "execution_count": 36,
   "metadata": {},
   "outputs": [
    {
     "data": {
      "text/plain": [
       "220"
      ]
     },
     "execution_count": 36,
     "metadata": {},
     "output_type": "execute_result"
    }
   ],
   "source": [
    "#q20: How many tweets are in the files in the recursive directory?\n",
    "get_num_tweets_20()"
   ]
  },
  {
   "cell_type": "code",
   "execution_count": null,
   "metadata": {},
   "outputs": [],
   "source": []
  }
 ],
 "metadata": {
  "kernelspec": {
   "display_name": "Python 3",
   "language": "python",
   "name": "python3"
  },
  "language_info": {
   "codemirror_mode": {
    "name": "ipython",
    "version": 3
   },
   "file_extension": ".py",
   "mimetype": "text/x-python",
   "name": "python",
   "nbconvert_exporter": "python",
   "pygments_lexer": "ipython3",
   "version": "3.8.5"
  }
 },
 "nbformat": 4,
 "nbformat_minor": 4
}
